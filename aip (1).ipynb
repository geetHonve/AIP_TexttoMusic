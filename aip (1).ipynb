{
  "nbformat": 4,
  "nbformat_minor": 0,
  "metadata": {
    "colab": {
      "provenance": []
    },
    "kernelspec": {
      "name": "python3",
      "display_name": "Python 3"
    },
    "language_info": {
      "name": "python"
    }
  },
  "cells": [
    {
      "cell_type": "code",
      "source": [
        "!pip install pytube"
      ],
      "metadata": {
        "colab": {
          "base_uri": "https://localhost:8080/"
        },
        "id": "vOMQO2rZTlXv",
        "outputId": "fa22bdf1-888c-4132-afd6-ec7d58bf5f8e"
      },
      "execution_count": null,
      "outputs": [
        {
          "output_type": "stream",
          "name": "stdout",
          "text": [
            "Looking in indexes: https://pypi.org/simple, https://us-python.pkg.dev/colab-wheels/public/simple/\n",
            "Requirement already satisfied: pytube in /usr/local/lib/python3.10/dist-packages (15.0.0)\n"
          ]
        }
      ]
    },
    {
      "cell_type": "code",
      "source": [
        "import pytube\n",
        "from pytube import YouTube\n",
        "from moviepy.editor import AudioFileClip\n"
      ],
      "metadata": {
        "id": "i300QSr-1i1d"
      },
      "execution_count": null,
      "outputs": []
    },
    {
      "cell_type": "code",
      "source": [
        "youtube_url = \"https://www.youtube.com/watch?v=lUUte2o2Sn8\"\n",
        "yt = YouTube(youtube_url)\n"
      ],
      "metadata": {
        "id": "5RGwcH3C1qxh"
      },
      "execution_count": null,
      "outputs": []
    },
    {
      "cell_type": "code",
      "source": [
        "video_title = yt.title\n",
        "video_duration = yt.length\n",
        "video_streams = yt.streams.filter(only_audio=True).all()\n"
      ],
      "metadata": {
        "colab": {
          "base_uri": "https://localhost:8080/"
        },
        "id": "13YQQhUD1xbt",
        "outputId": "b4879b78-7980-48f0-b857-557011db4c02"
      },
      "execution_count": null,
      "outputs": [
        {
          "output_type": "stream",
          "name": "stderr",
          "text": [
            "WARNING:py.warnings:<ipython-input-4-249b34561e6c>:3: DeprecationWarning: Call to deprecated function all (This object can be treated as a list, all() is useless).\n",
            "  video_streams = yt.streams.filter(only_audio=True).all()\n",
            "\n"
          ]
        }
      ]
    },
    {
      "cell_type": "code",
      "source": [
        "audio_stream = video_streams[0]  # Choose the first audio stream\n",
        "temp_file = audio_stream.download(filename=\"temp\")\n"
      ],
      "metadata": {
        "colab": {
          "base_uri": "https://localhost:8080/"
        },
        "id": "7q9evMlg2UYj",
        "outputId": "772cb1d3-3865-43e3-935d-f5a2d78ce943"
      },
      "execution_count": null,
      "outputs": [
        {
          "output_type": "stream",
          "name": "stderr",
          "text": [
            "WARNING:py.warnings:/usr/local/lib/python3.10/dist-packages/ipykernel/ipkernel.py:283: DeprecationWarning: `should_run_async` will not call `transform_cell` automatically in the future. Please pass the result to `transformed_cell` argument and any exception that happen during thetransform in `preprocessing_exc_tuple` in IPython 7.17 and above.\n",
            "  and should_run_async(code)\n",
            "\n"
          ]
        }
      ]
    },
    {
      "cell_type": "code",
      "source": [
        "start_time = 30  # Start time in seconds\n",
        "end_time = 60  # End time in seconds\n",
        "\n",
        "audio_clip = AudioFileClip(temp_file)\n",
        "trimmed_audio = audio_clip.subclip(start_time, end_time)\n",
        "trimmed_audio.write_audiofile(\"output.mp3\")\n"
      ],
      "metadata": {
        "colab": {
          "base_uri": "https://localhost:8080/"
        },
        "id": "RCQW_PZuNezR",
        "outputId": "d36fd45f-e6ed-4d1f-ca75-576ca147f23d"
      },
      "execution_count": null,
      "outputs": [
        {
          "output_type": "stream",
          "name": "stdout",
          "text": [
            "MoviePy - Writing audio in output.mp3\n"
          ]
        },
        {
          "output_type": "stream",
          "name": "stderr",
          "text": [
            "                                                                   "
          ]
        },
        {
          "output_type": "stream",
          "name": "stdout",
          "text": [
            "MoviePy - Done.\n"
          ]
        },
        {
          "output_type": "stream",
          "name": "stderr",
          "text": [
            "\r"
          ]
        }
      ]
    },
    {
      "cell_type": "code",
      "source": [
        "import os\n",
        "os.remove(temp_file)\n"
      ],
      "metadata": {
        "id": "xC8F7TI_Nne_"
      },
      "execution_count": null,
      "outputs": []
    },
    {
      "cell_type": "code",
      "source": [
        "def url_to_mp3(url, st, et, outlink):\n",
        "  yt = YouTube(url)\n",
        "  video_title = yt.title\n",
        "  video_duration = yt.length\n",
        "  video_streams = yt.streams.filter(only_audio=True).all()\n",
        "  audio_stream = video_streams[0]  # Choose the first audio stream\n",
        "  temp_file = audio_stream.download(filename=\"temp\")\n",
        "  audio_clip = AudioFileClip(temp_file)\n",
        "  trimmed_audio = audio_clip.subclip(st, et)\n",
        "  trimmed_audio.write_audiofile(outlink)\n",
        "  os.remove(temp_file)\n",
        "  return outlink"
      ],
      "metadata": {
        "id": "pDArPLbDPVL7"
      },
      "execution_count": null,
      "outputs": []
    },
    {
      "cell_type": "code",
      "source": [
        "import pandas as pd\n",
        "import csv"
      ],
      "metadata": {
        "id": "FW6y8EPnO5AT"
      },
      "execution_count": null,
      "outputs": []
    },
    {
      "cell_type": "code",
      "source": [
        "data = pd.read_csv(\"/content/musiccaps-public.csv\")\n",
        "data.drop(6, axis=0, inplace=True)"
      ],
      "metadata": {
        "id": "c3G2BTaoPARW"
      },
      "execution_count": null,
      "outputs": []
    },
    {
      "cell_type": "code",
      "source": [
        "url1 = \"https://www.youtube.com/watch?v=\" + data['ytid'][0]\n",
        "mp31 = url_to_mp3(url1, data['start_s'][0], data['end_s'][0], \"0.mp3\")\n",
        "mp31"
      ],
      "metadata": {
        "colab": {
          "base_uri": "https://localhost:8080/",
          "height": 237
        },
        "id": "nXu8FV4xpeo1",
        "outputId": "93e5ecef-9fdb-484b-fd42-b6e5490e9766"
      },
      "execution_count": null,
      "outputs": [
        {
          "output_type": "stream",
          "name": "stderr",
          "text": [
            "WARNING:py.warnings:<ipython-input-8-6e590a0c9489>:5: DeprecationWarning: Call to deprecated function all (This object can be treated as a list, all() is useless).\n",
            "  video_streams = yt.streams.filter(only_audio=True).all()\n",
            "\n",
            "chunk:   0%|          | 1/221 [00:31<1:57:08, 31.95s/it, now=None]"
          ]
        },
        {
          "output_type": "stream",
          "name": "stdout",
          "text": [
            "MoviePy - Writing audio in 0.mp3\n"
          ]
        },
        {
          "output_type": "stream",
          "name": "stderr",
          "text": [
            "\n",
            "chunk:   0%|          | 0/221 [00:00<?, ?it/s, now=None]\u001b[A\n",
            "chunk:  29%|██▉       | 64/221 [00:00<00:00, 636.70it/s, now=None]\u001b[A\n",
            "chunk:  61%|██████    | 134/221 [00:00<00:00, 661.98it/s, now=None]\u001b[A\n",
            "chunk:  93%|█████████▎| 205/221 [00:00<00:00, 670.78it/s, now=None]\u001b[A\n",
            "chunk:   0%|          | 1/221 [00:32<1:58:32, 32.33s/it, now=None]"
          ]
        },
        {
          "output_type": "stream",
          "name": "stdout",
          "text": [
            "MoviePy - Done.\n"
          ]
        },
        {
          "output_type": "execute_result",
          "data": {
            "text/plain": [
              "'0.mp3'"
            ],
            "application/vnd.google.colaboratory.intrinsic+json": {
              "type": "string"
            }
          },
          "metadata": {},
          "execution_count": 15
        }
      ]
    },
    {
      "cell_type": "code",
      "source": [
        "mp3_data = pd.DataFrame()\n",
        "mp3_data['aspect_list'] = data['aspect_list']\n",
        "mp3_data['caption'] = data['caption']\n",
        "mp3_data"
      ],
      "metadata": {
        "colab": {
          "base_uri": "https://localhost:8080/",
          "height": 423
        },
        "id": "pQOpKFXtvDa9",
        "outputId": "539effec-42b1-41ae-ea6a-c602b9531acf"
      },
      "execution_count": null,
      "outputs": [
        {
          "output_type": "execute_result",
          "data": {
            "text/plain": [
              "                                            aspect_list  \\\n",
              "0     ['low quality', 'sustained strings melody', 's...   \n",
              "1     ['guitar song', 'piano backing', 'simple percu...   \n",
              "2     ['amateur recording', 'finger snipping', 'male...   \n",
              "3     ['backing track', 'jazzy', 'digital drums', 'p...   \n",
              "4     ['rubab instrument', 'repetitive melody on dif...   \n",
              "...                                                 ...   \n",
              "5516  ['amateur recording', 'percussion', 'wooden bo...   \n",
              "5517  ['instrumental music', 'arabic music', 'genera...   \n",
              "5518  ['instrumental', 'no voice', 'electric guitar'...   \n",
              "5519  ['instrumental music', 'gospel music', 'strong...   \n",
              "5520  ['glitch', 'noise', 'instrumental', 'electroni...   \n",
              "\n",
              "                                                caption  \n",
              "0     The low quality recording features a ballad so...  \n",
              "1     This song features an electric guitar as the m...  \n",
              "2     a male voice is singing a melody with changing...  \n",
              "3     This song contains digital drums playing a sim...  \n",
              "4     This song features a rubber instrument being p...  \n",
              "...                                                 ...  \n",
              "5516  This audio contains someone playing a wooden b...  \n",
              "5517  The song is an instrumental. The song is mediu...  \n",
              "5518  The rock music is purely instrumental and feat...  \n",
              "5519  The song is an instrumental. The song is slow ...  \n",
              "5520  This is a glitch music piece. There is a synth...  \n",
              "\n",
              "[5520 rows x 2 columns]"
            ],
            "text/html": [
              "\n",
              "  <div id=\"df-31fdde1f-e8ad-4c28-a0bd-4a281646dccb\">\n",
              "    <div class=\"colab-df-container\">\n",
              "      <div>\n",
              "<style scoped>\n",
              "    .dataframe tbody tr th:only-of-type {\n",
              "        vertical-align: middle;\n",
              "    }\n",
              "\n",
              "    .dataframe tbody tr th {\n",
              "        vertical-align: top;\n",
              "    }\n",
              "\n",
              "    .dataframe thead th {\n",
              "        text-align: right;\n",
              "    }\n",
              "</style>\n",
              "<table border=\"1\" class=\"dataframe\">\n",
              "  <thead>\n",
              "    <tr style=\"text-align: right;\">\n",
              "      <th></th>\n",
              "      <th>aspect_list</th>\n",
              "      <th>caption</th>\n",
              "    </tr>\n",
              "  </thead>\n",
              "  <tbody>\n",
              "    <tr>\n",
              "      <th>0</th>\n",
              "      <td>['low quality', 'sustained strings melody', 's...</td>\n",
              "      <td>The low quality recording features a ballad so...</td>\n",
              "    </tr>\n",
              "    <tr>\n",
              "      <th>1</th>\n",
              "      <td>['guitar song', 'piano backing', 'simple percu...</td>\n",
              "      <td>This song features an electric guitar as the m...</td>\n",
              "    </tr>\n",
              "    <tr>\n",
              "      <th>2</th>\n",
              "      <td>['amateur recording', 'finger snipping', 'male...</td>\n",
              "      <td>a male voice is singing a melody with changing...</td>\n",
              "    </tr>\n",
              "    <tr>\n",
              "      <th>3</th>\n",
              "      <td>['backing track', 'jazzy', 'digital drums', 'p...</td>\n",
              "      <td>This song contains digital drums playing a sim...</td>\n",
              "    </tr>\n",
              "    <tr>\n",
              "      <th>4</th>\n",
              "      <td>['rubab instrument', 'repetitive melody on dif...</td>\n",
              "      <td>This song features a rubber instrument being p...</td>\n",
              "    </tr>\n",
              "    <tr>\n",
              "      <th>...</th>\n",
              "      <td>...</td>\n",
              "      <td>...</td>\n",
              "    </tr>\n",
              "    <tr>\n",
              "      <th>5516</th>\n",
              "      <td>['amateur recording', 'percussion', 'wooden bo...</td>\n",
              "      <td>This audio contains someone playing a wooden b...</td>\n",
              "    </tr>\n",
              "    <tr>\n",
              "      <th>5517</th>\n",
              "      <td>['instrumental music', 'arabic music', 'genera...</td>\n",
              "      <td>The song is an instrumental. The song is mediu...</td>\n",
              "    </tr>\n",
              "    <tr>\n",
              "      <th>5518</th>\n",
              "      <td>['instrumental', 'no voice', 'electric guitar'...</td>\n",
              "      <td>The rock music is purely instrumental and feat...</td>\n",
              "    </tr>\n",
              "    <tr>\n",
              "      <th>5519</th>\n",
              "      <td>['instrumental music', 'gospel music', 'strong...</td>\n",
              "      <td>The song is an instrumental. The song is slow ...</td>\n",
              "    </tr>\n",
              "    <tr>\n",
              "      <th>5520</th>\n",
              "      <td>['glitch', 'noise', 'instrumental', 'electroni...</td>\n",
              "      <td>This is a glitch music piece. There is a synth...</td>\n",
              "    </tr>\n",
              "  </tbody>\n",
              "</table>\n",
              "<p>5520 rows × 2 columns</p>\n",
              "</div>\n",
              "      <button class=\"colab-df-convert\" onclick=\"convertToInteractive('df-31fdde1f-e8ad-4c28-a0bd-4a281646dccb')\"\n",
              "              title=\"Convert this dataframe to an interactive table.\"\n",
              "              style=\"display:none;\">\n",
              "        \n",
              "  <svg xmlns=\"http://www.w3.org/2000/svg\" height=\"24px\"viewBox=\"0 0 24 24\"\n",
              "       width=\"24px\">\n",
              "    <path d=\"M0 0h24v24H0V0z\" fill=\"none\"/>\n",
              "    <path d=\"M18.56 5.44l.94 2.06.94-2.06 2.06-.94-2.06-.94-.94-2.06-.94 2.06-2.06.94zm-11 1L8.5 8.5l.94-2.06 2.06-.94-2.06-.94L8.5 2.5l-.94 2.06-2.06.94zm10 10l.94 2.06.94-2.06 2.06-.94-2.06-.94-.94-2.06-.94 2.06-2.06.94z\"/><path d=\"M17.41 7.96l-1.37-1.37c-.4-.4-.92-.59-1.43-.59-.52 0-1.04.2-1.43.59L10.3 9.45l-7.72 7.72c-.78.78-.78 2.05 0 2.83L4 21.41c.39.39.9.59 1.41.59.51 0 1.02-.2 1.41-.59l7.78-7.78 2.81-2.81c.8-.78.8-2.07 0-2.86zM5.41 20L4 18.59l7.72-7.72 1.47 1.35L5.41 20z\"/>\n",
              "  </svg>\n",
              "      </button>\n",
              "      \n",
              "  <style>\n",
              "    .colab-df-container {\n",
              "      display:flex;\n",
              "      flex-wrap:wrap;\n",
              "      gap: 12px;\n",
              "    }\n",
              "\n",
              "    .colab-df-convert {\n",
              "      background-color: #E8F0FE;\n",
              "      border: none;\n",
              "      border-radius: 50%;\n",
              "      cursor: pointer;\n",
              "      display: none;\n",
              "      fill: #1967D2;\n",
              "      height: 32px;\n",
              "      padding: 0 0 0 0;\n",
              "      width: 32px;\n",
              "    }\n",
              "\n",
              "    .colab-df-convert:hover {\n",
              "      background-color: #E2EBFA;\n",
              "      box-shadow: 0px 1px 2px rgba(60, 64, 67, 0.3), 0px 1px 3px 1px rgba(60, 64, 67, 0.15);\n",
              "      fill: #174EA6;\n",
              "    }\n",
              "\n",
              "    [theme=dark] .colab-df-convert {\n",
              "      background-color: #3B4455;\n",
              "      fill: #D2E3FC;\n",
              "    }\n",
              "\n",
              "    [theme=dark] .colab-df-convert:hover {\n",
              "      background-color: #434B5C;\n",
              "      box-shadow: 0px 1px 3px 1px rgba(0, 0, 0, 0.15);\n",
              "      filter: drop-shadow(0px 1px 2px rgba(0, 0, 0, 0.3));\n",
              "      fill: #FFFFFF;\n",
              "    }\n",
              "  </style>\n",
              "\n",
              "      <script>\n",
              "        const buttonEl =\n",
              "          document.querySelector('#df-31fdde1f-e8ad-4c28-a0bd-4a281646dccb button.colab-df-convert');\n",
              "        buttonEl.style.display =\n",
              "          google.colab.kernel.accessAllowed ? 'block' : 'none';\n",
              "\n",
              "        async function convertToInteractive(key) {\n",
              "          const element = document.querySelector('#df-31fdde1f-e8ad-4c28-a0bd-4a281646dccb');\n",
              "          const dataTable =\n",
              "            await google.colab.kernel.invokeFunction('convertToInteractive',\n",
              "                                                     [key], {});\n",
              "          if (!dataTable) return;\n",
              "\n",
              "          const docLinkHtml = 'Like what you see? Visit the ' +\n",
              "            '<a target=\"_blank\" href=https://colab.research.google.com/notebooks/data_table.ipynb>data table notebook</a>'\n",
              "            + ' to learn more about interactive tables.';\n",
              "          element.innerHTML = '';\n",
              "          dataTable['output_type'] = 'display_data';\n",
              "          await google.colab.output.renderOutput(dataTable, element);\n",
              "          const docLink = document.createElement('div');\n",
              "          docLink.innerHTML = docLinkHtml;\n",
              "          element.appendChild(docLink);\n",
              "        }\n",
              "      </script>\n",
              "    </div>\n",
              "  </div>\n",
              "  "
            ]
          },
          "metadata": {},
          "execution_count": 11
        }
      ]
    },
    {
      "cell_type": "code",
      "source": [
        "mp3_data['mp3'] = ''\n",
        "mp3_data"
      ],
      "metadata": {
        "colab": {
          "base_uri": "https://localhost:8080/",
          "height": 497
        },
        "id": "l1CwOOtrcTca",
        "outputId": "ad0b1b59-26c8-49fa-ba4e-73486d0ec345"
      },
      "execution_count": null,
      "outputs": [
        {
          "output_type": "stream",
          "name": "stderr",
          "text": [
            "WARNING:py.warnings:/usr/local/lib/python3.10/dist-packages/ipykernel/ipkernel.py:283: DeprecationWarning: `should_run_async` will not call `transform_cell` automatically in the future. Please pass the result to `transformed_cell` argument and any exception that happen during thetransform in `preprocessing_exc_tuple` in IPython 7.17 and above.\n",
            "  and should_run_async(code)\n",
            "\n"
          ]
        },
        {
          "output_type": "execute_result",
          "data": {
            "text/plain": [
              "                                            aspect_list  \\\n",
              "0     ['low quality', 'sustained strings melody', 's...   \n",
              "1     ['guitar song', 'piano backing', 'simple percu...   \n",
              "2     ['amateur recording', 'finger snipping', 'male...   \n",
              "3     ['backing track', 'jazzy', 'digital drums', 'p...   \n",
              "4     ['rubab instrument', 'repetitive melody on dif...   \n",
              "...                                                 ...   \n",
              "5516  ['amateur recording', 'percussion', 'wooden bo...   \n",
              "5517  ['instrumental music', 'arabic music', 'genera...   \n",
              "5518  ['instrumental', 'no voice', 'electric guitar'...   \n",
              "5519  ['instrumental music', 'gospel music', 'strong...   \n",
              "5520  ['glitch', 'noise', 'instrumental', 'electroni...   \n",
              "\n",
              "                                                caption mp3  \n",
              "0     The low quality recording features a ballad so...      \n",
              "1     This song features an electric guitar as the m...      \n",
              "2     a male voice is singing a melody with changing...      \n",
              "3     This song contains digital drums playing a sim...      \n",
              "4     This song features a rubber instrument being p...      \n",
              "...                                                 ...  ..  \n",
              "5516  This audio contains someone playing a wooden b...      \n",
              "5517  The song is an instrumental. The song is mediu...      \n",
              "5518  The rock music is purely instrumental and feat...      \n",
              "5519  The song is an instrumental. The song is slow ...      \n",
              "5520  This is a glitch music piece. There is a synth...      \n",
              "\n",
              "[5520 rows x 3 columns]"
            ],
            "text/html": [
              "\n",
              "  <div id=\"df-7aa5ab30-03e9-4561-bd1d-1b2f13b3be4a\">\n",
              "    <div class=\"colab-df-container\">\n",
              "      <div>\n",
              "<style scoped>\n",
              "    .dataframe tbody tr th:only-of-type {\n",
              "        vertical-align: middle;\n",
              "    }\n",
              "\n",
              "    .dataframe tbody tr th {\n",
              "        vertical-align: top;\n",
              "    }\n",
              "\n",
              "    .dataframe thead th {\n",
              "        text-align: right;\n",
              "    }\n",
              "</style>\n",
              "<table border=\"1\" class=\"dataframe\">\n",
              "  <thead>\n",
              "    <tr style=\"text-align: right;\">\n",
              "      <th></th>\n",
              "      <th>aspect_list</th>\n",
              "      <th>caption</th>\n",
              "      <th>mp3</th>\n",
              "    </tr>\n",
              "  </thead>\n",
              "  <tbody>\n",
              "    <tr>\n",
              "      <th>0</th>\n",
              "      <td>['low quality', 'sustained strings melody', 's...</td>\n",
              "      <td>The low quality recording features a ballad so...</td>\n",
              "      <td></td>\n",
              "    </tr>\n",
              "    <tr>\n",
              "      <th>1</th>\n",
              "      <td>['guitar song', 'piano backing', 'simple percu...</td>\n",
              "      <td>This song features an electric guitar as the m...</td>\n",
              "      <td></td>\n",
              "    </tr>\n",
              "    <tr>\n",
              "      <th>2</th>\n",
              "      <td>['amateur recording', 'finger snipping', 'male...</td>\n",
              "      <td>a male voice is singing a melody with changing...</td>\n",
              "      <td></td>\n",
              "    </tr>\n",
              "    <tr>\n",
              "      <th>3</th>\n",
              "      <td>['backing track', 'jazzy', 'digital drums', 'p...</td>\n",
              "      <td>This song contains digital drums playing a sim...</td>\n",
              "      <td></td>\n",
              "    </tr>\n",
              "    <tr>\n",
              "      <th>4</th>\n",
              "      <td>['rubab instrument', 'repetitive melody on dif...</td>\n",
              "      <td>This song features a rubber instrument being p...</td>\n",
              "      <td></td>\n",
              "    </tr>\n",
              "    <tr>\n",
              "      <th>...</th>\n",
              "      <td>...</td>\n",
              "      <td>...</td>\n",
              "      <td>...</td>\n",
              "    </tr>\n",
              "    <tr>\n",
              "      <th>5516</th>\n",
              "      <td>['amateur recording', 'percussion', 'wooden bo...</td>\n",
              "      <td>This audio contains someone playing a wooden b...</td>\n",
              "      <td></td>\n",
              "    </tr>\n",
              "    <tr>\n",
              "      <th>5517</th>\n",
              "      <td>['instrumental music', 'arabic music', 'genera...</td>\n",
              "      <td>The song is an instrumental. The song is mediu...</td>\n",
              "      <td></td>\n",
              "    </tr>\n",
              "    <tr>\n",
              "      <th>5518</th>\n",
              "      <td>['instrumental', 'no voice', 'electric guitar'...</td>\n",
              "      <td>The rock music is purely instrumental and feat...</td>\n",
              "      <td></td>\n",
              "    </tr>\n",
              "    <tr>\n",
              "      <th>5519</th>\n",
              "      <td>['instrumental music', 'gospel music', 'strong...</td>\n",
              "      <td>The song is an instrumental. The song is slow ...</td>\n",
              "      <td></td>\n",
              "    </tr>\n",
              "    <tr>\n",
              "      <th>5520</th>\n",
              "      <td>['glitch', 'noise', 'instrumental', 'electroni...</td>\n",
              "      <td>This is a glitch music piece. There is a synth...</td>\n",
              "      <td></td>\n",
              "    </tr>\n",
              "  </tbody>\n",
              "</table>\n",
              "<p>5520 rows × 3 columns</p>\n",
              "</div>\n",
              "      <button class=\"colab-df-convert\" onclick=\"convertToInteractive('df-7aa5ab30-03e9-4561-bd1d-1b2f13b3be4a')\"\n",
              "              title=\"Convert this dataframe to an interactive table.\"\n",
              "              style=\"display:none;\">\n",
              "        \n",
              "  <svg xmlns=\"http://www.w3.org/2000/svg\" height=\"24px\"viewBox=\"0 0 24 24\"\n",
              "       width=\"24px\">\n",
              "    <path d=\"M0 0h24v24H0V0z\" fill=\"none\"/>\n",
              "    <path d=\"M18.56 5.44l.94 2.06.94-2.06 2.06-.94-2.06-.94-.94-2.06-.94 2.06-2.06.94zm-11 1L8.5 8.5l.94-2.06 2.06-.94-2.06-.94L8.5 2.5l-.94 2.06-2.06.94zm10 10l.94 2.06.94-2.06 2.06-.94-2.06-.94-.94-2.06-.94 2.06-2.06.94z\"/><path d=\"M17.41 7.96l-1.37-1.37c-.4-.4-.92-.59-1.43-.59-.52 0-1.04.2-1.43.59L10.3 9.45l-7.72 7.72c-.78.78-.78 2.05 0 2.83L4 21.41c.39.39.9.59 1.41.59.51 0 1.02-.2 1.41-.59l7.78-7.78 2.81-2.81c.8-.78.8-2.07 0-2.86zM5.41 20L4 18.59l7.72-7.72 1.47 1.35L5.41 20z\"/>\n",
              "  </svg>\n",
              "      </button>\n",
              "      \n",
              "  <style>\n",
              "    .colab-df-container {\n",
              "      display:flex;\n",
              "      flex-wrap:wrap;\n",
              "      gap: 12px;\n",
              "    }\n",
              "\n",
              "    .colab-df-convert {\n",
              "      background-color: #E8F0FE;\n",
              "      border: none;\n",
              "      border-radius: 50%;\n",
              "      cursor: pointer;\n",
              "      display: none;\n",
              "      fill: #1967D2;\n",
              "      height: 32px;\n",
              "      padding: 0 0 0 0;\n",
              "      width: 32px;\n",
              "    }\n",
              "\n",
              "    .colab-df-convert:hover {\n",
              "      background-color: #E2EBFA;\n",
              "      box-shadow: 0px 1px 2px rgba(60, 64, 67, 0.3), 0px 1px 3px 1px rgba(60, 64, 67, 0.15);\n",
              "      fill: #174EA6;\n",
              "    }\n",
              "\n",
              "    [theme=dark] .colab-df-convert {\n",
              "      background-color: #3B4455;\n",
              "      fill: #D2E3FC;\n",
              "    }\n",
              "\n",
              "    [theme=dark] .colab-df-convert:hover {\n",
              "      background-color: #434B5C;\n",
              "      box-shadow: 0px 1px 3px 1px rgba(0, 0, 0, 0.15);\n",
              "      filter: drop-shadow(0px 1px 2px rgba(0, 0, 0, 0.3));\n",
              "      fill: #FFFFFF;\n",
              "    }\n",
              "  </style>\n",
              "\n",
              "      <script>\n",
              "        const buttonEl =\n",
              "          document.querySelector('#df-7aa5ab30-03e9-4561-bd1d-1b2f13b3be4a button.colab-df-convert');\n",
              "        buttonEl.style.display =\n",
              "          google.colab.kernel.accessAllowed ? 'block' : 'none';\n",
              "\n",
              "        async function convertToInteractive(key) {\n",
              "          const element = document.querySelector('#df-7aa5ab30-03e9-4561-bd1d-1b2f13b3be4a');\n",
              "          const dataTable =\n",
              "            await google.colab.kernel.invokeFunction('convertToInteractive',\n",
              "                                                     [key], {});\n",
              "          if (!dataTable) return;\n",
              "\n",
              "          const docLinkHtml = 'Like what you see? Visit the ' +\n",
              "            '<a target=\"_blank\" href=https://colab.research.google.com/notebooks/data_table.ipynb>data table notebook</a>'\n",
              "            + ' to learn more about interactive tables.';\n",
              "          element.innerHTML = '';\n",
              "          dataTable['output_type'] = 'display_data';\n",
              "          await google.colab.output.renderOutput(dataTable, element);\n",
              "          const docLink = document.createElement('div');\n",
              "          docLink.innerHTML = docLinkHtml;\n",
              "          element.appendChild(docLink);\n",
              "        }\n",
              "      </script>\n",
              "    </div>\n",
              "  </div>\n",
              "  "
            ]
          },
          "metadata": {},
          "execution_count": 23
        }
      ]
    },
    {
      "cell_type": "code",
      "source": [
        "data['urls'] = \"https://www.youtube.com/watch?v=\" + data['ytid']\n",
        "for i in range(0, 5520):\n",
        "    try:\n",
        "      outlink = url_to_mp3(data[\"urls\"][i], data[\"start_s\"][i], data[\"end_s\"][i], f\"{i}.mp3\")\n",
        "      mp3_data[\"mp3\"][i] = outlink\n",
        "    except Exception:\n",
        "      pass\n"
      ],
      "metadata": {
        "colab": {
          "base_uri": "https://localhost:8080/",
          "height": 1000
        },
        "id": "hAJJ26LKTISF",
        "outputId": "0cd6cf5f-5f69-4300-da1a-afe91bb58265"
      },
      "execution_count": null,
      "outputs": [
        {
          "output_type": "stream",
          "name": "stderr",
          "text": [
            "WARNING:py.warnings:<ipython-input-8-6e590a0c9489>:5: DeprecationWarning: Call to deprecated function all (This object can be treated as a list, all() is useless).\n",
            "  video_streams = yt.streams.filter(only_audio=True).all()\n",
            "\n",
            "chunk:   0%|          | 1/221 [22:40<83:09:48, 1360.86s/it, now=None]"
          ]
        },
        {
          "output_type": "stream",
          "name": "stdout",
          "text": [
            "MoviePy - Writing audio in 0.mp3\n"
          ]
        },
        {
          "output_type": "stream",
          "name": "stderr",
          "text": [
            "\n",
            "chunk:   0%|          | 0/221 [00:00<?, ?it/s, now=None]\u001b[A\n",
            "chunk:  28%|██▊       | 61/221 [00:00<00:00, 609.74it/s, now=None]\u001b[A\n",
            "chunk:  59%|█████▉    | 130/221 [00:00<00:00, 654.60it/s, now=None]\u001b[A\n",
            "chunk:  90%|█████████ | 200/221 [00:00<00:00, 665.74it/s, now=None]\u001b[A\n",
            "chunk:   0%|          | 1/221 [22:41<83:11:11, 1361.24s/it, now=None]"
          ]
        },
        {
          "output_type": "stream",
          "name": "stdout",
          "text": [
            "MoviePy - Done.\n"
          ]
        },
        {
          "output_type": "stream",
          "name": "stderr",
          "text": [
            "WARNING:py.warnings:<ipython-input-8-6e590a0c9489>:5: DeprecationWarning: Call to deprecated function all (This object can be treated as a list, all() is useless).\n",
            "  video_streams = yt.streams.filter(only_audio=True).all()\n",
            "\n",
            "chunk:   0%|          | 1/221 [22:42<83:16:58, 1362.81s/it, now=None]"
          ]
        },
        {
          "output_type": "stream",
          "name": "stdout",
          "text": [
            "MoviePy - Writing audio in 1.mp3\n"
          ]
        },
        {
          "output_type": "stream",
          "name": "stderr",
          "text": [
            "\n",
            "chunk:   0%|          | 0/221 [00:00<?, ?it/s, now=None]\u001b[A\n",
            "chunk:  27%|██▋       | 60/221 [00:00<00:00, 587.25it/s, now=None]\u001b[A\n",
            "chunk:  57%|█████▋    | 126/221 [00:00<00:00, 617.99it/s, now=None]\u001b[A\n",
            "chunk:  89%|████████▉ | 197/221 [00:00<00:00, 658.75it/s, now=None]\u001b[A\n",
            "chunk:   0%|          | 1/221 [22:43<83:18:22, 1363.19s/it, now=None]"
          ]
        },
        {
          "output_type": "stream",
          "name": "stdout",
          "text": [
            "MoviePy - Done.\n"
          ]
        },
        {
          "output_type": "stream",
          "name": "stderr",
          "text": [
            "WARNING:py.warnings:<ipython-input-8-6e590a0c9489>:5: DeprecationWarning: Call to deprecated function all (This object can be treated as a list, all() is useless).\n",
            "  video_streams = yt.streams.filter(only_audio=True).all()\n",
            "\n",
            "chunk:   0%|          | 1/221 [22:55<84:03:00, 1375.37s/it, now=None]"
          ]
        },
        {
          "output_type": "stream",
          "name": "stdout",
          "text": [
            "MoviePy - Writing audio in 2.mp3\n"
          ]
        },
        {
          "output_type": "stream",
          "name": "stderr",
          "text": [
            "\n",
            "chunk:   0%|          | 0/221 [00:00<?, ?it/s, now=None]\u001b[A\n",
            "chunk:  33%|███▎      | 72/221 [00:00<00:00, 715.18it/s, now=None]\u001b[A\n",
            "chunk:  66%|██████▌   | 146/221 [00:00<00:00, 726.82it/s, now=None]\u001b[A\n",
            "chunk: 100%|██████████| 221/221 [00:00<00:00, 737.35it/s, now=None]\u001b[A\n",
            "chunk:   0%|          | 1/221 [22:55<84:04:16, 1375.71s/it, now=None]"
          ]
        },
        {
          "output_type": "stream",
          "name": "stdout",
          "text": [
            "MoviePy - Done.\n"
          ]
        },
        {
          "output_type": "stream",
          "name": "stderr",
          "text": [
            "WARNING:py.warnings:<ipython-input-8-6e590a0c9489>:5: DeprecationWarning: Call to deprecated function all (This object can be treated as a list, all() is useless).\n",
            "  video_streams = yt.streams.filter(only_audio=True).all()\n",
            "\n",
            "chunk:   0%|          | 1/221 [23:05<84:41:17, 1385.81s/it, now=None]"
          ]
        },
        {
          "output_type": "stream",
          "name": "stdout",
          "text": [
            "MoviePy - Writing audio in 3.mp3\n"
          ]
        },
        {
          "output_type": "stream",
          "name": "stderr",
          "text": [
            "\n",
            "chunk:   0%|          | 0/221 [00:00<?, ?it/s, now=None]\u001b[A\n",
            "chunk:  29%|██▉       | 64/221 [00:00<00:00, 611.29it/s, now=None]\u001b[A\n",
            "chunk:  59%|█████▉    | 130/221 [00:00<00:00, 628.49it/s, now=None]\u001b[A\n",
            "chunk:  90%|████████▉ | 198/221 [00:00<00:00, 651.24it/s, now=None]\u001b[A\n",
            "chunk:   0%|          | 1/221 [23:06<84:42:43, 1386.20s/it, now=None]"
          ]
        },
        {
          "output_type": "stream",
          "name": "stdout",
          "text": [
            "MoviePy - Done.\n"
          ]
        },
        {
          "output_type": "stream",
          "name": "stderr",
          "text": [
            "WARNING:py.warnings:<ipython-input-8-6e590a0c9489>:5: DeprecationWarning: Call to deprecated function all (This object can be treated as a list, all() is useless).\n",
            "  video_streams = yt.streams.filter(only_audio=True).all()\n",
            "\n",
            "chunk:   0%|          | 1/221 [23:15<85:18:25, 1395.93s/it, now=None]"
          ]
        },
        {
          "output_type": "stream",
          "name": "stdout",
          "text": [
            "MoviePy - Writing audio in 4.mp3\n"
          ]
        },
        {
          "output_type": "stream",
          "name": "stderr",
          "text": [
            "\n",
            "chunk:   0%|          | 0/221 [00:00<?, ?it/s, now=None]\u001b[A\n",
            "chunk:  24%|██▎       | 52/221 [00:00<00:00, 471.73it/s, now=None]\u001b[A\n",
            "chunk:  48%|████▊     | 107/221 [00:00<00:00, 515.62it/s, now=None]\u001b[A\n",
            "chunk:  76%|███████▌  | 167/221 [00:00<00:00, 547.67it/s, now=None]\u001b[A\n",
            "chunk:   0%|          | 1/221 [23:16<85:20:03, 1396.38s/it, now=None]"
          ]
        },
        {
          "output_type": "stream",
          "name": "stdout",
          "text": [
            "MoviePy - Done.\n"
          ]
        },
        {
          "output_type": "stream",
          "name": "stderr",
          "text": [
            "WARNING:py.warnings:<ipython-input-8-6e590a0c9489>:5: DeprecationWarning: Call to deprecated function all (This object can be treated as a list, all() is useless).\n",
            "  video_streams = yt.streams.filter(only_audio=True).all()\n",
            "\n",
            "chunk:   0%|          | 1/221 [23:27<85:59:48, 1407.22s/it, now=None]"
          ]
        },
        {
          "output_type": "stream",
          "name": "stdout",
          "text": [
            "MoviePy - Writing audio in 5.mp3\n"
          ]
        },
        {
          "output_type": "stream",
          "name": "stderr",
          "text": [
            "\n",
            "chunk:   0%|          | 0/221 [00:00<?, ?it/s, now=None]\u001b[A\n",
            "chunk:  27%|██▋       | 60/221 [00:00<00:00, 584.05it/s, now=None]\u001b[A\n",
            "chunk:  62%|██████▏   | 136/221 [00:00<00:00, 672.81it/s, now=None]\u001b[A\n",
            "chunk:  93%|█████████▎| 205/221 [00:00<00:00, 675.22it/s, now=None]\u001b[A\n",
            "chunk:   0%|          | 1/221 [23:27<86:01:08, 1407.59s/it, now=None]"
          ]
        },
        {
          "output_type": "stream",
          "name": "stdout",
          "text": [
            "MoviePy - Done.\n"
          ]
        },
        {
          "output_type": "stream",
          "name": "stderr",
          "text": [
            "WARNING:py.warnings:<ipython-input-8-6e590a0c9489>:5: DeprecationWarning: Call to deprecated function all (This object can be treated as a list, all() is useless).\n",
            "  video_streams = yt.streams.filter(only_audio=True).all()\n",
            "\n",
            "chunk:   0%|          | 1/221 [23:40<86:47:09, 1420.13s/it, now=None]"
          ]
        },
        {
          "output_type": "stream",
          "name": "stdout",
          "text": [
            "MoviePy - Writing audio in 7.mp3\n"
          ]
        },
        {
          "output_type": "stream",
          "name": "stderr",
          "text": [
            "\n",
            "chunk:   0%|          | 0/221 [00:00<?, ?it/s, now=None]\u001b[A\n",
            "chunk:  42%|████▏     | 92/221 [00:00<00:00, 904.33it/s, now=None]\u001b[A\n",
            "chunk:  91%|█████████▏| 202/221 [00:00<00:00, 1010.67it/s, now=None]\u001b[A\n",
            "chunk:   0%|          | 1/221 [23:40<86:48:07, 1420.40s/it, now=None]"
          ]
        },
        {
          "output_type": "stream",
          "name": "stdout",
          "text": [
            "MoviePy - Done.\n"
          ]
        },
        {
          "output_type": "stream",
          "name": "stderr",
          "text": [
            "WARNING:py.warnings:<ipython-input-8-6e590a0c9489>:5: DeprecationWarning: Call to deprecated function all (This object can be treated as a list, all() is useless).\n",
            "  video_streams = yt.streams.filter(only_audio=True).all()\n",
            "\n",
            "chunk:   0%|          | 1/221 [23:42<86:57:03, 1422.84s/it, now=None]"
          ]
        },
        {
          "output_type": "stream",
          "name": "stdout",
          "text": [
            "MoviePy - Writing audio in 8.mp3\n"
          ]
        },
        {
          "output_type": "stream",
          "name": "stderr",
          "text": [
            "\n",
            "chunk:   0%|          | 0/221 [00:00<?, ?it/s, now=None]\u001b[A\n",
            "chunk:  31%|███       | 68/221 [00:00<00:00, 648.24it/s, now=None]\u001b[A\n",
            "chunk:  62%|██████▏   | 138/221 [00:00<00:00, 667.25it/s, now=None]\u001b[A\n",
            "chunk:  93%|█████████▎| 205/221 [00:00<00:00, 625.66it/s, now=None]\u001b[A\n",
            "chunk:   0%|          | 1/221 [23:43<86:58:31, 1423.23s/it, now=None]"
          ]
        },
        {
          "output_type": "stream",
          "name": "stdout",
          "text": [
            "MoviePy - Done.\n"
          ]
        },
        {
          "output_type": "stream",
          "name": "stderr",
          "text": [
            "WARNING:py.warnings:<ipython-input-8-6e590a0c9489>:5: DeprecationWarning: Call to deprecated function all (This object can be treated as a list, all() is useless).\n",
            "  video_streams = yt.streams.filter(only_audio=True).all()\n",
            "\n",
            "chunk:   0%|          | 1/221 [23:53<87:34:22, 1433.01s/it, now=None]"
          ]
        },
        {
          "output_type": "stream",
          "name": "stdout",
          "text": [
            "MoviePy - Writing audio in 9.mp3\n"
          ]
        },
        {
          "output_type": "stream",
          "name": "stderr",
          "text": [
            "\n",
            "chunk:   0%|          | 0/221 [00:00<?, ?it/s, now=None]\u001b[A\n",
            "chunk:  24%|██▎       | 52/221 [00:00<00:00, 491.76it/s, now=None]\u001b[A\n",
            "chunk:  70%|██████▉   | 154/221 [00:00<00:00, 787.15it/s, now=None]\u001b[A\n",
            "chunk:   0%|          | 1/221 [23:53<87:35:28, 1433.31s/it, now=None]"
          ]
        },
        {
          "output_type": "stream",
          "name": "stdout",
          "text": [
            "MoviePy - Done.\n"
          ]
        },
        {
          "output_type": "stream",
          "name": "stderr",
          "text": [
            "WARNING:py.warnings:<ipython-input-8-6e590a0c9489>:5: DeprecationWarning: Call to deprecated function all (This object can be treated as a list, all() is useless).\n",
            "  video_streams = yt.streams.filter(only_audio=True).all()\n",
            "\n",
            "chunk:   0%|          | 1/221 [24:02<88:09:15, 1442.52s/it, now=None]"
          ]
        },
        {
          "output_type": "stream",
          "name": "stdout",
          "text": [
            "MoviePy - Writing audio in 10.mp3\n"
          ]
        },
        {
          "output_type": "stream",
          "name": "stderr",
          "text": [
            "\n",
            "chunk:   0%|          | 0/221 [00:00<?, ?it/s, now=None]\u001b[A\n",
            "chunk:  27%|██▋       | 60/221 [00:00<00:00, 599.58it/s, now=None]\u001b[A\n",
            "chunk:  61%|██████    | 134/221 [00:00<00:00, 681.76it/s, now=None]\u001b[A\n",
            "chunk:  93%|█████████▎| 205/221 [00:00<00:00, 677.66it/s, now=None]\u001b[A\n",
            "chunk:   0%|          | 1/221 [24:02<88:10:35, 1442.89s/it, now=None]"
          ]
        },
        {
          "output_type": "stream",
          "name": "stdout",
          "text": [
            "MoviePy - Done.\n"
          ]
        },
        {
          "output_type": "stream",
          "name": "stderr",
          "text": [
            "WARNING:py.warnings:<ipython-input-8-6e590a0c9489>:5: DeprecationWarning: Call to deprecated function all (This object can be treated as a list, all() is useless).\n",
            "  video_streams = yt.streams.filter(only_audio=True).all()\n",
            "\n",
            "chunk:   0%|          | 1/221 [24:04<88:17:26, 1444.76s/it, now=None]"
          ]
        },
        {
          "output_type": "stream",
          "name": "stdout",
          "text": [
            "MoviePy - Writing audio in 11.mp3\n"
          ]
        },
        {
          "output_type": "stream",
          "name": "stderr",
          "text": [
            "\n",
            "chunk:   0%|          | 0/221 [00:00<?, ?it/s, now=None]\u001b[A\n",
            "chunk:  20%|█▉        | 44/221 [00:00<00:00, 426.62it/s, now=None]\u001b[A\n",
            "chunk:  42%|████▏     | 93/221 [00:00<00:00, 447.23it/s, now=None]\u001b[A\n",
            "chunk:  64%|██████▍   | 142/221 [00:00<00:00, 458.99it/s, now=None]\u001b[A\n",
            "chunk:  85%|████████▌ | 188/221 [00:00<00:00, 451.09it/s, now=None]\u001b[A\n",
            "chunk:   0%|          | 1/221 [24:05<88:19:27, 1445.30s/it, now=None]"
          ]
        },
        {
          "output_type": "stream",
          "name": "stdout",
          "text": [
            "MoviePy - Done.\n"
          ]
        },
        {
          "output_type": "stream",
          "name": "stderr",
          "text": [
            "WARNING:py.warnings:<ipython-input-8-6e590a0c9489>:5: DeprecationWarning: Call to deprecated function all (This object can be treated as a list, all() is useless).\n",
            "  video_streams = yt.streams.filter(only_audio=True).all()\n",
            "\n",
            "chunk:   0%|          | 1/221 [24:16<89:01:08, 1456.68s/it, now=None]"
          ]
        },
        {
          "output_type": "stream",
          "name": "stdout",
          "text": [
            "MoviePy - Writing audio in 12.mp3\n"
          ]
        },
        {
          "output_type": "stream",
          "name": "stderr",
          "text": [
            "\n",
            "chunk:   0%|          | 0/221 [00:00<?, ?it/s, now=None]\u001b[A\n",
            "chunk:  27%|██▋       | 60/221 [00:00<00:00, 580.57it/s, now=None]\u001b[A\n",
            "chunk:  61%|██████    | 135/221 [00:00<00:00, 677.97it/s, now=None]\u001b[A\n",
            "chunk:  93%|█████████▎| 205/221 [00:00<00:00, 687.71it/s, now=None]\u001b[A\n",
            "chunk:   0%|          | 1/221 [24:17<89:02:29, 1457.04s/it, now=None]"
          ]
        },
        {
          "output_type": "stream",
          "name": "stdout",
          "text": [
            "MoviePy - Done.\n"
          ]
        },
        {
          "output_type": "stream",
          "name": "stderr",
          "text": [
            "WARNING:py.warnings:<ipython-input-8-6e590a0c9489>:5: DeprecationWarning: Call to deprecated function all (This object can be treated as a list, all() is useless).\n",
            "  video_streams = yt.streams.filter(only_audio=True).all()\n",
            "\n",
            "chunk:   0%|          | 1/221 [24:28<89:42:48, 1468.04s/it, now=None]"
          ]
        },
        {
          "output_type": "stream",
          "name": "stdout",
          "text": [
            "MoviePy - Writing audio in 13.mp3\n"
          ]
        },
        {
          "output_type": "stream",
          "name": "stderr",
          "text": [
            "\n",
            "chunk:   0%|          | 0/221 [00:00<?, ?it/s, now=None]\u001b[A\n",
            "chunk:  33%|███▎      | 72/221 [00:00<00:00, 716.85it/s, now=None]\u001b[A\n",
            "chunk:  70%|██████▉   | 154/221 [00:00<00:00, 749.36it/s, now=None]\u001b[A\n",
            "chunk:   0%|          | 1/221 [24:28<89:44:00, 1468.37s/it, now=None]"
          ]
        },
        {
          "output_type": "stream",
          "name": "stdout",
          "text": [
            "MoviePy - Done.\n"
          ]
        },
        {
          "output_type": "stream",
          "name": "stderr",
          "text": [
            "WARNING:py.warnings:<ipython-input-8-6e590a0c9489>:5: DeprecationWarning: Call to deprecated function all (This object can be treated as a list, all() is useless).\n",
            "  video_streams = yt.streams.filter(only_audio=True).all()\n",
            "\n",
            "chunk:   0%|          | 1/221 [24:38<90:22:55, 1478.98s/it, now=None]"
          ]
        },
        {
          "output_type": "stream",
          "name": "stdout",
          "text": [
            "MoviePy - Writing audio in 14.mp3\n"
          ]
        },
        {
          "output_type": "stream",
          "name": "stderr",
          "text": [
            "\n",
            "chunk:   0%|          | 0/221 [00:00<?, ?it/s, now=None]\u001b[A\n",
            "chunk:  18%|█▊        | 40/221 [00:00<00:00, 389.74it/s, now=None]\u001b[A\n",
            "chunk:  38%|███▊      | 85/221 [00:00<00:00, 420.59it/s, now=None]\u001b[A\n",
            "chunk:  59%|█████▉    | 130/221 [00:00<00:00, 424.32it/s, now=None]\u001b[A\n",
            "chunk:  79%|███████▉  | 175/221 [00:00<00:00, 429.27it/s, now=None]\u001b[A\n",
            "chunk: 100%|█████████▉| 220/221 [00:00<00:00, 431.36it/s, now=None]\u001b[A\n",
            "chunk:   0%|          | 1/221 [24:39<90:25:00, 1479.55s/it, now=None]"
          ]
        },
        {
          "output_type": "stream",
          "name": "stdout",
          "text": [
            "MoviePy - Done.\n"
          ]
        },
        {
          "output_type": "stream",
          "name": "stderr",
          "text": [
            "WARNING:py.warnings:<ipython-input-8-6e590a0c9489>:5: DeprecationWarning: Call to deprecated function all (This object can be treated as a list, all() is useless).\n",
            "  video_streams = yt.streams.filter(only_audio=True).all()\n",
            "\n",
            "chunk:   0%|          | 1/221 [24:48<90:59:03, 1488.83s/it, now=None]"
          ]
        },
        {
          "output_type": "stream",
          "name": "stdout",
          "text": [
            "MoviePy - Writing audio in 15.mp3\n"
          ]
        },
        {
          "output_type": "stream",
          "name": "stderr",
          "text": [
            "\n",
            "chunk:   0%|          | 0/221 [00:00<?, ?it/s, now=None]\u001b[A\n",
            "chunk:  31%|███       | 68/221 [00:00<00:00, 657.65it/s, now=None]\u001b[A\n",
            "chunk:  65%|██████▌   | 144/221 [00:00<00:00, 715.77it/s, now=None]\u001b[A\n",
            "chunk:  98%|█████████▊| 216/221 [00:00<00:00, 687.69it/s, now=None]\u001b[A\n",
            "chunk:   0%|          | 1/221 [24:49<91:00:22, 1489.19s/it, now=None]"
          ]
        },
        {
          "output_type": "stream",
          "name": "stdout",
          "text": [
            "MoviePy - Done.\n"
          ]
        },
        {
          "output_type": "stream",
          "name": "stderr",
          "text": [
            "WARNING:py.warnings:<ipython-input-8-6e590a0c9489>:5: DeprecationWarning: Call to deprecated function all (This object can be treated as a list, all() is useless).\n",
            "  video_streams = yt.streams.filter(only_audio=True).all()\n",
            "\n",
            "chunk:   0%|          | 1/221 [25:03<91:51:21, 1503.10s/it, now=None]"
          ]
        },
        {
          "output_type": "stream",
          "name": "stdout",
          "text": [
            "MoviePy - Writing audio in 17.mp3\n"
          ]
        },
        {
          "output_type": "stream",
          "name": "stderr",
          "text": [
            "\n",
            "chunk:   0%|          | 0/221 [00:00<?, ?it/s, now=None]\u001b[A\n",
            "chunk:  29%|██▉       | 64/221 [00:00<00:00, 618.30it/s, now=None]\u001b[A\n",
            "chunk:  59%|█████▉    | 130/221 [00:00<00:00, 631.74it/s, now=None]\u001b[A\n",
            "chunk:  92%|█████████▏| 203/221 [00:00<00:00, 663.39it/s, now=None]\u001b[A\n",
            "chunk:   0%|          | 1/221 [25:03<91:52:48, 1503.49s/it, now=None]"
          ]
        },
        {
          "output_type": "stream",
          "name": "stdout",
          "text": [
            "MoviePy - Done.\n"
          ]
        },
        {
          "output_type": "stream",
          "name": "stderr",
          "text": [
            "WARNING:py.warnings:<ipython-input-8-6e590a0c9489>:5: DeprecationWarning: Call to deprecated function all (This object can be treated as a list, all() is useless).\n",
            "  video_streams = yt.streams.filter(only_audio=True).all()\n",
            "\n",
            "chunk:   0%|          | 1/221 [25:13<92:28:54, 1513.34s/it, now=None]"
          ]
        },
        {
          "output_type": "stream",
          "name": "stdout",
          "text": [
            "MoviePy - Writing audio in 18.mp3\n"
          ]
        },
        {
          "output_type": "stream",
          "name": "stderr",
          "text": [
            "\n",
            "chunk:   0%|          | 0/221 [00:00<?, ?it/s, now=None]\u001b[A\n",
            "chunk:  18%|█▊        | 40/221 [00:00<00:00, 396.50it/s, now=None]\u001b[A\n",
            "chunk:  38%|███▊      | 85/221 [00:00<00:00, 418.24it/s, now=None]\u001b[A\n",
            "chunk:  57%|█████▋    | 127/221 [00:00<00:00, 415.83it/s, now=None]\u001b[A\n",
            "chunk:  77%|███████▋  | 170/221 [00:00<00:00, 417.11it/s, now=None]\u001b[A\n",
            "chunk:  97%|█████████▋| 215/221 [00:00<00:00, 423.19it/s, now=None]\u001b[A\n",
            "chunk:   0%|          | 1/221 [25:13<92:30:59, 1513.91s/it, now=None]"
          ]
        },
        {
          "output_type": "stream",
          "name": "stdout",
          "text": [
            "MoviePy - Done.\n"
          ]
        },
        {
          "output_type": "stream",
          "name": "stderr",
          "text": [
            "WARNING:py.warnings:<ipython-input-8-6e590a0c9489>:5: DeprecationWarning: Call to deprecated function all (This object can be treated as a list, all() is useless).\n",
            "  video_streams = yt.streams.filter(only_audio=True).all()\n",
            "\n",
            "chunk:   0%|          | 1/221 [25:23<93:06:01, 1523.46s/it, now=None]"
          ]
        },
        {
          "output_type": "stream",
          "name": "stdout",
          "text": [
            "MoviePy - Writing audio in 19.mp3\n"
          ]
        },
        {
          "output_type": "stream",
          "name": "stderr",
          "text": [
            "\n",
            "chunk:   0%|          | 0/221 [00:00<?, ?it/s, now=None]\u001b[A\n",
            "chunk:  33%|███▎      | 72/221 [00:00<00:00, 702.87it/s, now=None]\u001b[A\n",
            "chunk:  70%|██████▉   | 154/221 [00:00<00:00, 754.41it/s, now=None]\u001b[A\n",
            "chunk:   0%|          | 1/221 [25:23<93:07:14, 1523.79s/it, now=None]"
          ]
        },
        {
          "output_type": "stream",
          "name": "stdout",
          "text": [
            "MoviePy - Done.\n"
          ]
        },
        {
          "output_type": "stream",
          "name": "stderr",
          "text": [
            "WARNING:py.warnings:<ipython-input-8-6e590a0c9489>:5: DeprecationWarning: Call to deprecated function all (This object can be treated as a list, all() is useless).\n",
            "  video_streams = yt.streams.filter(only_audio=True).all()\n",
            "\n",
            "chunk:   0%|          | 1/221 [25:36<93:52:25, 1536.12s/it, now=None]"
          ]
        },
        {
          "output_type": "stream",
          "name": "stdout",
          "text": [
            "MoviePy - Writing audio in 20.mp3\n"
          ]
        },
        {
          "output_type": "stream",
          "name": "stderr",
          "text": [
            "\n",
            "chunk:   0%|          | 0/221 [00:00<?, ?it/s, now=None]\u001b[A\n",
            "chunk:  16%|█▋        | 36/221 [00:00<00:00, 297.73it/s, now=None]\u001b[A\n",
            "chunk:  33%|███▎      | 74/221 [00:00<00:00, 341.69it/s, now=None]\u001b[A\n",
            "chunk:  52%|█████▏    | 114/221 [00:00<00:00, 362.96it/s, now=None]\u001b[A\n",
            "chunk:  76%|███████▌  | 167/221 [00:00<00:00, 426.55it/s, now=None]\u001b[A\n",
            "chunk:   0%|          | 1/221 [25:36<93:54:26, 1536.67s/it, now=None]"
          ]
        },
        {
          "output_type": "stream",
          "name": "stdout",
          "text": [
            "MoviePy - Done.\n"
          ]
        },
        {
          "output_type": "stream",
          "name": "stderr",
          "text": [
            "WARNING:py.warnings:<ipython-input-8-6e590a0c9489>:5: DeprecationWarning: Call to deprecated function all (This object can be treated as a list, all() is useless).\n",
            "  video_streams = yt.streams.filter(only_audio=True).all()\n",
            "\n",
            "chunk:   0%|          | 1/221 [25:46<94:29:30, 1546.23s/it, now=None]"
          ]
        },
        {
          "output_type": "stream",
          "name": "stdout",
          "text": [
            "MoviePy - Writing audio in 21.mp3\n"
          ]
        },
        {
          "output_type": "stream",
          "name": "stderr",
          "text": [
            "\n",
            "chunk:   0%|          | 0/221 [00:00<?, ?it/s, now=None]\u001b[A\n",
            "chunk:  28%|██▊       | 61/221 [00:00<00:00, 609.36it/s, now=None]\u001b[A\n",
            "chunk:  59%|█████▉    | 130/221 [00:00<00:00, 640.06it/s, now=None]\u001b[A\n",
            "chunk:  88%|████████▊ | 194/221 [00:00<00:00, 603.17it/s, now=None]\u001b[A\n",
            "chunk:   0%|          | 1/221 [25:46<94:31:04, 1546.66s/it, now=None]"
          ]
        },
        {
          "output_type": "stream",
          "name": "stdout",
          "text": [
            "MoviePy - Done.\n"
          ]
        },
        {
          "output_type": "stream",
          "name": "stderr",
          "text": [
            "WARNING:py.warnings:<ipython-input-8-6e590a0c9489>:5: DeprecationWarning: Call to deprecated function all (This object can be treated as a list, all() is useless).\n",
            "  video_streams = yt.streams.filter(only_audio=True).all()\n",
            "\n",
            "chunk:   0%|          | 1/221 [25:58<95:14:55, 1558.61s/it, now=None]"
          ]
        },
        {
          "output_type": "stream",
          "name": "stdout",
          "text": [
            "MoviePy - Writing audio in 22.mp3\n"
          ]
        },
        {
          "output_type": "stream",
          "name": "stderr",
          "text": [
            "\n",
            "chunk:   0%|          | 0/221 [00:00<?, ?it/s, now=None]\u001b[A\n",
            "chunk:  27%|██▋       | 60/221 [00:00<00:00, 599.77it/s, now=None]\u001b[A\n",
            "chunk:  59%|█████▉    | 131/221 [00:00<00:00, 661.99it/s, now=None]\u001b[A\n",
            "chunk:  93%|█████████▎| 205/221 [00:00<00:00, 684.62it/s, now=None]\u001b[A\n",
            "chunk:   0%|          | 1/221 [25:58<95:16:15, 1558.98s/it, now=None]"
          ]
        },
        {
          "output_type": "stream",
          "name": "stdout",
          "text": [
            "MoviePy - Done.\n"
          ]
        },
        {
          "output_type": "stream",
          "name": "stderr",
          "text": [
            "WARNING:py.warnings:<ipython-input-8-6e590a0c9489>:5: DeprecationWarning: Call to deprecated function all (This object can be treated as a list, all() is useless).\n",
            "  video_streams = yt.streams.filter(only_audio=True).all()\n",
            "\n",
            "chunk:   0%|          | 1/221 [26:09<95:55:19, 1569.63s/it, now=None]"
          ]
        },
        {
          "output_type": "stream",
          "name": "stdout",
          "text": [
            "MoviePy - Writing audio in 23.mp3\n"
          ]
        },
        {
          "output_type": "stream",
          "name": "stderr",
          "text": [
            "\n",
            "chunk:   0%|          | 0/221 [00:00<?, ?it/s, now=None]\u001b[A\n",
            "chunk:  31%|███       | 68/221 [00:00<00:00, 661.97it/s, now=None]\u001b[A\n",
            "chunk:  61%|██████    | 135/221 [00:00<00:00, 636.09it/s, now=None]\u001b[A\n",
            "chunk:  90%|█████████ | 199/221 [00:00<00:00, 577.49it/s, now=None]\u001b[A\n",
            "chunk:   0%|          | 1/221 [26:10<95:56:53, 1570.06s/it, now=None]"
          ]
        },
        {
          "output_type": "stream",
          "name": "stdout",
          "text": [
            "MoviePy - Done.\n"
          ]
        },
        {
          "output_type": "stream",
          "name": "stderr",
          "text": [
            "WARNING:py.warnings:<ipython-input-8-6e590a0c9489>:5: DeprecationWarning: Call to deprecated function all (This object can be treated as a list, all() is useless).\n",
            "  video_streams = yt.streams.filter(only_audio=True).all()\n",
            "\n",
            "chunk:   0%|          | 1/221 [26:19<96:32:23, 1579.74s/it, now=None]"
          ]
        },
        {
          "output_type": "stream",
          "name": "stdout",
          "text": [
            "MoviePy - Writing audio in 24.mp3\n"
          ]
        },
        {
          "output_type": "stream",
          "name": "stderr",
          "text": [
            "\n",
            "chunk:   0%|          | 0/221 [00:00<?, ?it/s, now=None]\u001b[A\n",
            "chunk:  28%|██▊       | 61/221 [00:00<00:00, 599.59it/s, now=None]\u001b[A\n",
            "chunk:  55%|█████▍    | 121/221 [00:00<00:00, 582.39it/s, now=None]\u001b[A\n",
            "chunk:  81%|████████▏ | 180/221 [00:00<00:00, 532.28it/s, now=None]\u001b[A\n",
            "chunk:   0%|          | 1/221 [26:20<96:34:05, 1580.21s/it, now=None]"
          ]
        },
        {
          "output_type": "stream",
          "name": "stdout",
          "text": [
            "MoviePy - Done.\n"
          ]
        },
        {
          "output_type": "stream",
          "name": "stderr",
          "text": [
            "WARNING:py.warnings:<ipython-input-8-6e590a0c9489>:5: DeprecationWarning: Call to deprecated function all (This object can be treated as a list, all() is useless).\n",
            "  video_streams = yt.streams.filter(only_audio=True).all()\n",
            "\n",
            "chunk:   0%|          | 1/221 [26:22<96:40:49, 1582.04s/it, now=None]"
          ]
        },
        {
          "output_type": "stream",
          "name": "stdout",
          "text": [
            "MoviePy - Writing audio in 25.mp3\n"
          ]
        },
        {
          "output_type": "stream",
          "name": "stderr",
          "text": [
            "\n",
            "chunk:   0%|          | 0/221 [00:00<?, ?it/s, now=None]\u001b[A\n",
            "chunk:  24%|██▎       | 52/221 [00:00<00:00, 474.34it/s, now=None]\u001b[A\n",
            "chunk:  53%|█████▎    | 118/221 [00:00<00:00, 571.55it/s, now=None]\u001b[A\n",
            "chunk:  81%|████████  | 179/221 [00:00<00:00, 577.94it/s, now=None]\u001b[A\n",
            "chunk:   0%|          | 1/221 [26:22<96:42:22, 1582.47s/it, now=None]"
          ]
        },
        {
          "output_type": "stream",
          "name": "stdout",
          "text": [
            "MoviePy - Done.\n"
          ]
        },
        {
          "output_type": "stream",
          "name": "stderr",
          "text": [
            "WARNING:py.warnings:<ipython-input-8-6e590a0c9489>:5: DeprecationWarning: Call to deprecated function all (This object can be treated as a list, all() is useless).\n",
            "  video_streams = yt.streams.filter(only_audio=True).all()\n",
            "\n",
            "chunk:   0%|          | 1/221 [26:24<96:49:10, 1584.32s/it, now=None]"
          ]
        },
        {
          "output_type": "stream",
          "name": "stdout",
          "text": [
            "MoviePy - Writing audio in 26.mp3\n"
          ]
        },
        {
          "output_type": "stream",
          "name": "stderr",
          "text": [
            "\n",
            "chunk:   0%|          | 0/221 [00:00<?, ?it/s, now=None]\u001b[A\n",
            "chunk:  25%|██▌       | 56/221 [00:00<00:00, 533.04it/s, now=None]\u001b[A\n",
            "chunk:  57%|█████▋    | 125/221 [00:00<00:00, 623.23it/s, now=None]\u001b[A\n",
            "chunk:  87%|████████▋ | 192/221 [00:00<00:00, 637.11it/s, now=None]\u001b[A\n",
            "chunk:   0%|          | 1/221 [26:24<96:50:37, 1584.72s/it, now=None]"
          ]
        },
        {
          "output_type": "stream",
          "name": "stdout",
          "text": [
            "MoviePy - Done.\n"
          ]
        },
        {
          "output_type": "stream",
          "name": "stderr",
          "text": [
            "WARNING:py.warnings:<ipython-input-8-6e590a0c9489>:5: DeprecationWarning: Call to deprecated function all (This object can be treated as a list, all() is useless).\n",
            "  video_streams = yt.streams.filter(only_audio=True).all()\n",
            "\n",
            "chunk:   0%|          | 1/221 [26:34<97:25:02, 1594.10s/it, now=None]"
          ]
        },
        {
          "output_type": "stream",
          "name": "stdout",
          "text": [
            "MoviePy - Writing audio in 27.mp3\n"
          ]
        },
        {
          "output_type": "stream",
          "name": "stderr",
          "text": [
            "\n",
            "chunk:   0%|          | 0/221 [00:00<?, ?it/s, now=None]\u001b[A\n",
            "chunk:  34%|███▍      | 75/221 [00:00<00:00, 749.26it/s, now=None]\u001b[A\n",
            "chunk:  68%|██████▊   | 150/221 [00:00<00:00, 709.32it/s, now=None]\u001b[A\n",
            "chunk:   0%|          | 1/221 [26:34<97:26:26, 1594.48s/it, now=None]"
          ]
        },
        {
          "output_type": "stream",
          "name": "stdout",
          "text": [
            "MoviePy - Done.\n"
          ]
        },
        {
          "output_type": "stream",
          "name": "stderr",
          "text": [
            "WARNING:py.warnings:<ipython-input-8-6e590a0c9489>:5: DeprecationWarning: Call to deprecated function all (This object can be treated as a list, all() is useless).\n",
            "  video_streams = yt.streams.filter(only_audio=True).all()\n",
            "\n",
            "chunk:   0%|          | 1/221 [26:36<97:35:30, 1596.96s/it, now=None]"
          ]
        },
        {
          "output_type": "stream",
          "name": "stdout",
          "text": [
            "MoviePy - Writing audio in 28.mp3\n"
          ]
        },
        {
          "output_type": "stream",
          "name": "stderr",
          "text": [
            "\n",
            "chunk:   0%|          | 0/221 [00:00<?, ?it/s, now=None]\u001b[A\n",
            "chunk:  16%|█▋        | 36/221 [00:00<00:00, 334.08it/s, now=None]\u001b[A\n",
            "chunk:  35%|███▍      | 77/221 [00:00<00:00, 361.06it/s, now=None]\u001b[A\n",
            "chunk:  52%|█████▏    | 115/221 [00:00<00:00, 368.80it/s, now=None]\u001b[A\n",
            "chunk:  70%|███████   | 155/221 [00:00<00:00, 368.36it/s, now=None]\u001b[A\n",
            "chunk:  87%|████████▋ | 192/221 [00:00<00:00, 359.10it/s, now=None]\u001b[A\n",
            "chunk:   0%|          | 1/221 [26:37<97:37:57, 1597.63s/it, now=None]"
          ]
        },
        {
          "output_type": "stream",
          "name": "stdout",
          "text": [
            "MoviePy - Done.\n"
          ]
        },
        {
          "output_type": "stream",
          "name": "stderr",
          "text": [
            "WARNING:py.warnings:<ipython-input-8-6e590a0c9489>:5: DeprecationWarning: Call to deprecated function all (This object can be treated as a list, all() is useless).\n",
            "  video_streams = yt.streams.filter(only_audio=True).all()\n",
            "\n",
            "chunk:   0%|          | 1/221 [26:50<98:25:55, 1610.71s/it, now=None]"
          ]
        },
        {
          "output_type": "stream",
          "name": "stdout",
          "text": [
            "MoviePy - Writing audio in 29.mp3\n"
          ]
        },
        {
          "output_type": "stream",
          "name": "stderr",
          "text": [
            "\n",
            "chunk:   0%|          | 0/221 [00:00<?, ?it/s, now=None]\u001b[A\n",
            "chunk:  27%|██▋       | 60/221 [00:00<00:00, 591.64it/s, now=None]\u001b[A\n",
            "chunk:  55%|█████▌    | 122/221 [00:00<00:00, 594.68it/s, now=None]\u001b[A\n",
            "chunk:  82%|████████▏ | 182/221 [00:00<00:00, 590.46it/s, now=None]\u001b[A\n",
            "chunk:   0%|          | 1/221 [26:51<98:27:28, 1611.13s/it, now=None]"
          ]
        },
        {
          "output_type": "stream",
          "name": "stdout",
          "text": [
            "MoviePy - Done.\n"
          ]
        },
        {
          "output_type": "stream",
          "name": "stderr",
          "text": [
            "WARNING:py.warnings:<ipython-input-8-6e590a0c9489>:5: DeprecationWarning: Call to deprecated function all (This object can be treated as a list, all() is useless).\n",
            "  video_streams = yt.streams.filter(only_audio=True).all()\n",
            "\n",
            "chunk:   0%|          | 1/221 [27:01<99:04:44, 1621.29s/it, now=None]"
          ]
        },
        {
          "output_type": "stream",
          "name": "stdout",
          "text": [
            "MoviePy - Writing audio in 30.mp3\n"
          ]
        },
        {
          "output_type": "stream",
          "name": "stderr",
          "text": [
            "\n",
            "chunk:   0%|          | 0/221 [00:00<?, ?it/s, now=None]\u001b[A\n",
            "chunk:  16%|█▋        | 36/221 [00:00<00:00, 334.87it/s, now=None]\u001b[A\n",
            "chunk:  35%|███▍      | 77/221 [00:00<00:00, 374.11it/s, now=None]\u001b[A\n",
            "chunk:  52%|█████▏    | 115/221 [00:00<00:00, 374.36it/s, now=None]\u001b[A\n",
            "chunk:  70%|██████▉   | 154/221 [00:00<00:00, 370.34it/s, now=None]\u001b[A\n",
            "chunk:  89%|████████▊ | 196/221 [00:00<00:00, 380.62it/s, now=None]\u001b[A\n",
            "chunk:   0%|          | 1/221 [27:01<99:07:05, 1621.93s/it, now=None]"
          ]
        },
        {
          "output_type": "stream",
          "name": "stdout",
          "text": [
            "MoviePy - Done.\n"
          ]
        },
        {
          "output_type": "stream",
          "name": "stderr",
          "text": [
            "WARNING:py.warnings:<ipython-input-8-6e590a0c9489>:5: DeprecationWarning: Call to deprecated function all (This object can be treated as a list, all() is useless).\n",
            "  video_streams = yt.streams.filter(only_audio=True).all()\n",
            "\n",
            "chunk:   0%|          | 1/221 [27:13<99:49:36, 1633.53s/it, now=None]"
          ]
        },
        {
          "output_type": "stream",
          "name": "stdout",
          "text": [
            "MoviePy - Writing audio in 31.mp3\n"
          ]
        },
        {
          "output_type": "stream",
          "name": "stderr",
          "text": [
            "\n",
            "chunk:   0%|          | 0/221 [00:00<?, ?it/s, now=None]\u001b[A\n",
            "chunk:  28%|██▊       | 61/221 [00:00<00:00, 608.95it/s, now=None]\u001b[A\n",
            "chunk:  69%|██████▉   | 153/221 [00:00<00:00, 789.74it/s, now=None]\u001b[A\n",
            "chunk:   0%|          | 1/221 [27:13<99:50:53, 1633.88s/it, now=None]"
          ]
        },
        {
          "output_type": "stream",
          "name": "stdout",
          "text": [
            "MoviePy - Done.\n"
          ]
        },
        {
          "output_type": "stream",
          "name": "stderr",
          "text": [
            "WARNING:py.warnings:<ipython-input-8-6e590a0c9489>:5: DeprecationWarning: Call to deprecated function all (This object can be treated as a list, all() is useless).\n",
            "  video_streams = yt.streams.filter(only_audio=True).all()\n",
            "\n",
            "chunk:   0%|          | 1/221 [27:24<100:28:04, 1644.02s/it, now=None]"
          ]
        },
        {
          "output_type": "stream",
          "name": "stdout",
          "text": [
            "MoviePy - Writing audio in 32.mp3\n"
          ]
        },
        {
          "output_type": "stream",
          "name": "stderr",
          "text": [
            "\n",
            "chunk:   0%|          | 0/221 [00:00<?, ?it/s, now=None]\u001b[A\n",
            "chunk:  16%|█▋        | 36/221 [00:00<00:00, 332.97it/s, now=None]\u001b[A\n",
            "chunk:  33%|███▎      | 73/221 [00:00<00:00, 353.31it/s, now=None]\u001b[A\n",
            "chunk:  50%|████▉     | 110/221 [00:00<00:00, 360.56it/s, now=None]\u001b[A\n",
            "chunk:  70%|██████▉   | 154/221 [00:00<00:00, 389.03it/s, now=None]\u001b[A\n",
            "chunk:  90%|█████████ | 199/221 [00:00<00:00, 405.07it/s, now=None]\u001b[A\n",
            "chunk:   0%|          | 1/221 [27:24<100:30:20, 1644.64s/it, now=None]"
          ]
        },
        {
          "output_type": "stream",
          "name": "stdout",
          "text": [
            "MoviePy - Done.\n"
          ]
        },
        {
          "output_type": "stream",
          "name": "stderr",
          "text": [
            "WARNING:py.warnings:<ipython-input-8-6e590a0c9489>:5: DeprecationWarning: Call to deprecated function all (This object can be treated as a list, all() is useless).\n",
            "  video_streams = yt.streams.filter(only_audio=True).all()\n",
            "\n",
            "chunk:   0%|          | 1/221 [27:36<101:14:33, 1656.70s/it, now=None]"
          ]
        },
        {
          "output_type": "stream",
          "name": "stdout",
          "text": [
            "MoviePy - Writing audio in 33.mp3\n"
          ]
        },
        {
          "output_type": "stream",
          "name": "stderr",
          "text": [
            "\n",
            "chunk:   0%|          | 0/221 [00:00<?, ?it/s, now=None]\u001b[A\n",
            "chunk:  25%|██▌       | 56/221 [00:00<00:00, 542.71it/s, now=None]\u001b[A\n",
            "chunk:  57%|█████▋    | 126/221 [00:00<00:00, 620.55it/s, now=None]\u001b[A\n",
            "chunk:  86%|████████▌ | 189/221 [00:00<00:00, 617.17it/s, now=None]\u001b[A\n",
            "chunk:   0%|          | 1/221 [27:37<101:16:03, 1657.11s/it, now=None]"
          ]
        },
        {
          "output_type": "stream",
          "name": "stdout",
          "text": [
            "MoviePy - Done.\n"
          ]
        },
        {
          "output_type": "stream",
          "name": "stderr",
          "text": [
            "WARNING:py.warnings:<ipython-input-8-6e590a0c9489>:5: DeprecationWarning: Call to deprecated function all (This object can be treated as a list, all() is useless).\n",
            "  video_streams = yt.streams.filter(only_audio=True).all()\n",
            "\n",
            "chunk:   0%|          | 1/221 [27:48<101:59:09, 1668.86s/it, now=None]"
          ]
        },
        {
          "output_type": "stream",
          "name": "stdout",
          "text": [
            "MoviePy - Writing audio in 34.mp3\n"
          ]
        },
        {
          "output_type": "stream",
          "name": "stderr",
          "text": [
            "\n",
            "chunk:   0%|          | 0/221 [00:00<?, ?it/s, now=None]\u001b[A\n",
            "chunk:  16%|█▋        | 36/221 [00:00<00:00, 244.79it/s, now=None]\u001b[A\n",
            "chunk:  37%|███▋      | 81/221 [00:00<00:00, 343.07it/s, now=None]\u001b[A\n",
            "chunk:  57%|█████▋    | 126/221 [00:00<00:00, 376.90it/s, now=None]\u001b[A\n",
            "chunk:  77%|███████▋  | 171/221 [00:00<00:00, 400.56it/s, now=None]\u001b[A\n",
            "chunk:  98%|█████████▊| 216/221 [00:00<00:00, 414.40it/s, now=None]\u001b[A\n",
            "chunk:   0%|          | 1/221 [27:49<102:01:27, 1669.49s/it, now=None]"
          ]
        },
        {
          "output_type": "stream",
          "name": "stdout",
          "text": [
            "MoviePy - Done.\n"
          ]
        },
        {
          "output_type": "stream",
          "name": "stderr",
          "text": [
            "WARNING:py.warnings:<ipython-input-8-6e590a0c9489>:5: DeprecationWarning: Call to deprecated function all (This object can be treated as a list, all() is useless).\n",
            "  video_streams = yt.streams.filter(only_audio=True).all()\n",
            "\n",
            "chunk:   0%|          | 1/221 [28:03<102:54:01, 1683.83s/it, now=None]"
          ]
        },
        {
          "output_type": "stream",
          "name": "stdout",
          "text": [
            "MoviePy - Writing audio in 35.mp3\n"
          ]
        },
        {
          "output_type": "stream",
          "name": "stderr",
          "text": [
            "\n",
            "chunk:   0%|          | 0/221 [00:00<?, ?it/s, now=None]\u001b[A\n",
            "chunk:  16%|█▋        | 36/221 [00:00<00:00, 269.43it/s, now=None]\u001b[A\n",
            "chunk:  31%|███       | 68/221 [00:00<00:00, 292.12it/s, now=None]\u001b[A\n",
            "chunk:  52%|█████▏    | 114/221 [00:00<00:00, 358.88it/s, now=None]\u001b[A\n",
            "chunk:  72%|███████▏  | 159/221 [00:00<00:00, 382.35it/s, now=None]\u001b[A\n",
            "chunk:  92%|█████████▏| 204/221 [00:00<00:00, 402.91it/s, now=None]\u001b[A\n",
            "chunk:   0%|          | 1/221 [28:04<102:56:27, 1684.49s/it, now=None]"
          ]
        },
        {
          "output_type": "stream",
          "name": "stdout",
          "text": [
            "MoviePy - Done.\n"
          ]
        },
        {
          "output_type": "stream",
          "name": "stderr",
          "text": [
            "WARNING:py.warnings:<ipython-input-8-6e590a0c9489>:5: DeprecationWarning: Call to deprecated function all (This object can be treated as a list, all() is useless).\n",
            "  video_streams = yt.streams.filter(only_audio=True).all()\n",
            "\n",
            "chunk:   0%|          | 1/221 [28:15<103:36:41, 1695.46s/it, now=None]"
          ]
        },
        {
          "output_type": "stream",
          "name": "stdout",
          "text": [
            "MoviePy - Writing audio in 36.mp3\n"
          ]
        },
        {
          "output_type": "stream",
          "name": "stderr",
          "text": [
            "\n",
            "chunk:   0%|          | 0/221 [00:00<?, ?it/s, now=None]\u001b[A\n",
            "chunk:  29%|██▉       | 64/221 [00:00<00:00, 628.35it/s, now=None]\u001b[A\n",
            "chunk:  59%|█████▉    | 131/221 [00:00<00:00, 647.28it/s, now=None]\u001b[A\n",
            "chunk:  91%|█████████ | 201/221 [00:00<00:00, 661.52it/s, now=None]\u001b[A\n",
            "chunk:   0%|          | 1/221 [28:15<103:38:07, 1695.85s/it, now=None]"
          ]
        },
        {
          "output_type": "stream",
          "name": "stdout",
          "text": [
            "MoviePy - Done.\n"
          ]
        },
        {
          "output_type": "stream",
          "name": "stderr",
          "text": [
            "WARNING:py.warnings:<ipython-input-8-6e590a0c9489>:5: DeprecationWarning: Call to deprecated function all (This object can be treated as a list, all() is useless).\n",
            "  video_streams = yt.streams.filter(only_audio=True).all()\n",
            "\n",
            "chunk:   0%|          | 1/221 [28:28<104:23:39, 1708.27s/it, now=None]"
          ]
        },
        {
          "output_type": "stream",
          "name": "stdout",
          "text": [
            "MoviePy - Writing audio in 37.mp3\n"
          ]
        },
        {
          "output_type": "stream",
          "name": "stderr",
          "text": [
            "\n",
            "chunk:   0%|          | 0/221 [00:00<?, ?it/s, now=None]\u001b[A\n",
            "chunk:  43%|████▎     | 94/221 [00:00<00:00, 926.46it/s, now=None]\u001b[A\n",
            "chunk:  87%|████████▋ | 192/221 [00:00<00:00, 957.08it/s, now=None]\u001b[A\n",
            "chunk:   0%|          | 1/221 [28:28<104:24:40, 1708.55s/it, now=None]"
          ]
        },
        {
          "output_type": "stream",
          "name": "stdout",
          "text": [
            "MoviePy - Done.\n"
          ]
        },
        {
          "output_type": "stream",
          "name": "stderr",
          "text": [
            "WARNING:py.warnings:<ipython-input-8-6e590a0c9489>:5: DeprecationWarning: Call to deprecated function all (This object can be treated as a list, all() is useless).\n",
            "  video_streams = yt.streams.filter(only_audio=True).all()\n",
            "\n",
            "chunk:   0%|          | 1/221 [28:38<105:02:17, 1718.81s/it, now=None]"
          ]
        },
        {
          "output_type": "stream",
          "name": "stdout",
          "text": [
            "MoviePy - Writing audio in 38.mp3\n"
          ]
        },
        {
          "output_type": "stream",
          "name": "stderr",
          "text": [
            "\n",
            "chunk:   0%|          | 0/221 [00:00<?, ?it/s, now=None]\u001b[A\n",
            "chunk:  40%|███▉      | 88/221 [00:00<00:00, 868.85it/s, now=None]\u001b[A\n",
            "chunk:  81%|████████  | 178/221 [00:00<00:00, 873.26it/s, now=None]\u001b[A\n",
            "chunk:   0%|          | 1/221 [28:39<105:03:20, 1719.10s/it, now=None]"
          ]
        },
        {
          "output_type": "stream",
          "name": "stdout",
          "text": [
            "MoviePy - Done.\n"
          ]
        },
        {
          "output_type": "stream",
          "name": "stderr",
          "text": [
            "WARNING:py.warnings:<ipython-input-8-6e590a0c9489>:5: DeprecationWarning: Call to deprecated function all (This object can be treated as a list, all() is useless).\n",
            "  video_streams = yt.streams.filter(only_audio=True).all()\n",
            "\n",
            "chunk:   0%|          | 1/221 [28:48<105:37:34, 1728.43s/it, now=None]"
          ]
        },
        {
          "output_type": "stream",
          "name": "stdout",
          "text": [
            "MoviePy - Writing audio in 39.mp3\n"
          ]
        },
        {
          "output_type": "stream",
          "name": "stderr",
          "text": [
            "\n",
            "chunk:   0%|          | 0/221 [00:00<?, ?it/s, now=None]\u001b[A\n",
            "chunk:  37%|███▋      | 81/221 [00:00<00:00, 775.56it/s, now=None]\u001b[A\n",
            "chunk:  72%|███████▏  | 159/221 [00:00<00:00, 622.00it/s, now=None]\u001b[A\n",
            "chunk:   0%|          | 1/221 [28:48<105:39:17, 1728.90s/it, now=None]"
          ]
        },
        {
          "output_type": "stream",
          "name": "stdout",
          "text": [
            "MoviePy - Done.\n"
          ]
        },
        {
          "output_type": "stream",
          "name": "stderr",
          "text": [
            "WARNING:py.warnings:<ipython-input-8-6e590a0c9489>:5: DeprecationWarning: Call to deprecated function all (This object can be treated as a list, all() is useless).\n",
            "  video_streams = yt.streams.filter(only_audio=True).all()\n",
            "\n",
            "chunk:   0%|          | 1/221 [29:01<106:25:46, 1741.58s/it, now=None]"
          ]
        },
        {
          "output_type": "stream",
          "name": "stdout",
          "text": [
            "MoviePy - Writing audio in 40.mp3\n"
          ]
        },
        {
          "output_type": "stream",
          "name": "stderr",
          "text": [
            "\n",
            "chunk:   0%|          | 0/221 [00:00<?, ?it/s, now=None]\u001b[A\n",
            "chunk:  25%|██▌       | 56/221 [00:00<00:00, 538.73it/s, now=None]\u001b[A\n",
            "chunk:  50%|████▉     | 110/221 [00:00<00:00, 499.96it/s, now=None]\u001b[A\n",
            "chunk:  78%|███████▊  | 172/221 [00:00<00:00, 551.32it/s, now=None]\u001b[A\n",
            "chunk:   0%|          | 1/221 [29:02<106:27:24, 1742.02s/it, now=None]"
          ]
        },
        {
          "output_type": "stream",
          "name": "stdout",
          "text": [
            "MoviePy - Done.\n"
          ]
        },
        {
          "output_type": "stream",
          "name": "stderr",
          "text": [
            "WARNING:py.warnings:<ipython-input-8-6e590a0c9489>:5: DeprecationWarning: Call to deprecated function all (This object can be treated as a list, all() is useless).\n",
            "  video_streams = yt.streams.filter(only_audio=True).all()\n",
            "\n",
            "chunk:   0%|          | 1/221 [29:11<107:03:49, 1751.95s/it, now=None]"
          ]
        },
        {
          "output_type": "stream",
          "name": "stdout",
          "text": [
            "MoviePy - Writing audio in 41.mp3\n"
          ]
        },
        {
          "output_type": "stream",
          "name": "stderr",
          "text": [
            "\n",
            "chunk:   0%|          | 0/221 [00:00<?, ?it/s, now=None]\u001b[A\n",
            "chunk:  22%|██▏       | 48/221 [00:00<00:00, 468.15it/s, now=None]\u001b[A\n",
            "chunk:  43%|████▎     | 95/221 [00:00<00:00, 456.10it/s, now=None]\u001b[A\n",
            "chunk:  64%|██████▍   | 141/221 [00:00<00:00, 435.40it/s, now=None]\u001b[A\n",
            "chunk:  89%|████████▊ | 196/221 [00:00<00:00, 471.12it/s, now=None]\u001b[A\n",
            "chunk:   0%|          | 1/221 [29:12<107:05:45, 1752.48s/it, now=None]"
          ]
        },
        {
          "output_type": "stream",
          "name": "stdout",
          "text": [
            "MoviePy - Done.\n"
          ]
        },
        {
          "output_type": "stream",
          "name": "stderr",
          "text": [
            "WARNING:py.warnings:<ipython-input-8-6e590a0c9489>:5: DeprecationWarning: Call to deprecated function all (This object can be treated as a list, all() is useless).\n",
            "  video_streams = yt.streams.filter(only_audio=True).all()\n",
            "\n",
            "chunk:   0%|          | 1/221 [29:23<107:45:39, 1763.36s/it, now=None]"
          ]
        },
        {
          "output_type": "stream",
          "name": "stdout",
          "text": [
            "MoviePy - Writing audio in 42.mp3\n"
          ]
        },
        {
          "output_type": "stream",
          "name": "stderr",
          "text": [
            "\n",
            "chunk:   0%|          | 0/221 [00:00<?, ?it/s, now=None]\u001b[A\n",
            "chunk:  27%|██▋       | 60/221 [00:00<00:00, 579.41it/s, now=None]\u001b[A\n",
            "chunk:  55%|█████▌    | 122/221 [00:00<00:00, 585.82it/s, now=None]\u001b[A\n",
            "chunk:  85%|████████▍ | 187/221 [00:00<00:00, 608.13it/s, now=None]\u001b[A\n",
            "chunk:   0%|          | 1/221 [29:23<107:47:09, 1763.77s/it, now=None]"
          ]
        },
        {
          "output_type": "stream",
          "name": "stdout",
          "text": [
            "MoviePy - Done.\n"
          ]
        },
        {
          "output_type": "stream",
          "name": "stderr",
          "text": [
            "WARNING:py.warnings:<ipython-input-8-6e590a0c9489>:5: DeprecationWarning: Call to deprecated function all (This object can be treated as a list, all() is useless).\n",
            "  video_streams = yt.streams.filter(only_audio=True).all()\n",
            "\n",
            "chunk:   0%|          | 1/221 [29:35<108:31:11, 1775.78s/it, now=None]"
          ]
        },
        {
          "output_type": "stream",
          "name": "stdout",
          "text": [
            "MoviePy - Writing audio in 43.mp3\n"
          ]
        },
        {
          "output_type": "stream",
          "name": "stderr",
          "text": [
            "\n",
            "chunk:   0%|          | 0/221 [00:00<?, ?it/s, now=None]\u001b[A\n",
            "chunk:  27%|██▋       | 60/221 [00:00<00:00, 574.37it/s, now=None]\u001b[A\n",
            "chunk:  55%|█████▌    | 122/221 [00:00<00:00, 599.89it/s, now=None]\u001b[A\n",
            "chunk:  85%|████████▍ | 187/221 [00:00<00:00, 618.41it/s, now=None]\u001b[A\n",
            "chunk:   0%|          | 1/221 [29:36<108:32:41, 1776.19s/it, now=None]"
          ]
        },
        {
          "output_type": "stream",
          "name": "stdout",
          "text": [
            "MoviePy - Done.\n"
          ]
        },
        {
          "output_type": "stream",
          "name": "stderr",
          "text": [
            "WARNING:py.warnings:<ipython-input-8-6e590a0c9489>:5: DeprecationWarning: Call to deprecated function all (This object can be treated as a list, all() is useless).\n",
            "  video_streams = yt.streams.filter(only_audio=True).all()\n",
            "\n",
            "chunk:   0%|          | 1/221 [29:46<109:09:05, 1786.12s/it, now=None]"
          ]
        },
        {
          "output_type": "stream",
          "name": "stdout",
          "text": [
            "MoviePy - Writing audio in 44.mp3\n"
          ]
        },
        {
          "output_type": "stream",
          "name": "stderr",
          "text": [
            "\n",
            "chunk:   0%|          | 0/221 [00:00<?, ?it/s, now=None]\u001b[A\n",
            "chunk:  16%|█▋        | 36/221 [00:00<00:00, 331.40it/s, now=None]\u001b[A\n",
            "chunk:  35%|███▍      | 77/221 [00:00<00:00, 366.66it/s, now=None]\u001b[A\n",
            "chunk:  52%|█████▏    | 114/221 [00:00<00:00, 353.99it/s, now=None]\u001b[A\n",
            "chunk:  68%|██████▊   | 150/221 [00:00<00:00, 354.04it/s, now=None]\u001b[A\n",
            "chunk:  86%|████████▋ | 191/221 [00:00<00:00, 373.30it/s, now=None]\u001b[A\n",
            "chunk:   0%|          | 1/221 [29:46<109:11:32, 1786.79s/it, now=None]"
          ]
        },
        {
          "output_type": "stream",
          "name": "stdout",
          "text": [
            "MoviePy - Done.\n"
          ]
        },
        {
          "output_type": "stream",
          "name": "stderr",
          "text": [
            "WARNING:py.warnings:<ipython-input-8-6e590a0c9489>:5: DeprecationWarning: Call to deprecated function all (This object can be treated as a list, all() is useless).\n",
            "  video_streams = yt.streams.filter(only_audio=True).all()\n",
            "\n",
            "chunk:   0%|          | 1/221 [29:56<109:46:01, 1796.19s/it, now=None]"
          ]
        },
        {
          "output_type": "stream",
          "name": "stdout",
          "text": [
            "MoviePy - Writing audio in 45.mp3\n"
          ]
        },
        {
          "output_type": "stream",
          "name": "stderr",
          "text": [
            "\n",
            "chunk:   0%|          | 0/221 [00:00<?, ?it/s, now=None]\u001b[A\n",
            "chunk:  38%|███▊      | 84/221 [00:00<00:00, 831.67it/s, now=None]\u001b[A\n",
            "chunk:  76%|███████▌  | 168/221 [00:00<00:00, 804.94it/s, now=None]\u001b[A\n",
            "chunk:   0%|          | 1/221 [29:56<109:47:10, 1796.50s/it, now=None]"
          ]
        },
        {
          "output_type": "stream",
          "name": "stdout",
          "text": [
            "MoviePy - Done.\n"
          ]
        },
        {
          "output_type": "stream",
          "name": "stderr",
          "text": [
            "WARNING:py.warnings:<ipython-input-8-6e590a0c9489>:5: DeprecationWarning: Call to deprecated function all (This object can be treated as a list, all() is useless).\n",
            "  video_streams = yt.streams.filter(only_audio=True).all()\n",
            "\n",
            "chunk:   0%|          | 1/221 [30:08<110:32:28, 1808.86s/it, now=None]"
          ]
        },
        {
          "output_type": "stream",
          "name": "stdout",
          "text": [
            "MoviePy - Writing audio in 46.mp3\n"
          ]
        },
        {
          "output_type": "stream",
          "name": "stderr",
          "text": [
            "\n",
            "chunk:   0%|          | 0/221 [00:00<?, ?it/s, now=None]\u001b[A\n",
            "chunk:  33%|███▎      | 72/221 [00:00<00:00, 697.25it/s, now=None]\u001b[A\n",
            "chunk:  68%|██████▊   | 150/221 [00:00<00:00, 737.21it/s, now=None]\u001b[A\n",
            "chunk:   0%|          | 1/221 [30:09<110:33:43, 1809.20s/it, now=None]"
          ]
        },
        {
          "output_type": "stream",
          "name": "stdout",
          "text": [
            "MoviePy - Done.\n"
          ]
        },
        {
          "output_type": "stream",
          "name": "stderr",
          "text": [
            "WARNING:py.warnings:<ipython-input-8-6e590a0c9489>:5: DeprecationWarning: Call to deprecated function all (This object can be treated as a list, all() is useless).\n",
            "  video_streams = yt.streams.filter(only_audio=True).all()\n",
            "\n",
            "chunk:   0%|          | 1/221 [30:21<111:19:02, 1821.55s/it, now=None]"
          ]
        },
        {
          "output_type": "stream",
          "name": "stdout",
          "text": [
            "MoviePy - Writing audio in 47.mp3\n"
          ]
        },
        {
          "output_type": "stream",
          "name": "stderr",
          "text": [
            "\n",
            "chunk:   0%|          | 0/221 [00:00<?, ?it/s, now=None]\u001b[A\n",
            "chunk:  38%|███▊      | 85/221 [00:00<00:00, 843.95it/s, now=None]\u001b[A\n",
            "chunk:  87%|████████▋ | 193/221 [00:00<00:00, 981.58it/s, now=None]\u001b[A\n",
            "chunk:   0%|          | 1/221 [30:21<111:20:02, 1821.83s/it, now=None]"
          ]
        },
        {
          "output_type": "stream",
          "name": "stdout",
          "text": [
            "MoviePy - Done.\n"
          ]
        },
        {
          "output_type": "stream",
          "name": "stderr",
          "text": [
            "WARNING:py.warnings:<ipython-input-8-6e590a0c9489>:5: DeprecationWarning: Call to deprecated function all (This object can be treated as a list, all() is useless).\n",
            "  video_streams = yt.streams.filter(only_audio=True).all()\n",
            "\n",
            "chunk:   0%|          | 1/221 [30:31<111:56:18, 1831.72s/it, now=None]"
          ]
        },
        {
          "output_type": "stream",
          "name": "stdout",
          "text": [
            "MoviePy - Writing audio in 48.mp3\n"
          ]
        },
        {
          "output_type": "stream",
          "name": "stderr",
          "text": [
            "\n",
            "chunk:   0%|          | 0/221 [00:00<?, ?it/s, now=None]\u001b[A\n",
            "chunk:  20%|█▉        | 44/221 [00:00<00:00, 437.03it/s, now=None]\u001b[A\n",
            "chunk:  48%|████▊     | 105/221 [00:00<00:00, 531.21it/s, now=None]\u001b[A\n",
            "chunk:  79%|███████▊  | 174/221 [00:00<00:00, 602.91it/s, now=None]\u001b[A\n",
            "chunk:   0%|          | 1/221 [30:32<111:57:52, 1832.15s/it, now=None]"
          ]
        },
        {
          "output_type": "stream",
          "name": "stdout",
          "text": [
            "MoviePy - Done.\n"
          ]
        },
        {
          "output_type": "stream",
          "name": "stderr",
          "text": [
            "WARNING:py.warnings:<ipython-input-8-6e590a0c9489>:5: DeprecationWarning: Call to deprecated function all (This object can be treated as a list, all() is useless).\n",
            "  video_streams = yt.streams.filter(only_audio=True).all()\n",
            "\n",
            "chunk:   0%|          | 1/221 [30:41<112:32:21, 1841.55s/it, now=None]"
          ]
        },
        {
          "output_type": "stream",
          "name": "stdout",
          "text": [
            "MoviePy - Writing audio in 49.mp3\n"
          ]
        },
        {
          "output_type": "stream",
          "name": "stderr",
          "text": [
            "\n",
            "chunk:   0%|          | 0/221 [00:00<?, ?it/s, now=None]\u001b[A\n",
            "chunk:  31%|███       | 68/221 [00:00<00:00, 652.58it/s, now=None]\u001b[A\n",
            "chunk:  62%|██████▏   | 138/221 [00:00<00:00, 679.66it/s, now=None]\u001b[A\n",
            "chunk:  94%|█████████▎| 207/221 [00:00<00:00, 577.02it/s, now=None]\u001b[A\n",
            "chunk:   0%|          | 1/221 [30:41<112:33:57, 1841.99s/it, now=None]"
          ]
        },
        {
          "output_type": "stream",
          "name": "stdout",
          "text": [
            "MoviePy - Done.\n"
          ]
        },
        {
          "output_type": "stream",
          "name": "stderr",
          "text": [
            "WARNING:py.warnings:<ipython-input-8-6e590a0c9489>:5: DeprecationWarning: Call to deprecated function all (This object can be treated as a list, all() is useless).\n",
            "  video_streams = yt.streams.filter(only_audio=True).all()\n",
            "\n",
            "chunk:   0%|          | 1/221 [30:54<113:20:56, 1854.80s/it, now=None]"
          ]
        },
        {
          "output_type": "stream",
          "name": "stdout",
          "text": [
            "MoviePy - Writing audio in 50.mp3\n"
          ]
        },
        {
          "output_type": "stream",
          "name": "stderr",
          "text": [
            "\n",
            "chunk:   0%|          | 0/221 [00:00<?, ?it/s, now=None]\u001b[A\n",
            "chunk:  42%|████▏     | 92/221 [00:00<00:00, 917.26it/s, now=None]\u001b[A\n",
            "chunk:  89%|████████▊ | 196/221 [00:00<00:00, 989.24it/s, now=None]\u001b[A\n",
            "chunk:   0%|          | 1/221 [30:55<113:21:57, 1855.08s/it, now=None]"
          ]
        },
        {
          "output_type": "stream",
          "name": "stdout",
          "text": [
            "MoviePy - Done.\n"
          ]
        },
        {
          "output_type": "stream",
          "name": "stderr",
          "text": [
            "WARNING:py.warnings:<ipython-input-8-6e590a0c9489>:5: DeprecationWarning: Call to deprecated function all (This object can be treated as a list, all() is useless).\n",
            "  video_streams = yt.streams.filter(only_audio=True).all()\n",
            "\n",
            "chunk:   0%|          | 1/221 [31:05<113:59:02, 1865.19s/it, now=None]"
          ]
        },
        {
          "output_type": "stream",
          "name": "stdout",
          "text": [
            "MoviePy - Writing audio in 51.mp3\n"
          ]
        },
        {
          "output_type": "stream",
          "name": "stderr",
          "text": [
            "\n",
            "chunk:   0%|          | 0/221 [00:00<?, ?it/s, now=None]\u001b[A\n",
            "chunk:  28%|██▊       | 62/221 [00:00<00:00, 618.79it/s, now=None]\u001b[A\n",
            "chunk:  62%|██████▏   | 137/221 [00:00<00:00, 694.83it/s, now=None]\u001b[A\n",
            "chunk:  95%|█████████▍| 209/221 [00:00<00:00, 705.59it/s, now=None]\u001b[A\n",
            "chunk:   0%|          | 1/221 [31:05<114:00:19, 1865.54s/it, now=None]"
          ]
        },
        {
          "output_type": "stream",
          "name": "stdout",
          "text": [
            "MoviePy - Done.\n"
          ]
        },
        {
          "output_type": "stream",
          "name": "stderr",
          "text": [
            "WARNING:py.warnings:<ipython-input-8-6e590a0c9489>:5: DeprecationWarning: Call to deprecated function all (This object can be treated as a list, all() is useless).\n",
            "  video_streams = yt.streams.filter(only_audio=True).all()\n",
            "\n",
            "chunk:   0%|          | 1/221 [31:15<114:36:50, 1875.50s/it, now=None]"
          ]
        },
        {
          "output_type": "stream",
          "name": "stdout",
          "text": [
            "MoviePy - Writing audio in 52.mp3\n"
          ]
        },
        {
          "output_type": "stream",
          "name": "stderr",
          "text": [
            "\n",
            "chunk:   0%|          | 0/221 [00:00<?, ?it/s, now=None]\u001b[A\n",
            "chunk:  18%|█▊        | 40/221 [00:00<00:00, 395.44it/s, now=None]\u001b[A\n",
            "chunk:  36%|███▌      | 80/221 [00:00<00:00, 395.62it/s, now=None]\u001b[A\n",
            "chunk:  54%|█████▍    | 120/221 [00:00<00:00, 379.49it/s, now=None]\u001b[A\n",
            "chunk:  74%|███████▍  | 163/221 [00:00<00:00, 397.21it/s, now=None]\u001b[A\n",
            "chunk:  94%|█████████▍| 208/221 [00:00<00:00, 414.55it/s, now=None]\u001b[A\n",
            "chunk:   0%|          | 1/221 [31:16<114:39:01, 1876.10s/it, now=None]"
          ]
        },
        {
          "output_type": "stream",
          "name": "stdout",
          "text": [
            "MoviePy - Done.\n"
          ]
        },
        {
          "output_type": "stream",
          "name": "stderr",
          "text": [
            "WARNING:py.warnings:<ipython-input-8-6e590a0c9489>:5: DeprecationWarning: Call to deprecated function all (This object can be treated as a list, all() is useless).\n",
            "  video_streams = yt.streams.filter(only_audio=True).all()\n",
            "\n",
            "chunk:   0%|          | 1/221 [31:25<115:14:34, 1885.79s/it, now=None]"
          ]
        },
        {
          "output_type": "stream",
          "name": "stdout",
          "text": [
            "MoviePy - Writing audio in 53.mp3\n"
          ]
        },
        {
          "output_type": "stream",
          "name": "stderr",
          "text": [
            "\n",
            "chunk:   0%|          | 0/221 [00:00<?, ?it/s, now=None]\u001b[A\n",
            "chunk:  37%|███▋      | 81/221 [00:00<00:00, 808.16it/s, now=None]\u001b[A\n",
            "chunk:  76%|███████▋  | 169/221 [00:00<00:00, 848.99it/s, now=None]\u001b[A\n",
            "chunk:   0%|          | 1/221 [31:26<115:15:43, 1886.11s/it, now=None]"
          ]
        },
        {
          "output_type": "stream",
          "name": "stdout",
          "text": [
            "MoviePy - Done.\n"
          ]
        },
        {
          "output_type": "stream",
          "name": "stderr",
          "text": [
            "WARNING:py.warnings:<ipython-input-8-6e590a0c9489>:5: DeprecationWarning: Call to deprecated function all (This object can be treated as a list, all() is useless).\n",
            "  video_streams = yt.streams.filter(only_audio=True).all()\n",
            "\n",
            "chunk:   0%|          | 1/221 [31:39<116:03:06, 1899.03s/it, now=None]"
          ]
        },
        {
          "output_type": "stream",
          "name": "stdout",
          "text": [
            "MoviePy - Writing audio in 54.mp3\n"
          ]
        },
        {
          "output_type": "stream",
          "name": "stderr",
          "text": [
            "\n",
            "chunk:   0%|          | 0/221 [00:00<?, ?it/s, now=None]\u001b[A\n",
            "chunk:  29%|██▉       | 64/221 [00:00<00:00, 623.07it/s, now=None]\u001b[A\n",
            "chunk:  57%|█████▋    | 127/221 [00:00<00:00, 603.86it/s, now=None]\u001b[A\n",
            "chunk:  87%|████████▋ | 193/221 [00:00<00:00, 616.43it/s, now=None]\u001b[A\n",
            "chunk:   0%|          | 1/221 [31:39<116:04:38, 1899.45s/it, now=None]"
          ]
        },
        {
          "output_type": "stream",
          "name": "stdout",
          "text": [
            "MoviePy - Done.\n"
          ]
        },
        {
          "output_type": "stream",
          "name": "stderr",
          "text": [
            "WARNING:py.warnings:<ipython-input-8-6e590a0c9489>:5: DeprecationWarning: Call to deprecated function all (This object can be treated as a list, all() is useless).\n",
            "  video_streams = yt.streams.filter(only_audio=True).all()\n",
            "\n",
            "chunk:   0%|          | 1/221 [31:49<116:40:42, 1909.28s/it, now=None]"
          ]
        },
        {
          "output_type": "stream",
          "name": "stdout",
          "text": [
            "MoviePy - Writing audio in 55.mp3\n"
          ]
        },
        {
          "output_type": "stream",
          "name": "stderr",
          "text": [
            "\n",
            "chunk:   0%|          | 0/221 [00:00<?, ?it/s, now=None]\u001b[A\n",
            "chunk:  16%|█▋        | 36/221 [00:00<00:00, 353.76it/s, now=None]\u001b[A\n",
            "chunk:  33%|███▎      | 72/221 [00:00<00:00, 351.13it/s, now=None]\u001b[A\n",
            "chunk:  52%|█████▏    | 116/221 [00:00<00:00, 390.50it/s, now=None]\u001b[A\n",
            "chunk:  72%|███████▏  | 159/221 [00:00<00:00, 404.72it/s, now=None]\u001b[A\n",
            "chunk:  93%|█████████▎| 205/221 [00:00<00:00, 411.12it/s, now=None]\u001b[A\n",
            "chunk:   0%|          | 1/221 [31:49<116:42:54, 1909.89s/it, now=None]"
          ]
        },
        {
          "output_type": "stream",
          "name": "stdout",
          "text": [
            "MoviePy - Done.\n"
          ]
        },
        {
          "output_type": "stream",
          "name": "stderr",
          "text": [
            "WARNING:py.warnings:<ipython-input-8-6e590a0c9489>:5: DeprecationWarning: Call to deprecated function all (This object can be treated as a list, all() is useless).\n",
            "  video_streams = yt.streams.filter(only_audio=True).all()\n",
            "\n",
            "chunk:   0%|          | 1/221 [32:00<117:22:06, 1920.58s/it, now=None]"
          ]
        },
        {
          "output_type": "stream",
          "name": "stdout",
          "text": [
            "MoviePy - Writing audio in 56.mp3\n"
          ]
        },
        {
          "output_type": "stream",
          "name": "stderr",
          "text": [
            "\n",
            "chunk:   0%|          | 0/221 [00:00<?, ?it/s, now=None]\u001b[A\n",
            "chunk:  42%|████▏     | 92/221 [00:00<00:00, 910.91it/s, now=None]\u001b[A\n",
            "chunk:  88%|████████▊ | 194/221 [00:00<00:00, 973.07it/s, now=None]\u001b[A\n",
            "chunk:   0%|          | 1/221 [32:00<117:23:08, 1920.86s/it, now=None]"
          ]
        },
        {
          "output_type": "stream",
          "name": "stdout",
          "text": [
            "MoviePy - Done.\n"
          ]
        },
        {
          "output_type": "stream",
          "name": "stderr",
          "text": [
            "WARNING:py.warnings:<ipython-input-8-6e590a0c9489>:5: DeprecationWarning: Call to deprecated function all (This object can be treated as a list, all() is useless).\n",
            "  video_streams = yt.streams.filter(only_audio=True).all()\n",
            "\n",
            "chunk:   0%|          | 1/221 [32:13<118:07:40, 1933.00s/it, now=None]"
          ]
        },
        {
          "output_type": "stream",
          "name": "stdout",
          "text": [
            "MoviePy - Writing audio in 57.mp3\n"
          ]
        },
        {
          "output_type": "stream",
          "name": "stderr",
          "text": [
            "\n",
            "chunk:   0%|          | 0/221 [00:00<?, ?it/s, now=None]\u001b[A\n",
            "chunk:  30%|██▉       | 66/221 [00:00<00:00, 658.66it/s, now=None]\u001b[A\n",
            "chunk:  60%|██████    | 133/221 [00:00<00:00, 664.45it/s, now=None]\u001b[A\n",
            "chunk:  92%|█████████▏| 204/221 [00:00<00:00, 680.59it/s, now=None]\u001b[A\n",
            "chunk:   0%|          | 1/221 [32:13<118:09:06, 1933.39s/it, now=None]"
          ]
        },
        {
          "output_type": "stream",
          "name": "stdout",
          "text": [
            "MoviePy - Done.\n"
          ]
        },
        {
          "output_type": "stream",
          "name": "stderr",
          "text": [
            "WARNING:py.warnings:<ipython-input-8-6e590a0c9489>:5: DeprecationWarning: Call to deprecated function all (This object can be treated as a list, all() is useless).\n",
            "  video_streams = yt.streams.filter(only_audio=True).all()\n",
            "\n",
            "chunk:   0%|          | 1/221 [32:22<118:43:57, 1942.90s/it, now=None]"
          ]
        },
        {
          "output_type": "stream",
          "name": "stdout",
          "text": [
            "MoviePy - Writing audio in 58.mp3\n"
          ]
        },
        {
          "output_type": "stream",
          "name": "stderr",
          "text": [
            "\n",
            "chunk:   0%|          | 0/221 [00:00<?, ?it/s, now=None]\u001b[A\n",
            "chunk:  16%|█▋        | 36/221 [00:00<00:00, 303.08it/s, now=None]\u001b[A\n",
            "chunk:  37%|███▋      | 81/221 [00:00<00:00, 378.63it/s, now=None]\u001b[A\n",
            "chunk:  57%|█████▋    | 126/221 [00:00<00:00, 400.49it/s, now=None]\u001b[A\n",
            "chunk:  82%|████████▏ | 182/221 [00:00<00:00, 456.43it/s, now=None]\u001b[A\n",
            "chunk:   0%|          | 1/221 [32:23<118:46:01, 1943.46s/it, now=None]"
          ]
        },
        {
          "output_type": "stream",
          "name": "stdout",
          "text": [
            "MoviePy - Done.\n"
          ]
        },
        {
          "output_type": "stream",
          "name": "stderr",
          "text": [
            "WARNING:py.warnings:<ipython-input-8-6e590a0c9489>:5: DeprecationWarning: Call to deprecated function all (This object can be treated as a list, all() is useless).\n",
            "  video_streams = yt.streams.filter(only_audio=True).all()\n",
            "\n",
            "chunk:   0%|          | 1/221 [32:34<119:26:48, 1954.59s/it, now=None]"
          ]
        },
        {
          "output_type": "stream",
          "name": "stdout",
          "text": [
            "MoviePy - Writing audio in 59.mp3\n"
          ]
        },
        {
          "output_type": "stream",
          "name": "stderr",
          "text": [
            "\n",
            "chunk:   0%|          | 0/221 [00:00<?, ?it/s, now=None]\u001b[A\n",
            "chunk:  29%|██▉       | 64/221 [00:00<00:00, 625.57it/s, now=None]\u001b[A\n",
            "chunk:  61%|██████    | 134/221 [00:00<00:00, 665.70it/s, now=None]\u001b[A\n",
            "chunk:  91%|█████████ | 201/221 [00:00<00:00, 667.07it/s, now=None]\u001b[A\n",
            "chunk:   0%|          | 1/221 [32:34<119:28:14, 1954.97s/it, now=None]"
          ]
        },
        {
          "output_type": "stream",
          "name": "stdout",
          "text": [
            "MoviePy - Done.\n"
          ]
        },
        {
          "output_type": "stream",
          "name": "stderr",
          "text": [
            "WARNING:py.warnings:<ipython-input-8-6e590a0c9489>:5: DeprecationWarning: Call to deprecated function all (This object can be treated as a list, all() is useless).\n",
            "  video_streams = yt.streams.filter(only_audio=True).all()\n",
            "\n",
            "chunk:   0%|          | 1/221 [32:46<120:11:04, 1966.66s/it, now=None]"
          ]
        },
        {
          "output_type": "stream",
          "name": "stdout",
          "text": [
            "MoviePy - Writing audio in 60.mp3\n"
          ]
        },
        {
          "output_type": "stream",
          "name": "stderr",
          "text": [
            "\n",
            "chunk:   0%|          | 0/221 [00:00<?, ?it/s, now=None]\u001b[A\n",
            "chunk:  29%|██▊       | 63/221 [00:00<00:00, 627.56it/s, now=None]\u001b[A\n",
            "chunk:  62%|██████▏   | 138/221 [00:00<00:00, 694.61it/s, now=None]\u001b[A\n",
            "chunk:  98%|█████████▊| 217/221 [00:00<00:00, 736.54it/s, now=None]\u001b[A\n",
            "chunk:   0%|          | 1/221 [32:47<120:12:23, 1967.02s/it, now=None]"
          ]
        },
        {
          "output_type": "stream",
          "name": "stdout",
          "text": [
            "MoviePy - Done.\n"
          ]
        },
        {
          "output_type": "stream",
          "name": "stderr",
          "text": [
            "WARNING:py.warnings:<ipython-input-8-6e590a0c9489>:5: DeprecationWarning: Call to deprecated function all (This object can be treated as a list, all() is useless).\n",
            "  video_streams = yt.streams.filter(only_audio=True).all()\n",
            "\n",
            "chunk:   0%|          | 1/221 [32:57<120:49:59, 1977.27s/it, now=None]"
          ]
        },
        {
          "output_type": "stream",
          "name": "stdout",
          "text": [
            "MoviePy - Writing audio in 61.mp3\n"
          ]
        },
        {
          "output_type": "stream",
          "name": "stderr",
          "text": [
            "\n",
            "chunk:   0%|          | 0/221 [00:00<?, ?it/s, now=None]\u001b[A\n",
            "chunk:  21%|██        | 46/221 [00:00<00:00, 458.02it/s, now=None]\u001b[A\n",
            "chunk:  46%|████▌     | 101/221 [00:00<00:00, 506.44it/s, now=None]\u001b[A\n",
            "chunk:  70%|██████▉   | 154/221 [00:00<00:00, 516.17it/s, now=None]\u001b[A\n",
            "chunk:  96%|█████████▋| 213/221 [00:00<00:00, 532.34it/s, now=None]\u001b[A\n",
            "chunk:   0%|          | 1/221 [32:57<120:51:44, 1977.75s/it, now=None]"
          ]
        },
        {
          "output_type": "stream",
          "name": "stdout",
          "text": [
            "MoviePy - Done.\n"
          ]
        },
        {
          "output_type": "stream",
          "name": "stderr",
          "text": [
            "WARNING:py.warnings:<ipython-input-8-6e590a0c9489>:5: DeprecationWarning: Call to deprecated function all (This object can be treated as a list, all() is useless).\n",
            "  video_streams = yt.streams.filter(only_audio=True).all()\n",
            "\n",
            "chunk:   0%|          | 1/221 [33:08<121:30:36, 1988.35s/it, now=None]"
          ]
        },
        {
          "output_type": "stream",
          "name": "stdout",
          "text": [
            "MoviePy - Writing audio in 63.mp3\n"
          ]
        },
        {
          "output_type": "stream",
          "name": "stderr",
          "text": [
            "\n",
            "chunk:   0%|          | 0/221 [00:00<?, ?it/s, now=None]\u001b[A\n",
            "chunk:  16%|█▋        | 36/221 [00:00<00:00, 313.46it/s, now=None]\u001b[A\n",
            "chunk:  33%|███▎      | 72/221 [00:00<00:00, 337.23it/s, now=None]\u001b[A\n",
            "chunk:  48%|████▊     | 106/221 [00:00<00:00, 333.05it/s, now=None]\u001b[A\n",
            "chunk:  68%|██████▊   | 150/221 [00:00<00:00, 363.10it/s, now=None]\u001b[A\n",
            "chunk:  87%|████████▋ | 192/221 [00:00<00:00, 376.95it/s, now=None]\u001b[A\n",
            "chunk:   0%|          | 1/221 [33:09<121:33:02, 1989.01s/it, now=None]"
          ]
        },
        {
          "output_type": "stream",
          "name": "stdout",
          "text": [
            "MoviePy - Done.\n"
          ]
        },
        {
          "output_type": "stream",
          "name": "stderr",
          "text": [
            "WARNING:py.warnings:<ipython-input-8-6e590a0c9489>:5: DeprecationWarning: Call to deprecated function all (This object can be treated as a list, all() is useless).\n",
            "  video_streams = yt.streams.filter(only_audio=True).all()\n",
            "\n",
            "chunk:   0%|          | 1/221 [33:21<122:18:16, 2001.35s/it, now=None]"
          ]
        },
        {
          "output_type": "stream",
          "name": "stdout",
          "text": [
            "MoviePy - Writing audio in 64.mp3\n"
          ]
        },
        {
          "output_type": "stream",
          "name": "stderr",
          "text": [
            "\n",
            "chunk:   0%|          | 0/221 [00:00<?, ?it/s, now=None]\u001b[A\n",
            "chunk:  16%|█▋        | 36/221 [00:00<00:00, 337.16it/s, now=None]\u001b[A\n",
            "chunk:  34%|███▍      | 76/221 [00:00<00:00, 370.33it/s, now=None]\u001b[A\n",
            "chunk:  54%|█████▍    | 120/221 [00:00<00:00, 401.04it/s, now=None]\u001b[A\n",
            "chunk:  73%|███████▎  | 161/221 [00:00<00:00, 389.49it/s, now=None]\u001b[A\n",
            "chunk:  96%|█████████▌| 212/221 [00:00<00:00, 424.93it/s, now=None]\u001b[A\n",
            "chunk:   0%|          | 1/221 [33:21<122:20:25, 2001.93s/it, now=None]"
          ]
        },
        {
          "output_type": "stream",
          "name": "stdout",
          "text": [
            "MoviePy - Done.\n"
          ]
        },
        {
          "output_type": "stream",
          "name": "stderr",
          "text": [
            "WARNING:py.warnings:<ipython-input-8-6e590a0c9489>:5: DeprecationWarning: Call to deprecated function all (This object can be treated as a list, all() is useless).\n",
            "  video_streams = yt.streams.filter(only_audio=True).all()\n",
            "\n",
            "chunk:   0%|          | 1/221 [33:32<122:58:52, 2012.42s/it, now=None]"
          ]
        },
        {
          "output_type": "stream",
          "name": "stdout",
          "text": [
            "MoviePy - Writing audio in 65.mp3\n"
          ]
        },
        {
          "output_type": "stream",
          "name": "stderr",
          "text": [
            "\n",
            "chunk:   0%|          | 0/221 [00:00<?, ?it/s, now=None]\u001b[A\n",
            "chunk:  16%|█▋        | 36/221 [00:00<00:00, 315.71it/s, now=None]\u001b[A\n",
            "chunk:  38%|███▊      | 85/221 [00:00<00:00, 405.30it/s, now=None]\u001b[A\n",
            "chunk:  57%|█████▋    | 126/221 [00:00<00:00, 382.79it/s, now=None]\u001b[A\n",
            "chunk:  77%|███████▋  | 171/221 [00:00<00:00, 404.60it/s, now=None]\u001b[A\n",
            "chunk: 100%|█████████▉| 220/221 [00:00<00:00, 426.12it/s, now=None]\u001b[A\n",
            "chunk:   0%|          | 1/221 [33:33<123:01:01, 2013.01s/it, now=None]"
          ]
        },
        {
          "output_type": "stream",
          "name": "stdout",
          "text": [
            "MoviePy - Done.\n"
          ]
        },
        {
          "output_type": "stream",
          "name": "stderr",
          "text": [
            "WARNING:py.warnings:<ipython-input-8-6e590a0c9489>:5: DeprecationWarning: Call to deprecated function all (This object can be treated as a list, all() is useless).\n",
            "  video_streams = yt.streams.filter(only_audio=True).all()\n",
            "\n",
            "chunk:   0%|          | 1/221 [33:34<123:06:36, 2014.53s/it, now=None]"
          ]
        },
        {
          "output_type": "stream",
          "name": "stdout",
          "text": [
            "MoviePy - Writing audio in 66.mp3\n"
          ]
        },
        {
          "output_type": "stream",
          "name": "stderr",
          "text": [
            "\n",
            "chunk:   0%|          | 0/221 [00:00<?, ?it/s, now=None]\u001b[A\n",
            "chunk:  32%|███▏      | 70/221 [00:00<00:00, 699.47it/s, now=None]\u001b[A\n",
            "chunk:  68%|██████▊   | 150/221 [00:00<00:00, 747.95it/s, now=None]\u001b[A\n",
            "chunk:   0%|          | 1/221 [33:34<123:07:54, 2014.88s/it, now=None]"
          ]
        },
        {
          "output_type": "stream",
          "name": "stdout",
          "text": [
            "MoviePy - Done.\n"
          ]
        },
        {
          "output_type": "stream",
          "name": "stderr",
          "text": [
            "WARNING:py.warnings:<ipython-input-8-6e590a0c9489>:5: DeprecationWarning: Call to deprecated function all (This object can be treated as a list, all() is useless).\n",
            "  video_streams = yt.streams.filter(only_audio=True).all()\n",
            "\n",
            "chunk:   0%|          | 1/221 [33:44<123:42:05, 2024.20s/it, now=None]"
          ]
        },
        {
          "output_type": "stream",
          "name": "stdout",
          "text": [
            "MoviePy - Writing audio in 67.mp3\n"
          ]
        },
        {
          "output_type": "stream",
          "name": "stderr",
          "text": [
            "\n",
            "chunk:   0%|          | 0/221 [00:00<?, ?it/s, now=None]\u001b[A\n",
            "chunk:  16%|█▋        | 36/221 [00:00<00:00, 346.95it/s, now=None]\u001b[A\n",
            "chunk:  33%|███▎      | 72/221 [00:00<00:00, 348.24it/s, now=None]\u001b[A\n",
            "chunk:  49%|████▉     | 109/221 [00:00<00:00, 351.87it/s, now=None]\u001b[A\n",
            "chunk:  70%|███████   | 155/221 [00:00<00:00, 382.39it/s, now=None]\u001b[A\n",
            "chunk:  90%|█████████ | 200/221 [00:00<00:00, 405.41it/s, now=None]\u001b[A\n",
            "chunk:   0%|          | 1/221 [33:44<123:44:25, 2024.84s/it, now=None]"
          ]
        },
        {
          "output_type": "stream",
          "name": "stdout",
          "text": [
            "MoviePy - Done.\n"
          ]
        },
        {
          "output_type": "stream",
          "name": "stderr",
          "text": [
            "WARNING:py.warnings:<ipython-input-8-6e590a0c9489>:5: DeprecationWarning: Call to deprecated function all (This object can be treated as a list, all() is useless).\n",
            "  video_streams = yt.streams.filter(only_audio=True).all()\n",
            "\n",
            "chunk:   0%|          | 1/221 [33:57<124:29:56, 2037.26s/it, now=None]"
          ]
        },
        {
          "output_type": "stream",
          "name": "stdout",
          "text": [
            "MoviePy - Writing audio in 68.mp3\n"
          ]
        },
        {
          "output_type": "stream",
          "name": "stderr",
          "text": [
            "\n",
            "chunk:   0%|          | 0/221 [00:00<?, ?it/s, now=None]\u001b[A\n",
            "chunk:  37%|███▋      | 81/221 [00:00<00:00, 794.68it/s, now=None]\u001b[A\n",
            "chunk:  73%|███████▎  | 161/221 [00:00<00:00, 767.50it/s, now=None]\u001b[A\n",
            "chunk:   0%|          | 1/221 [33:57<124:31:10, 2037.59s/it, now=None]"
          ]
        },
        {
          "output_type": "stream",
          "name": "stdout",
          "text": [
            "MoviePy - Done.\n"
          ]
        },
        {
          "output_type": "stream",
          "name": "stderr",
          "text": [
            "WARNING:py.warnings:<ipython-input-8-6e590a0c9489>:5: DeprecationWarning: Call to deprecated function all (This object can be treated as a list, all() is useless).\n",
            "  video_streams = yt.streams.filter(only_audio=True).all()\n",
            "\n",
            "chunk:   0%|          | 1/221 [34:07<125:07:34, 2047.52s/it, now=None]"
          ]
        },
        {
          "output_type": "stream",
          "name": "stdout",
          "text": [
            "MoviePy - Writing audio in 69.mp3\n"
          ]
        },
        {
          "output_type": "stream",
          "name": "stderr",
          "text": [
            "\n",
            "chunk:   0%|          | 0/221 [00:00<?, ?it/s, now=None]\u001b[A\n",
            "chunk:  17%|█▋        | 38/221 [00:00<00:00, 379.65it/s, now=None]\u001b[A\n",
            "chunk:  37%|███▋      | 81/221 [00:00<00:00, 385.51it/s, now=None]\u001b[A\n",
            "chunk:  54%|█████▍    | 120/221 [00:00<00:00, 384.93it/s, now=None]\u001b[A\n",
            "chunk:  72%|███████▏  | 159/221 [00:00<00:00, 380.09it/s, now=None]\u001b[A\n",
            "chunk:  90%|█████████ | 200/221 [00:00<00:00, 382.38it/s, now=None]\u001b[A\n",
            "chunk:   0%|          | 1/221 [34:08<125:09:54, 2048.16s/it, now=None]"
          ]
        },
        {
          "output_type": "stream",
          "name": "stdout",
          "text": [
            "MoviePy - Done.\n"
          ]
        },
        {
          "output_type": "stream",
          "name": "stderr",
          "text": [
            "WARNING:py.warnings:<ipython-input-8-6e590a0c9489>:5: DeprecationWarning: Call to deprecated function all (This object can be treated as a list, all() is useless).\n",
            "  video_streams = yt.streams.filter(only_audio=True).all()\n",
            "\n",
            "chunk:   0%|          | 1/221 [34:09<125:16:38, 2050.00s/it, now=None]"
          ]
        },
        {
          "output_type": "stream",
          "name": "stdout",
          "text": [
            "MoviePy - Writing audio in 70.mp3\n"
          ]
        },
        {
          "output_type": "stream",
          "name": "stderr",
          "text": [
            "\n",
            "chunk:   0%|          | 0/221 [00:00<?, ?it/s, now=None]\u001b[A\n",
            "chunk:  18%|█▊        | 40/221 [00:00<00:00, 376.94it/s, now=None]\u001b[A\n",
            "chunk:  35%|███▌      | 78/221 [00:00<00:00, 369.41it/s, now=None]\u001b[A\n",
            "chunk:  53%|█████▎    | 118/221 [00:00<00:00, 374.69it/s, now=None]\u001b[A\n",
            "chunk:  72%|███████▏  | 159/221 [00:00<00:00, 382.31it/s, now=None]\u001b[A\n",
            "chunk:  92%|█████████▏| 204/221 [00:00<00:00, 397.77it/s, now=None]\u001b[A\n",
            "chunk:   0%|          | 1/221 [34:10<125:18:57, 2050.63s/it, now=None]"
          ]
        },
        {
          "output_type": "stream",
          "name": "stdout",
          "text": [
            "MoviePy - Done.\n"
          ]
        },
        {
          "output_type": "stream",
          "name": "stderr",
          "text": [
            "WARNING:py.warnings:<ipython-input-8-6e590a0c9489>:5: DeprecationWarning: Call to deprecated function all (This object can be treated as a list, all() is useless).\n",
            "  video_streams = yt.streams.filter(only_audio=True).all()\n",
            "\n",
            "chunk:   0%|          | 1/221 [34:22<126:04:13, 2062.97s/it, now=None]"
          ]
        },
        {
          "output_type": "stream",
          "name": "stdout",
          "text": [
            "MoviePy - Writing audio in 71.mp3\n"
          ]
        },
        {
          "output_type": "stream",
          "name": "stderr",
          "text": [
            "\n",
            "chunk:   0%|          | 0/221 [00:00<?, ?it/s, now=None]\u001b[A\n",
            "chunk:  36%|███▌      | 79/221 [00:00<00:00, 789.66it/s, now=None]\u001b[A\n",
            "chunk:  71%|███████▏  | 158/221 [00:00<00:00, 719.62it/s, now=None]\u001b[A\n",
            "chunk:   0%|          | 1/221 [34:23<126:05:29, 2063.32s/it, now=None]"
          ]
        },
        {
          "output_type": "stream",
          "name": "stdout",
          "text": [
            "MoviePy - Done.\n"
          ]
        },
        {
          "output_type": "stream",
          "name": "stderr",
          "text": [
            "WARNING:py.warnings:<ipython-input-8-6e590a0c9489>:5: DeprecationWarning: Call to deprecated function all (This object can be treated as a list, all() is useless).\n",
            "  video_streams = yt.streams.filter(only_audio=True).all()\n",
            "\n",
            "chunk:   0%|          | 1/221 [34:34<126:46:23, 2074.47s/it, now=None]"
          ]
        },
        {
          "output_type": "stream",
          "name": "stdout",
          "text": [
            "MoviePy - Writing audio in 72.mp3\n"
          ]
        },
        {
          "output_type": "stream",
          "name": "stderr",
          "text": [
            "\n",
            "chunk:   0%|          | 0/221 [00:00<?, ?it/s, now=None]\u001b[A\n",
            "chunk:  31%|███       | 68/221 [00:00<00:00, 666.52it/s, now=None]\u001b[A\n",
            "chunk:  62%|██████▏   | 138/221 [00:00<00:00, 673.13it/s, now=None]\u001b[A\n",
            "chunk:  93%|█████████▎| 206/221 [00:00<00:00, 659.29it/s, now=None]\u001b[A\n",
            "chunk:   0%|          | 1/221 [34:34<126:47:49, 2074.86s/it, now=None]"
          ]
        },
        {
          "output_type": "stream",
          "name": "stdout",
          "text": [
            "MoviePy - Done.\n"
          ]
        },
        {
          "output_type": "stream",
          "name": "stderr",
          "text": [
            "WARNING:py.warnings:<ipython-input-8-6e590a0c9489>:5: DeprecationWarning: Call to deprecated function all (This object can be treated as a list, all() is useless).\n",
            "  video_streams = yt.streams.filter(only_audio=True).all()\n",
            "\n",
            "chunk:   0%|          | 1/221 [34:44<127:24:23, 2084.83s/it, now=None]"
          ]
        },
        {
          "output_type": "stream",
          "name": "stdout",
          "text": [
            "MoviePy - Writing audio in 73.mp3\n"
          ]
        },
        {
          "output_type": "stream",
          "name": "stderr",
          "text": [
            "\n",
            "chunk:   0%|          | 0/221 [00:00<?, ?it/s, now=None]\u001b[A\n",
            "chunk:  18%|█▊        | 40/221 [00:00<00:00, 396.31it/s, now=None]\u001b[A\n",
            "chunk:  37%|███▋      | 81/221 [00:00<00:00, 402.60it/s, now=None]\u001b[A\n",
            "chunk:  57%|█████▋    | 125/221 [00:00<00:00, 415.18it/s, now=None]\u001b[A\n",
            "chunk:  81%|████████  | 178/221 [00:00<00:00, 460.03it/s, now=None]\u001b[A\n",
            "chunk:   0%|          | 1/221 [34:45<127:26:23, 2085.38s/it, now=None]"
          ]
        },
        {
          "output_type": "stream",
          "name": "stdout",
          "text": [
            "MoviePy - Done.\n"
          ]
        },
        {
          "output_type": "stream",
          "name": "stderr",
          "text": [
            "WARNING:py.warnings:<ipython-input-8-6e590a0c9489>:5: DeprecationWarning: Call to deprecated function all (This object can be treated as a list, all() is useless).\n",
            "  video_streams = yt.streams.filter(only_audio=True).all()\n",
            "\n",
            "chunk:   0%|          | 1/221 [34:47<127:32:45, 2087.12s/it, now=None]"
          ]
        },
        {
          "output_type": "stream",
          "name": "stdout",
          "text": [
            "MoviePy - Writing audio in 74.mp3\n"
          ]
        },
        {
          "output_type": "stream",
          "name": "stderr",
          "text": [
            "\n",
            "chunk:   0%|          | 0/221 [00:00<?, ?it/s, now=None]\u001b[A\n",
            "chunk:  24%|██▎       | 52/221 [00:00<00:00, 503.70it/s, now=None]\u001b[A\n",
            "chunk:  51%|█████     | 113/221 [00:00<00:00, 565.06it/s, now=None]\u001b[A\n",
            "chunk:  77%|███████▋  | 171/221 [00:00<00:00, 559.72it/s, now=None]\u001b[A\n",
            "chunk:   0%|          | 1/221 [34:47<127:34:23, 2087.56s/it, now=None]"
          ]
        },
        {
          "output_type": "stream",
          "name": "stdout",
          "text": [
            "MoviePy - Done.\n"
          ]
        },
        {
          "output_type": "stream",
          "name": "stderr",
          "text": [
            "WARNING:py.warnings:<ipython-input-8-6e590a0c9489>:5: DeprecationWarning: Call to deprecated function all (This object can be treated as a list, all() is useless).\n",
            "  video_streams = yt.streams.filter(only_audio=True).all()\n",
            "\n",
            "chunk:   0%|          | 1/221 [34:56<128:08:56, 2096.98s/it, now=None]"
          ]
        },
        {
          "output_type": "stream",
          "name": "stdout",
          "text": [
            "MoviePy - Writing audio in 75.mp3\n"
          ]
        },
        {
          "output_type": "stream",
          "name": "stderr",
          "text": [
            "\n",
            "chunk:   0%|          | 0/221 [00:00<?, ?it/s, now=None]\u001b[A\n",
            "chunk:  16%|█▋        | 36/221 [00:00<00:00, 312.79it/s, now=None]\u001b[A\n",
            "chunk:  35%|███▍      | 77/221 [00:00<00:00, 352.29it/s, now=None]\u001b[A\n",
            "chunk:  54%|█████▍    | 120/221 [00:00<00:00, 385.51it/s, now=None]\u001b[A\n",
            "chunk:  74%|███████▍  | 163/221 [00:00<00:00, 392.07it/s, now=None]\u001b[A\n",
            "chunk:  93%|█████████▎| 205/221 [00:00<00:00, 389.47it/s, now=None]\u001b[A\n",
            "chunk:   0%|          | 1/221 [34:57<128:11:13, 2097.61s/it, now=None]"
          ]
        },
        {
          "output_type": "stream",
          "name": "stdout",
          "text": [
            "MoviePy - Done.\n"
          ]
        },
        {
          "output_type": "stream",
          "name": "stderr",
          "text": [
            "WARNING:py.warnings:<ipython-input-8-6e590a0c9489>:5: DeprecationWarning: Call to deprecated function all (This object can be treated as a list, all() is useless).\n",
            "  video_streams = yt.streams.filter(only_audio=True).all()\n",
            "\n",
            "chunk:   0%|          | 1/221 [35:08<128:52:35, 2108.89s/it, now=None]"
          ]
        },
        {
          "output_type": "stream",
          "name": "stdout",
          "text": [
            "MoviePy - Writing audio in 76.mp3\n"
          ]
        },
        {
          "output_type": "stream",
          "name": "stderr",
          "text": [
            "\n",
            "chunk:   0%|          | 0/221 [00:00<?, ?it/s, now=None]\u001b[A\n",
            "chunk:  38%|███▊      | 84/221 [00:00<00:00, 825.49it/s, now=None]\u001b[A\n",
            "chunk:  82%|████████▏ | 182/221 [00:00<00:00, 914.10it/s, now=None]\u001b[A\n",
            "chunk:   0%|          | 1/221 [35:09<128:53:38, 2109.17s/it, now=None]"
          ]
        },
        {
          "output_type": "stream",
          "name": "stdout",
          "text": [
            "MoviePy - Done.\n"
          ]
        },
        {
          "output_type": "stream",
          "name": "stderr",
          "text": [
            "WARNING:py.warnings:<ipython-input-8-6e590a0c9489>:5: DeprecationWarning: Call to deprecated function all (This object can be treated as a list, all() is useless).\n",
            "  video_streams = yt.streams.filter(only_audio=True).all()\n",
            "\n",
            "chunk:   0%|          | 1/221 [35:19<129:30:11, 2119.14s/it, now=None]"
          ]
        },
        {
          "output_type": "stream",
          "name": "stdout",
          "text": [
            "MoviePy - Writing audio in 77.mp3\n"
          ]
        },
        {
          "output_type": "stream",
          "name": "stderr",
          "text": [
            "\n",
            "chunk:   0%|          | 0/221 [00:00<?, ?it/s, now=None]\u001b[A\n",
            "chunk:  25%|██▌       | 56/221 [00:00<00:00, 539.50it/s, now=None]\u001b[A\n",
            "chunk:  59%|█████▉    | 130/221 [00:00<00:00, 639.07it/s, now=None]\u001b[A\n",
            "chunk:  90%|█████████ | 199/221 [00:00<00:00, 656.02it/s, now=None]\u001b[A\n",
            "chunk:   0%|          | 1/221 [35:19<129:31:37, 2119.53s/it, now=None]"
          ]
        },
        {
          "output_type": "stream",
          "name": "stdout",
          "text": [
            "MoviePy - Done.\n"
          ]
        },
        {
          "output_type": "stream",
          "name": "stderr",
          "text": [
            "WARNING:py.warnings:<ipython-input-8-6e590a0c9489>:5: DeprecationWarning: Call to deprecated function all (This object can be treated as a list, all() is useless).\n",
            "  video_streams = yt.streams.filter(only_audio=True).all()\n",
            "\n",
            "chunk:   0%|          | 1/221 [35:29<130:06:44, 2129.11s/it, now=None]"
          ]
        },
        {
          "output_type": "stream",
          "name": "stdout",
          "text": [
            "MoviePy - Writing audio in 78.mp3\n"
          ]
        },
        {
          "output_type": "stream",
          "name": "stderr",
          "text": [
            "\n",
            "chunk:   0%|          | 0/221 [00:00<?, ?it/s, now=None]\u001b[A\n",
            "chunk:  16%|█▋        | 36/221 [00:00<00:00, 355.07it/s, now=None]\u001b[A\n",
            "chunk:  35%|███▍      | 77/221 [00:00<00:00, 375.04it/s, now=None]\u001b[A\n",
            "chunk:  57%|█████▋    | 125/221 [00:00<00:00, 421.45it/s, now=None]\u001b[A\n",
            "chunk:  77%|███████▋  | 171/221 [00:00<00:00, 433.93it/s, now=None]\u001b[A\n",
            "chunk:  98%|█████████▊| 216/221 [00:00<00:00, 438.15it/s, now=None]\u001b[A\n",
            "chunk:   0%|          | 1/221 [35:29<130:08:52, 2129.69s/it, now=None]"
          ]
        },
        {
          "output_type": "stream",
          "name": "stdout",
          "text": [
            "MoviePy - Done.\n"
          ]
        },
        {
          "output_type": "stream",
          "name": "stderr",
          "text": [
            "WARNING:py.warnings:<ipython-input-8-6e590a0c9489>:5: DeprecationWarning: Call to deprecated function all (This object can be treated as a list, all() is useless).\n",
            "  video_streams = yt.streams.filter(only_audio=True).all()\n",
            "\n",
            "chunk:   0%|          | 1/221 [35:40<130:46:55, 2140.07s/it, now=None]"
          ]
        },
        {
          "output_type": "stream",
          "name": "stdout",
          "text": [
            "MoviePy - Writing audio in 79.mp3\n"
          ]
        },
        {
          "output_type": "stream",
          "name": "stderr",
          "text": [
            "\n",
            "chunk:   0%|          | 0/221 [00:00<?, ?it/s, now=None]\u001b[A\n",
            "chunk:  38%|███▊      | 83/221 [00:00<00:00, 814.96it/s, now=None]\u001b[A\n",
            "chunk:  85%|████████▍ | 187/221 [00:00<00:00, 937.84it/s, now=None]\u001b[A\n",
            "chunk:   0%|          | 1/221 [35:40<130:47:59, 2140.36s/it, now=None]"
          ]
        },
        {
          "output_type": "stream",
          "name": "stdout",
          "text": [
            "MoviePy - Done.\n"
          ]
        },
        {
          "output_type": "stream",
          "name": "stderr",
          "text": [
            "WARNING:py.warnings:<ipython-input-8-6e590a0c9489>:5: DeprecationWarning: Call to deprecated function all (This object can be treated as a list, all() is useless).\n",
            "  video_streams = yt.streams.filter(only_audio=True).all()\n",
            "\n",
            "chunk:   0%|          | 1/221 [35:53<131:36:22, 2153.56s/it, now=None]"
          ]
        },
        {
          "output_type": "stream",
          "name": "stdout",
          "text": [
            "MoviePy - Writing audio in 80.mp3\n"
          ]
        },
        {
          "output_type": "stream",
          "name": "stderr",
          "text": [
            "\n",
            "chunk:   0%|          | 0/221 [00:00<?, ?it/s, now=None]\u001b[A\n",
            "chunk:  27%|██▋       | 60/221 [00:00<00:00, 594.54it/s, now=None]\u001b[A\n",
            "chunk:  55%|█████▌    | 122/221 [00:00<00:00, 601.14it/s, now=None]\u001b[A\n",
            "chunk:  89%|████████▉ | 197/221 [00:00<00:00, 661.25it/s, now=None]\u001b[A\n",
            "chunk:   0%|          | 1/221 [35:53<131:37:50, 2153.96s/it, now=None]"
          ]
        },
        {
          "output_type": "stream",
          "name": "stdout",
          "text": [
            "MoviePy - Done.\n"
          ]
        },
        {
          "output_type": "stream",
          "name": "stderr",
          "text": [
            "WARNING:py.warnings:<ipython-input-8-6e590a0c9489>:5: DeprecationWarning: Call to deprecated function all (This object can be treated as a list, all() is useless).\n",
            "  video_streams = yt.streams.filter(only_audio=True).all()\n",
            "\n",
            "chunk:   0%|          | 1/221 [36:04<132:17:13, 2164.70s/it, now=None]"
          ]
        },
        {
          "output_type": "stream",
          "name": "stdout",
          "text": [
            "MoviePy - Writing audio in 81.mp3\n"
          ]
        },
        {
          "output_type": "stream",
          "name": "stderr",
          "text": [
            "\n",
            "chunk:   0%|          | 0/221 [00:00<?, ?it/s, now=None]\u001b[A\n",
            "chunk:  29%|██▉       | 64/221 [00:00<00:00, 618.38it/s, now=None]\u001b[A\n",
            "chunk:  62%|██████▏   | 138/221 [00:00<00:00, 679.45it/s, now=None]\u001b[A\n",
            "chunk:  93%|█████████▎| 206/221 [00:00<00:00, 666.43it/s, now=None]\u001b[A\n",
            "chunk:   0%|          | 1/221 [36:05<132:18:38, 2165.08s/it, now=None]"
          ]
        },
        {
          "output_type": "stream",
          "name": "stdout",
          "text": [
            "MoviePy - Done.\n"
          ]
        },
        {
          "output_type": "stream",
          "name": "stderr",
          "text": [
            "WARNING:py.warnings:<ipython-input-8-6e590a0c9489>:5: DeprecationWarning: Call to deprecated function all (This object can be treated as a list, all() is useless).\n",
            "  video_streams = yt.streams.filter(only_audio=True).all()\n",
            "\n",
            "chunk:   0%|          | 1/221 [36:15<132:58:06, 2175.85s/it, now=None]"
          ]
        },
        {
          "output_type": "stream",
          "name": "stdout",
          "text": [
            "MoviePy - Writing audio in 82.mp3\n"
          ]
        },
        {
          "output_type": "stream",
          "name": "stderr",
          "text": [
            "\n",
            "chunk:   0%|          | 0/221 [00:00<?, ?it/s, now=None]\u001b[A\n",
            "chunk:  18%|█▊        | 40/221 [00:00<00:00, 392.84it/s, now=None]\u001b[A\n",
            "chunk:  42%|████▏     | 93/221 [00:00<00:00, 466.44it/s, now=None]\u001b[A\n",
            "chunk:  66%|██████▌   | 146/221 [00:00<00:00, 495.07it/s, now=None]\u001b[A\n",
            "chunk:  93%|█████████▎| 205/221 [00:00<00:00, 508.59it/s, now=None]\u001b[A\n",
            "chunk:   0%|          | 1/221 [36:16<132:59:55, 2176.34s/it, now=None]"
          ]
        },
        {
          "output_type": "stream",
          "name": "stdout",
          "text": [
            "MoviePy - Done.\n"
          ]
        },
        {
          "output_type": "stream",
          "name": "stderr",
          "text": [
            "WARNING:py.warnings:<ipython-input-8-6e590a0c9489>:5: DeprecationWarning: Call to deprecated function all (This object can be treated as a list, all() is useless).\n",
            "  video_streams = yt.streams.filter(only_audio=True).all()\n",
            "\n",
            "chunk:   0%|          | 1/221 [36:27<133:41:36, 2187.71s/it, now=None]"
          ]
        },
        {
          "output_type": "stream",
          "name": "stdout",
          "text": [
            "MoviePy - Writing audio in 83.mp3\n"
          ]
        },
        {
          "output_type": "stream",
          "name": "stderr",
          "text": [
            "\n",
            "chunk:   0%|          | 0/221 [00:00<?, ?it/s, now=None]\u001b[A\n",
            "chunk:  34%|███▍      | 76/221 [00:00<00:00, 752.10it/s, now=None]\u001b[A\n",
            "chunk:  71%|███████▏  | 158/221 [00:00<00:00, 787.48it/s, now=None]\u001b[A\n",
            "chunk:   0%|          | 1/221 [36:28<133:42:49, 2188.04s/it, now=None]"
          ]
        },
        {
          "output_type": "stream",
          "name": "stdout",
          "text": [
            "MoviePy - Done.\n"
          ]
        },
        {
          "output_type": "stream",
          "name": "stderr",
          "text": [
            "WARNING:py.warnings:<ipython-input-8-6e590a0c9489>:5: DeprecationWarning: Call to deprecated function all (This object can be treated as a list, all() is useless).\n",
            "  video_streams = yt.streams.filter(only_audio=True).all()\n",
            "\n",
            "chunk:   0%|          | 1/221 [36:31<133:54:41, 2191.28s/it, now=None]"
          ]
        },
        {
          "output_type": "stream",
          "name": "stdout",
          "text": [
            "MoviePy - Writing audio in 84.mp3\n"
          ]
        },
        {
          "output_type": "stream",
          "name": "stderr",
          "text": [
            "\n",
            "chunk:   0%|          | 0/221 [00:00<?, ?it/s, now=None]\u001b[A\n",
            "chunk:  16%|█▋        | 36/221 [00:00<00:00, 324.78it/s, now=None]\u001b[A\n",
            "chunk:  41%|████      | 90/221 [00:00<00:00, 445.66it/s, now=None]\u001b[A\n",
            "chunk:  65%|██████▍   | 143/221 [00:00<00:00, 482.60it/s, now=None]\u001b[A\n",
            "chunk:  93%|█████████▎| 205/221 [00:00<00:00, 520.57it/s, now=None]\u001b[A\n",
            "chunk:   0%|          | 1/221 [36:31<133:56:31, 2191.78s/it, now=None]"
          ]
        },
        {
          "output_type": "stream",
          "name": "stdout",
          "text": [
            "MoviePy - Done.\n"
          ]
        },
        {
          "output_type": "stream",
          "name": "stderr",
          "text": [
            "WARNING:py.warnings:<ipython-input-8-6e590a0c9489>:5: DeprecationWarning: Call to deprecated function all (This object can be treated as a list, all() is useless).\n",
            "  video_streams = yt.streams.filter(only_audio=True).all()\n",
            "\n",
            "chunk:   0%|          | 1/221 [36:43<134:38:06, 2203.12s/it, now=None]"
          ]
        },
        {
          "output_type": "stream",
          "name": "stdout",
          "text": [
            "MoviePy - Writing audio in 85.mp3\n"
          ]
        },
        {
          "output_type": "stream",
          "name": "stderr",
          "text": [
            "\n",
            "chunk:   0%|          | 0/221 [00:00<?, ?it/s, now=None]\u001b[A\n",
            "chunk:  25%|██▌       | 56/221 [00:00<00:00, 531.43it/s, now=None]\u001b[A\n",
            "chunk:  52%|█████▏    | 114/221 [00:00<00:00, 558.13it/s, now=None]\u001b[A\n",
            "chunk:  77%|███████▋  | 171/221 [00:00<00:00, 559.85it/s, now=None]\u001b[A\n",
            "chunk:   0%|          | 1/221 [36:43<134:39:42, 2203.56s/it, now=None]"
          ]
        },
        {
          "output_type": "stream",
          "name": "stdout",
          "text": [
            "MoviePy - Done.\n"
          ]
        },
        {
          "output_type": "stream",
          "name": "stderr",
          "text": [
            "WARNING:py.warnings:<ipython-input-8-6e590a0c9489>:5: DeprecationWarning: Call to deprecated function all (This object can be treated as a list, all() is useless).\n",
            "  video_streams = yt.streams.filter(only_audio=True).all()\n",
            "\n",
            "chunk:   0%|          | 1/221 [36:54<135:20:16, 2214.62s/it, now=None]"
          ]
        },
        {
          "output_type": "stream",
          "name": "stdout",
          "text": [
            "MoviePy - Writing audio in 86.mp3\n"
          ]
        },
        {
          "output_type": "stream",
          "name": "stderr",
          "text": [
            "\n",
            "chunk:   0%|          | 0/221 [00:00<?, ?it/s, now=None]\u001b[A\n",
            "chunk:  18%|█▊        | 40/221 [00:00<00:00, 392.93it/s, now=None]\u001b[A\n",
            "chunk:  36%|███▌      | 80/221 [00:00<00:00, 393.32it/s, now=None]\u001b[A\n",
            "chunk:  54%|█████▍    | 120/221 [00:00<00:00, 388.06it/s, now=None]\u001b[A\n",
            "chunk:  72%|███████▏  | 159/221 [00:00<00:00, 382.73it/s, now=None]\u001b[A\n",
            "chunk:  90%|█████████ | 200/221 [00:00<00:00, 389.76it/s, now=None]\u001b[A\n",
            "chunk:   0%|          | 1/221 [36:55<135:22:38, 2215.27s/it, now=None]"
          ]
        },
        {
          "output_type": "stream",
          "name": "stdout",
          "text": [
            "MoviePy - Done.\n"
          ]
        },
        {
          "output_type": "stream",
          "name": "stderr",
          "text": [
            "WARNING:py.warnings:<ipython-input-8-6e590a0c9489>:5: DeprecationWarning: Call to deprecated function all (This object can be treated as a list, all() is useless).\n",
            "  video_streams = yt.streams.filter(only_audio=True).all()\n",
            "\n",
            "chunk:   0%|          | 1/221 [37:04<135:57:57, 2224.90s/it, now=None]"
          ]
        },
        {
          "output_type": "stream",
          "name": "stdout",
          "text": [
            "MoviePy - Writing audio in 87.mp3\n"
          ]
        },
        {
          "output_type": "stream",
          "name": "stderr",
          "text": [
            "\n",
            "chunk:   0%|          | 0/221 [00:00<?, ?it/s, now=None]\u001b[A\n",
            "chunk:  46%|████▌     | 102/221 [00:00<00:00, 947.43it/s, now=None]\u001b[A\n",
            "chunk:  92%|█████████▏| 203/221 [00:00<00:00, 980.11it/s, now=None]\u001b[A\n",
            "chunk:   0%|          | 1/221 [37:05<135:59:01, 2225.19s/it, now=None]"
          ]
        },
        {
          "output_type": "stream",
          "name": "stdout",
          "text": [
            "MoviePy - Done.\n"
          ]
        },
        {
          "output_type": "stream",
          "name": "stderr",
          "text": [
            "WARNING:py.warnings:<ipython-input-8-6e590a0c9489>:5: DeprecationWarning: Call to deprecated function all (This object can be treated as a list, all() is useless).\n",
            "  video_streams = yt.streams.filter(only_audio=True).all()\n",
            "\n",
            "chunk:   0%|          | 1/221 [37:18<136:46:26, 2238.12s/it, now=None]"
          ]
        },
        {
          "output_type": "stream",
          "name": "stdout",
          "text": [
            "MoviePy - Writing audio in 88.mp3\n"
          ]
        },
        {
          "output_type": "stream",
          "name": "stderr",
          "text": [
            "\n",
            "chunk:   0%|          | 0/221 [00:00<?, ?it/s, now=None]\u001b[A\n",
            "chunk:  16%|█▋        | 36/221 [00:00<00:00, 294.14it/s, now=None]\u001b[A\n",
            "chunk:  31%|███       | 68/221 [00:00<00:00, 301.99it/s, now=None]\u001b[A\n",
            "chunk:  49%|████▉     | 109/221 [00:00<00:00, 347.16it/s, now=None]\u001b[A\n",
            "chunk:  70%|███████   | 155/221 [00:00<00:00, 385.99it/s, now=None]\u001b[A\n",
            "chunk:  92%|█████████▏| 204/221 [00:00<00:00, 421.74it/s, now=None]\u001b[A\n",
            "chunk:   0%|          | 1/221 [37:18<136:48:44, 2238.75s/it, now=None]"
          ]
        },
        {
          "output_type": "stream",
          "name": "stdout",
          "text": [
            "MoviePy - Done.\n"
          ]
        },
        {
          "output_type": "stream",
          "name": "stderr",
          "text": [
            "WARNING:py.warnings:<ipython-input-8-6e590a0c9489>:5: DeprecationWarning: Call to deprecated function all (This object can be treated as a list, all() is useless).\n",
            "  video_streams = yt.streams.filter(only_audio=True).all()\n",
            "\n",
            "chunk:   0%|          | 1/221 [37:28<137:25:51, 2248.87s/it, now=None]"
          ]
        },
        {
          "output_type": "stream",
          "name": "stdout",
          "text": [
            "MoviePy - Writing audio in 89.mp3\n"
          ]
        },
        {
          "output_type": "stream",
          "name": "stderr",
          "text": [
            "\n",
            "chunk:   0%|          | 0/221 [00:00<?, ?it/s, now=None]\u001b[A\n",
            "chunk:  24%|██▎       | 52/221 [00:00<00:00, 464.85it/s, now=None]\u001b[A\n",
            "chunk:  45%|████▍     | 99/221 [00:00<00:00, 410.11it/s, now=None]\u001b[A\n",
            "chunk:  64%|██████▍   | 141/221 [00:00<00:00, 405.85it/s, now=None]\u001b[A\n",
            "chunk:  82%|████████▏ | 182/221 [00:00<00:00, 394.19it/s, now=None]\u001b[A\n",
            "chunk:   0%|          | 1/221 [37:29<137:28:03, 2249.47s/it, now=None]"
          ]
        },
        {
          "output_type": "stream",
          "name": "stdout",
          "text": [
            "MoviePy - Done.\n"
          ]
        },
        {
          "output_type": "stream",
          "name": "stderr",
          "text": [
            "WARNING:py.warnings:<ipython-input-8-6e590a0c9489>:5: DeprecationWarning: Call to deprecated function all (This object can be treated as a list, all() is useless).\n",
            "  video_streams = yt.streams.filter(only_audio=True).all()\n",
            "\n",
            "chunk:   0%|          | 1/221 [37:40<138:09:48, 2260.86s/it, now=None]"
          ]
        },
        {
          "output_type": "stream",
          "name": "stdout",
          "text": [
            "MoviePy - Writing audio in 90.mp3\n"
          ]
        },
        {
          "output_type": "stream",
          "name": "stderr",
          "text": [
            "\n",
            "chunk:   0%|          | 0/221 [00:00<?, ?it/s, now=None]\u001b[A\n",
            "chunk:  23%|██▎       | 50/221 [00:00<00:00, 499.37it/s, now=None]\u001b[A\n",
            "chunk:  47%|████▋     | 103/221 [00:00<00:00, 494.55it/s, now=None]\u001b[A\n",
            "chunk:  74%|███████▍  | 163/221 [00:00<00:00, 540.58it/s, now=None]\u001b[A\n",
            "chunk:   0%|          | 1/221 [37:41<138:11:28, 2261.31s/it, now=None]"
          ]
        },
        {
          "output_type": "stream",
          "name": "stdout",
          "text": [
            "MoviePy - Done.\n"
          ]
        },
        {
          "output_type": "stream",
          "name": "stderr",
          "text": [
            "WARNING:py.warnings:<ipython-input-8-6e590a0c9489>:5: DeprecationWarning: Call to deprecated function all (This object can be treated as a list, all() is useless).\n",
            "  video_streams = yt.streams.filter(only_audio=True).all()\n",
            "\n",
            "chunk:   0%|          | 1/221 [37:52<138:52:19, 2272.45s/it, now=None]"
          ]
        },
        {
          "output_type": "stream",
          "name": "stdout",
          "text": [
            "MoviePy - Writing audio in 91.mp3\n"
          ]
        },
        {
          "output_type": "stream",
          "name": "stderr",
          "text": [
            "\n",
            "chunk:   0%|          | 0/221 [00:00<?, ?it/s, now=None]\u001b[A\n",
            "chunk:  24%|██▎       | 52/221 [00:00<00:00, 474.34it/s, now=None]\u001b[A\n",
            "chunk:  49%|████▉     | 109/221 [00:00<00:00, 521.05it/s, now=None]\u001b[A\n",
            "chunk:  80%|███████▉  | 176/221 [00:00<00:00, 586.88it/s, now=None]\u001b[A\n",
            "chunk:   0%|          | 1/221 [37:52<138:53:53, 2272.88s/it, now=None]"
          ]
        },
        {
          "output_type": "stream",
          "name": "stdout",
          "text": [
            "MoviePy - Done.\n"
          ]
        },
        {
          "output_type": "stream",
          "name": "stderr",
          "text": [
            "WARNING:py.warnings:<ipython-input-8-6e590a0c9489>:5: DeprecationWarning: Call to deprecated function all (This object can be treated as a list, all() is useless).\n",
            "  video_streams = yt.streams.filter(only_audio=True).all()\n",
            "\n",
            "chunk:   0%|          | 1/221 [38:02<139:28:51, 2282.42s/it, now=None]"
          ]
        },
        {
          "output_type": "stream",
          "name": "stdout",
          "text": [
            "MoviePy - Writing audio in 92.mp3\n"
          ]
        },
        {
          "output_type": "stream",
          "name": "stderr",
          "text": [
            "\n",
            "chunk:   0%|          | 0/221 [00:00<?, ?it/s, now=None]\u001b[A\n",
            "chunk:  16%|█▋        | 36/221 [00:00<00:00, 302.65it/s, now=None]\u001b[A\n",
            "chunk:  30%|███       | 67/221 [00:00<00:00, 287.56it/s, now=None]\u001b[A\n",
            "chunk:  48%|████▊     | 105/221 [00:00<00:00, 316.87it/s, now=None]\u001b[A\n",
            "chunk:  68%|██████▊   | 150/221 [00:00<00:00, 361.80it/s, now=None]\u001b[A\n",
            "chunk:  87%|████████▋ | 192/221 [00:00<00:00, 381.04it/s, now=None]\u001b[A\n",
            "chunk:   0%|          | 1/221 [38:03<139:31:20, 2283.10s/it, now=None]"
          ]
        },
        {
          "output_type": "stream",
          "name": "stdout",
          "text": [
            "MoviePy - Done.\n"
          ]
        },
        {
          "output_type": "stream",
          "name": "stderr",
          "text": [
            "WARNING:py.warnings:<ipython-input-8-6e590a0c9489>:5: DeprecationWarning: Call to deprecated function all (This object can be treated as a list, all() is useless).\n",
            "  video_streams = yt.streams.filter(only_audio=True).all()\n",
            "\n",
            "chunk:   0%|          | 1/221 [38:14<140:13:22, 2294.56s/it, now=None]"
          ]
        },
        {
          "output_type": "stream",
          "name": "stdout",
          "text": [
            "MoviePy - Writing audio in 93.mp3\n"
          ]
        },
        {
          "output_type": "stream",
          "name": "stderr",
          "text": [
            "\n",
            "chunk:   0%|          | 0/221 [00:00<?, ?it/s, now=None]\u001b[A\n",
            "chunk:  33%|███▎      | 72/221 [00:00<00:00, 701.47it/s, now=None]\u001b[A\n",
            "chunk:  73%|███████▎  | 162/221 [00:00<00:00, 815.79it/s, now=None]\u001b[A\n",
            "chunk:   0%|          | 1/221 [38:14<140:14:31, 2294.87s/it, now=None]"
          ]
        },
        {
          "output_type": "stream",
          "name": "stdout",
          "text": [
            "MoviePy - Done.\n"
          ]
        },
        {
          "output_type": "stream",
          "name": "stderr",
          "text": [
            "WARNING:py.warnings:<ipython-input-8-6e590a0c9489>:5: DeprecationWarning: Call to deprecated function all (This object can be treated as a list, all() is useless).\n",
            "  video_streams = yt.streams.filter(only_audio=True).all()\n",
            "\n",
            "chunk:   0%|          | 1/221 [38:25<140:55:16, 2305.98s/it, now=None]"
          ]
        },
        {
          "output_type": "stream",
          "name": "stdout",
          "text": [
            "MoviePy - Writing audio in 94.mp3\n"
          ]
        },
        {
          "output_type": "stream",
          "name": "stderr",
          "text": [
            "\n",
            "chunk:   0%|          | 0/221 [00:00<?, ?it/s, now=None]\u001b[A\n",
            "chunk:  16%|█▋        | 36/221 [00:00<00:00, 295.97it/s, now=None]\u001b[A\n",
            "chunk:  34%|███▍      | 76/221 [00:00<00:00, 349.85it/s, now=None]\u001b[A\n",
            "chunk:  54%|█████▍    | 120/221 [00:00<00:00, 388.56it/s, now=None]\u001b[A\n",
            "chunk:  72%|███████▏  | 160/221 [00:00<00:00, 390.66it/s, now=None]\u001b[A\n",
            "chunk:  92%|█████████▏| 204/221 [00:00<00:00, 407.63it/s, now=None]\u001b[A\n",
            "chunk:   0%|          | 1/221 [38:26<140:57:34, 2306.61s/it, now=None]"
          ]
        },
        {
          "output_type": "stream",
          "name": "stdout",
          "text": [
            "MoviePy - Done.\n"
          ]
        },
        {
          "output_type": "stream",
          "name": "stderr",
          "text": [
            "WARNING:py.warnings:<ipython-input-8-6e590a0c9489>:5: DeprecationWarning: Call to deprecated function all (This object can be treated as a list, all() is useless).\n",
            "  video_streams = yt.streams.filter(only_audio=True).all()\n",
            "\n",
            "chunk:   0%|          | 1/221 [38:28<141:05:00, 2308.64s/it, now=None]"
          ]
        },
        {
          "output_type": "stream",
          "name": "stdout",
          "text": [
            "MoviePy - Writing audio in 95.mp3\n"
          ]
        },
        {
          "output_type": "stream",
          "name": "stderr",
          "text": [
            "\n",
            "chunk:   0%|          | 0/221 [00:00<?, ?it/s, now=None]\u001b[A\n",
            "chunk:  24%|██▎       | 52/221 [00:00<00:00, 481.00it/s, now=None]\u001b[A\n",
            "chunk:  49%|████▉     | 109/221 [00:00<00:00, 523.95it/s, now=None]\u001b[A\n",
            "chunk:  79%|███████▊  | 174/221 [00:00<00:00, 570.00it/s, now=None]\u001b[A\n",
            "chunk:   0%|          | 1/221 [38:29<141:06:44, 2309.11s/it, now=None]"
          ]
        },
        {
          "output_type": "stream",
          "name": "stdout",
          "text": [
            "MoviePy - Done.\n"
          ]
        },
        {
          "output_type": "stream",
          "name": "stderr",
          "text": [
            "WARNING:py.warnings:<ipython-input-8-6e590a0c9489>:5: DeprecationWarning: Call to deprecated function all (This object can be treated as a list, all() is useless).\n",
            "  video_streams = yt.streams.filter(only_audio=True).all()\n",
            "\n",
            "chunk:   0%|          | 1/221 [38:39<141:44:55, 2319.52s/it, now=None]"
          ]
        },
        {
          "output_type": "stream",
          "name": "stdout",
          "text": [
            "MoviePy - Writing audio in 96.mp3\n"
          ]
        },
        {
          "output_type": "stream",
          "name": "stderr",
          "text": [
            "\n",
            "chunk:   0%|          | 0/221 [00:00<?, ?it/s, now=None]\u001b[A\n",
            "chunk:  16%|█▌        | 35/221 [00:00<00:00, 349.01it/s, now=None]\u001b[A\n",
            "chunk:  32%|███▏      | 70/221 [00:00<00:00, 280.74it/s, now=None]\u001b[A\n",
            "chunk:  48%|████▊     | 105/221 [00:00<00:00, 306.61it/s, now=None]\u001b[A\n",
            "chunk:  66%|██████▌   | 146/221 [00:00<00:00, 335.63it/s, now=None]\u001b[A\n",
            "chunk:  85%|████████▍ | 187/221 [00:00<00:00, 355.07it/s, now=None]\u001b[A\n",
            "chunk:   0%|          | 1/221 [38:40<141:47:29, 2320.22s/it, now=None]"
          ]
        },
        {
          "output_type": "stream",
          "name": "stdout",
          "text": [
            "MoviePy - Done.\n"
          ]
        },
        {
          "output_type": "stream",
          "name": "stderr",
          "text": [
            "WARNING:py.warnings:<ipython-input-8-6e590a0c9489>:5: DeprecationWarning: Call to deprecated function all (This object can be treated as a list, all() is useless).\n",
            "  video_streams = yt.streams.filter(only_audio=True).all()\n",
            "\n",
            "chunk:   0%|          | 1/221 [38:50<142:25:23, 2330.56s/it, now=None]"
          ]
        },
        {
          "output_type": "stream",
          "name": "stdout",
          "text": [
            "MoviePy - Writing audio in 98.mp3\n"
          ]
        },
        {
          "output_type": "stream",
          "name": "stderr",
          "text": [
            "\n",
            "chunk:   0%|          | 0/221 [00:00<?, ?it/s, now=None]\u001b[A\n",
            "chunk:  16%|█▋        | 36/221 [00:00<00:00, 303.17it/s, now=None]\u001b[A\n",
            "chunk:  30%|███       | 67/221 [00:00<00:00, 290.77it/s, now=None]\u001b[A\n",
            "chunk:  46%|████▌     | 101/221 [00:00<00:00, 307.09it/s, now=None]\u001b[A\n",
            "chunk:  62%|██████▏   | 138/221 [00:00<00:00, 326.82it/s, now=None]\u001b[A\n",
            "chunk:  79%|███████▉  | 175/221 [00:00<00:00, 340.16it/s, now=None]\u001b[A\n",
            "chunk:  96%|█████████▌| 212/221 [00:00<00:00, 348.42it/s, now=None]\u001b[A\n",
            "chunk:   0%|          | 1/221 [38:51<142:28:03, 2331.29s/it, now=None]"
          ]
        },
        {
          "output_type": "stream",
          "name": "stdout",
          "text": [
            "MoviePy - Done.\n"
          ]
        },
        {
          "output_type": "error",
          "ename": "KeyboardInterrupt",
          "evalue": "ignored",
          "traceback": [
            "\u001b[0;31m---------------------------------------------------------------------------\u001b[0m",
            "\u001b[0;31mKeyboardInterrupt\u001b[0m                         Traceback (most recent call last)",
            "\u001b[0;32m<ipython-input-37-9d1bb49ce0c5>\u001b[0m in \u001b[0;36m<cell line: 2>\u001b[0;34m()\u001b[0m\n\u001b[1;32m      2\u001b[0m \u001b[0;32mfor\u001b[0m \u001b[0mi\u001b[0m \u001b[0;32min\u001b[0m \u001b[0mrange\u001b[0m\u001b[0;34m(\u001b[0m\u001b[0;36m0\u001b[0m\u001b[0;34m,\u001b[0m \u001b[0;36m5520\u001b[0m\u001b[0;34m)\u001b[0m\u001b[0;34m:\u001b[0m\u001b[0;34m\u001b[0m\u001b[0;34m\u001b[0m\u001b[0m\n\u001b[1;32m      3\u001b[0m     \u001b[0;32mtry\u001b[0m\u001b[0;34m:\u001b[0m\u001b[0;34m\u001b[0m\u001b[0;34m\u001b[0m\u001b[0m\n\u001b[0;32m----> 4\u001b[0;31m       \u001b[0moutlink\u001b[0m \u001b[0;34m=\u001b[0m \u001b[0murl_to_mp3\u001b[0m\u001b[0;34m(\u001b[0m\u001b[0mdata\u001b[0m\u001b[0;34m[\u001b[0m\u001b[0;34m\"urls\"\u001b[0m\u001b[0;34m]\u001b[0m\u001b[0;34m[\u001b[0m\u001b[0mi\u001b[0m\u001b[0;34m]\u001b[0m\u001b[0;34m,\u001b[0m \u001b[0mdata\u001b[0m\u001b[0;34m[\u001b[0m\u001b[0;34m\"start_s\"\u001b[0m\u001b[0;34m]\u001b[0m\u001b[0;34m[\u001b[0m\u001b[0mi\u001b[0m\u001b[0;34m]\u001b[0m\u001b[0;34m,\u001b[0m \u001b[0mdata\u001b[0m\u001b[0;34m[\u001b[0m\u001b[0;34m\"end_s\"\u001b[0m\u001b[0;34m]\u001b[0m\u001b[0;34m[\u001b[0m\u001b[0mi\u001b[0m\u001b[0;34m]\u001b[0m\u001b[0;34m,\u001b[0m \u001b[0;34mf\"{i}.mp3\"\u001b[0m\u001b[0;34m)\u001b[0m\u001b[0;34m\u001b[0m\u001b[0;34m\u001b[0m\u001b[0m\n\u001b[0m\u001b[1;32m      5\u001b[0m       \u001b[0mmp3_data\u001b[0m\u001b[0;34m[\u001b[0m\u001b[0;34m\"mp3\"\u001b[0m\u001b[0;34m]\u001b[0m\u001b[0;34m[\u001b[0m\u001b[0mi\u001b[0m\u001b[0;34m]\u001b[0m \u001b[0;34m=\u001b[0m \u001b[0moutlink\u001b[0m\u001b[0;34m\u001b[0m\u001b[0;34m\u001b[0m\u001b[0m\n\u001b[1;32m      6\u001b[0m     \u001b[0;32mexcept\u001b[0m \u001b[0mException\u001b[0m\u001b[0;34m:\u001b[0m\u001b[0;34m\u001b[0m\u001b[0;34m\u001b[0m\u001b[0m\n",
            "\u001b[0;32m<ipython-input-8-6e590a0c9489>\u001b[0m in \u001b[0;36murl_to_mp3\u001b[0;34m(url, st, et, outlink)\u001b[0m\n\u001b[1;32m      3\u001b[0m   \u001b[0mvideo_title\u001b[0m \u001b[0;34m=\u001b[0m \u001b[0myt\u001b[0m\u001b[0;34m.\u001b[0m\u001b[0mtitle\u001b[0m\u001b[0;34m\u001b[0m\u001b[0;34m\u001b[0m\u001b[0m\n\u001b[1;32m      4\u001b[0m   \u001b[0mvideo_duration\u001b[0m \u001b[0;34m=\u001b[0m \u001b[0myt\u001b[0m\u001b[0;34m.\u001b[0m\u001b[0mlength\u001b[0m\u001b[0;34m\u001b[0m\u001b[0;34m\u001b[0m\u001b[0m\n\u001b[0;32m----> 5\u001b[0;31m   \u001b[0mvideo_streams\u001b[0m \u001b[0;34m=\u001b[0m \u001b[0myt\u001b[0m\u001b[0;34m.\u001b[0m\u001b[0mstreams\u001b[0m\u001b[0;34m.\u001b[0m\u001b[0mfilter\u001b[0m\u001b[0;34m(\u001b[0m\u001b[0monly_audio\u001b[0m\u001b[0;34m=\u001b[0m\u001b[0;32mTrue\u001b[0m\u001b[0;34m)\u001b[0m\u001b[0;34m.\u001b[0m\u001b[0mall\u001b[0m\u001b[0;34m(\u001b[0m\u001b[0;34m)\u001b[0m\u001b[0;34m\u001b[0m\u001b[0;34m\u001b[0m\u001b[0m\n\u001b[0m\u001b[1;32m      6\u001b[0m   \u001b[0maudio_stream\u001b[0m \u001b[0;34m=\u001b[0m \u001b[0mvideo_streams\u001b[0m\u001b[0;34m[\u001b[0m\u001b[0;36m0\u001b[0m\u001b[0;34m]\u001b[0m  \u001b[0;31m# Choose the first audio stream\u001b[0m\u001b[0;34m\u001b[0m\u001b[0;34m\u001b[0m\u001b[0m\n\u001b[1;32m      7\u001b[0m   \u001b[0mtemp_file\u001b[0m \u001b[0;34m=\u001b[0m \u001b[0maudio_stream\u001b[0m\u001b[0;34m.\u001b[0m\u001b[0mdownload\u001b[0m\u001b[0;34m(\u001b[0m\u001b[0mfilename\u001b[0m\u001b[0;34m=\u001b[0m\u001b[0;34m\"temp\"\u001b[0m\u001b[0;34m)\u001b[0m\u001b[0;34m\u001b[0m\u001b[0;34m\u001b[0m\u001b[0m\n",
            "\u001b[0;32m/usr/local/lib/python3.10/dist-packages/pytube/__main__.py\u001b[0m in \u001b[0;36mstreams\u001b[0;34m(self)\u001b[0m\n\u001b[1;32m    294\u001b[0m         \"\"\"\n\u001b[1;32m    295\u001b[0m         \u001b[0mself\u001b[0m\u001b[0;34m.\u001b[0m\u001b[0mcheck_availability\u001b[0m\u001b[0;34m(\u001b[0m\u001b[0;34m)\u001b[0m\u001b[0;34m\u001b[0m\u001b[0;34m\u001b[0m\u001b[0m\n\u001b[0;32m--> 296\u001b[0;31m         \u001b[0;32mreturn\u001b[0m \u001b[0mStreamQuery\u001b[0m\u001b[0;34m(\u001b[0m\u001b[0mself\u001b[0m\u001b[0;34m.\u001b[0m\u001b[0mfmt_streams\u001b[0m\u001b[0;34m)\u001b[0m\u001b[0;34m\u001b[0m\u001b[0;34m\u001b[0m\u001b[0m\n\u001b[0m\u001b[1;32m    297\u001b[0m \u001b[0;34m\u001b[0m\u001b[0m\n\u001b[1;32m    298\u001b[0m     \u001b[0;34m@\u001b[0m\u001b[0mproperty\u001b[0m\u001b[0;34m\u001b[0m\u001b[0;34m\u001b[0m\u001b[0m\n",
            "\u001b[0;32m/usr/local/lib/python3.10/dist-packages/pytube/__main__.py\u001b[0m in \u001b[0;36mfmt_streams\u001b[0;34m(self)\u001b[0m\n\u001b[1;32m    179\u001b[0m         \u001b[0;31m# https://github.com/pytube/pytube/issues/1054\u001b[0m\u001b[0;34m\u001b[0m\u001b[0;34m\u001b[0m\u001b[0m\n\u001b[1;32m    180\u001b[0m         \u001b[0;32mtry\u001b[0m\u001b[0;34m:\u001b[0m\u001b[0;34m\u001b[0m\u001b[0;34m\u001b[0m\u001b[0m\n\u001b[0;32m--> 181\u001b[0;31m             \u001b[0mextract\u001b[0m\u001b[0;34m.\u001b[0m\u001b[0mapply_signature\u001b[0m\u001b[0;34m(\u001b[0m\u001b[0mstream_manifest\u001b[0m\u001b[0;34m,\u001b[0m \u001b[0mself\u001b[0m\u001b[0;34m.\u001b[0m\u001b[0mvid_info\u001b[0m\u001b[0;34m,\u001b[0m \u001b[0mself\u001b[0m\u001b[0;34m.\u001b[0m\u001b[0mjs\u001b[0m\u001b[0;34m)\u001b[0m\u001b[0;34m\u001b[0m\u001b[0;34m\u001b[0m\u001b[0m\n\u001b[0m\u001b[1;32m    182\u001b[0m         \u001b[0;32mexcept\u001b[0m \u001b[0mexceptions\u001b[0m\u001b[0;34m.\u001b[0m\u001b[0mExtractError\u001b[0m\u001b[0;34m:\u001b[0m\u001b[0;34m\u001b[0m\u001b[0;34m\u001b[0m\u001b[0m\n\u001b[1;32m    183\u001b[0m             \u001b[0;31m# To force an update to the js file, we clear the cache and retry\u001b[0m\u001b[0;34m\u001b[0m\u001b[0;34m\u001b[0m\u001b[0m\n",
            "\u001b[0;32m/usr/local/lib/python3.10/dist-packages/pytube/extract.py\u001b[0m in \u001b[0;36mapply_signature\u001b[0;34m(stream_manifest, vid_info, js)\u001b[0m\n\u001b[1;32m    407\u001b[0m \u001b[0;34m\u001b[0m\u001b[0m\n\u001b[1;32m    408\u001b[0m     \"\"\"\n\u001b[0;32m--> 409\u001b[0;31m     \u001b[0mcipher\u001b[0m \u001b[0;34m=\u001b[0m \u001b[0mCipher\u001b[0m\u001b[0;34m(\u001b[0m\u001b[0mjs\u001b[0m\u001b[0;34m=\u001b[0m\u001b[0mjs\u001b[0m\u001b[0;34m)\u001b[0m\u001b[0;34m\u001b[0m\u001b[0;34m\u001b[0m\u001b[0m\n\u001b[0m\u001b[1;32m    410\u001b[0m \u001b[0;34m\u001b[0m\u001b[0m\n\u001b[1;32m    411\u001b[0m     \u001b[0;32mfor\u001b[0m \u001b[0mi\u001b[0m\u001b[0;34m,\u001b[0m \u001b[0mstream\u001b[0m \u001b[0;32min\u001b[0m \u001b[0menumerate\u001b[0m\u001b[0;34m(\u001b[0m\u001b[0mstream_manifest\u001b[0m\u001b[0;34m)\u001b[0m\u001b[0;34m:\u001b[0m\u001b[0;34m\u001b[0m\u001b[0;34m\u001b[0m\u001b[0m\n",
            "\u001b[0;32m/usr/local/lib/python3.10/dist-packages/pytube/cipher.py\u001b[0m in \u001b[0;36m__init__\u001b[0;34m(self, js)\u001b[0m\n\u001b[1;32m     42\u001b[0m \u001b[0;34m\u001b[0m\u001b[0m\n\u001b[1;32m     43\u001b[0m         \u001b[0mself\u001b[0m\u001b[0;34m.\u001b[0m\u001b[0mthrottling_plan\u001b[0m \u001b[0;34m=\u001b[0m \u001b[0mget_throttling_plan\u001b[0m\u001b[0;34m(\u001b[0m\u001b[0mjs\u001b[0m\u001b[0;34m)\u001b[0m\u001b[0;34m\u001b[0m\u001b[0;34m\u001b[0m\u001b[0m\n\u001b[0;32m---> 44\u001b[0;31m         \u001b[0mself\u001b[0m\u001b[0;34m.\u001b[0m\u001b[0mthrottling_array\u001b[0m \u001b[0;34m=\u001b[0m \u001b[0mget_throttling_function_array\u001b[0m\u001b[0;34m(\u001b[0m\u001b[0mjs\u001b[0m\u001b[0;34m)\u001b[0m\u001b[0;34m\u001b[0m\u001b[0;34m\u001b[0m\u001b[0m\n\u001b[0m\u001b[1;32m     45\u001b[0m \u001b[0;34m\u001b[0m\u001b[0m\n\u001b[1;32m     46\u001b[0m         \u001b[0mself\u001b[0m\u001b[0;34m.\u001b[0m\u001b[0mcalculated_n\u001b[0m \u001b[0;34m=\u001b[0m \u001b[0;32mNone\u001b[0m\u001b[0;34m\u001b[0m\u001b[0;34m\u001b[0m\u001b[0m\n",
            "\u001b[0;32m/usr/local/lib/python3.10/dist-packages/pytube/cipher.py\u001b[0m in \u001b[0;36mget_throttling_function_array\u001b[0;34m(js)\u001b[0m\n\u001b[1;32m    332\u001b[0m         \u001b[0mThe\u001b[0m \u001b[0marray\u001b[0m \u001b[0mof\u001b[0m \u001b[0mvarious\u001b[0m \u001b[0mintegers\u001b[0m\u001b[0;34m,\u001b[0m \u001b[0marrays\u001b[0m\u001b[0;34m,\u001b[0m \u001b[0;32mand\u001b[0m \u001b[0mfunctions\u001b[0m\u001b[0;34m.\u001b[0m\u001b[0;34m\u001b[0m\u001b[0;34m\u001b[0m\u001b[0m\n\u001b[1;32m    333\u001b[0m     \"\"\"\n\u001b[0;32m--> 334\u001b[0;31m     \u001b[0mraw_code\u001b[0m \u001b[0;34m=\u001b[0m \u001b[0mget_throttling_function_code\u001b[0m\u001b[0;34m(\u001b[0m\u001b[0mjs\u001b[0m\u001b[0;34m)\u001b[0m\u001b[0;34m\u001b[0m\u001b[0;34m\u001b[0m\u001b[0m\n\u001b[0m\u001b[1;32m    335\u001b[0m \u001b[0;34m\u001b[0m\u001b[0m\n\u001b[1;32m    336\u001b[0m     \u001b[0marray_start\u001b[0m \u001b[0;34m=\u001b[0m \u001b[0;34mr\",c=\\[\"\u001b[0m\u001b[0;34m\u001b[0m\u001b[0;34m\u001b[0m\u001b[0m\n",
            "\u001b[0;32m/usr/local/lib/python3.10/dist-packages/pytube/cipher.py\u001b[0m in \u001b[0;36mget_throttling_function_code\u001b[0;34m(js)\u001b[0m\n\u001b[1;32m    317\u001b[0m \u001b[0;34m\u001b[0m\u001b[0m\n\u001b[1;32m    318\u001b[0m     \u001b[0;31m# Extract the code within curly braces for the function itself, and merge any split lines\u001b[0m\u001b[0;34m\u001b[0m\u001b[0;34m\u001b[0m\u001b[0m\n\u001b[0;32m--> 319\u001b[0;31m     \u001b[0mcode_lines_list\u001b[0m \u001b[0;34m=\u001b[0m \u001b[0mfind_object_from_startpoint\u001b[0m\u001b[0;34m(\u001b[0m\u001b[0mjs\u001b[0m\u001b[0;34m,\u001b[0m \u001b[0mmatch\u001b[0m\u001b[0;34m.\u001b[0m\u001b[0mspan\u001b[0m\u001b[0;34m(\u001b[0m\u001b[0;34m)\u001b[0m\u001b[0;34m[\u001b[0m\u001b[0;36m1\u001b[0m\u001b[0;34m]\u001b[0m\u001b[0;34m)\u001b[0m\u001b[0;34m.\u001b[0m\u001b[0msplit\u001b[0m\u001b[0;34m(\u001b[0m\u001b[0;34m'\\n'\u001b[0m\u001b[0;34m)\u001b[0m\u001b[0;34m\u001b[0m\u001b[0;34m\u001b[0m\u001b[0m\n\u001b[0m\u001b[1;32m    320\u001b[0m     \u001b[0mjoined_lines\u001b[0m \u001b[0;34m=\u001b[0m \u001b[0;34m\"\"\u001b[0m\u001b[0;34m.\u001b[0m\u001b[0mjoin\u001b[0m\u001b[0;34m(\u001b[0m\u001b[0mcode_lines_list\u001b[0m\u001b[0;34m)\u001b[0m\u001b[0;34m\u001b[0m\u001b[0;34m\u001b[0m\u001b[0m\n\u001b[1;32m    321\u001b[0m \u001b[0;34m\u001b[0m\u001b[0m\n",
            "\u001b[0;32m/usr/local/lib/python3.10/dist-packages/pytube/parser.py\u001b[0m in \u001b[0;36mfind_object_from_startpoint\u001b[0;34m(html, start_point)\u001b[0m\n\u001b[1;32m     87\u001b[0m     }\n\u001b[1;32m     88\u001b[0m \u001b[0;34m\u001b[0m\u001b[0m\n\u001b[0;32m---> 89\u001b[0;31m     \u001b[0;32mwhile\u001b[0m \u001b[0mi\u001b[0m \u001b[0;34m<\u001b[0m \u001b[0mlen\u001b[0m\u001b[0;34m(\u001b[0m\u001b[0mhtml\u001b[0m\u001b[0;34m)\u001b[0m\u001b[0;34m:\u001b[0m\u001b[0;34m\u001b[0m\u001b[0;34m\u001b[0m\u001b[0m\n\u001b[0m\u001b[1;32m     90\u001b[0m         \u001b[0;32mif\u001b[0m \u001b[0mlen\u001b[0m\u001b[0;34m(\u001b[0m\u001b[0mstack\u001b[0m\u001b[0;34m)\u001b[0m \u001b[0;34m==\u001b[0m \u001b[0;36m0\u001b[0m\u001b[0;34m:\u001b[0m\u001b[0;34m\u001b[0m\u001b[0;34m\u001b[0m\u001b[0m\n\u001b[1;32m     91\u001b[0m             \u001b[0;32mbreak\u001b[0m\u001b[0;34m\u001b[0m\u001b[0;34m\u001b[0m\u001b[0m\n",
            "\u001b[0;31mKeyboardInterrupt\u001b[0m: "
          ]
        }
      ]
    },
    {
      "cell_type": "code",
      "source": [
        "i=2\n",
        "print(f\"{i}.mp3\")"
      ],
      "metadata": {
        "colab": {
          "base_uri": "https://localhost:8080/"
        },
        "id": "4lmll7ChchmR",
        "outputId": "c5b57581-f989-4962-ed8c-354bd1351e34"
      },
      "execution_count": null,
      "outputs": [
        {
          "output_type": "stream",
          "name": "stdout",
          "text": [
            "2.mp3\n"
          ]
        }
      ]
    },
    {
      "cell_type": "code",
      "source": [
        "mp3_data[0:98]"
      ],
      "metadata": {
        "colab": {
          "base_uri": "https://localhost:8080/",
          "height": 423
        },
        "id": "hV9qryIDw-BA",
        "outputId": "0270c92a-49cf-4a64-fbd8-d064a5a118ba"
      },
      "execution_count": null,
      "outputs": [
        {
          "output_type": "execute_result",
          "data": {
            "text/plain": [
              "                                          aspect_list  \\\n",
              "0   ['low quality', 'sustained strings melody', 's...   \n",
              "1   ['guitar song', 'piano backing', 'simple percu...   \n",
              "2   ['amateur recording', 'finger snipping', 'male...   \n",
              "3   ['backing track', 'jazzy', 'digital drums', 'p...   \n",
              "4   ['rubab instrument', 'repetitive melody on dif...   \n",
              "..                                                ...   \n",
              "94  ['high pitched synth', 'riser', 'fuzzy synth',...   \n",
              "95  ['rock music', 'tutorial', 'electric guitar', ...   \n",
              "96  ['low quality', 'pop', 'echoing male vocal', '...   \n",
              "97  ['parole', 'strings', 'upright bass', 'harp', ...   \n",
              "98  ['country', 'banjo', 'acoustic piano', 'violin...   \n",
              "\n",
              "                                              caption     mp3  \n",
              "0   The low quality recording features a ballad so...   0.mp3  \n",
              "1   This song features an electric guitar as the m...   1.mp3  \n",
              "2   a male voice is singing a melody with changing...   2.mp3  \n",
              "3   This song contains digital drums playing a sim...   3.mp3  \n",
              "4   This song features a rubber instrument being p...   4.mp3  \n",
              "..                                                ...     ...  \n",
              "94  The clip just contains a high pitched synth me...  94.mp3  \n",
              "95  This is a rock music piece playing in the back...  95.mp3  \n",
              "96  The low quality recording features a pop song ...  96.mp3  \n",
              "97  This composition contains an upright bass play...          \n",
              "98  An acoustic drum set is playing a 16th note rh...  98.mp3  \n",
              "\n",
              "[98 rows x 3 columns]"
            ],
            "text/html": [
              "\n",
              "  <div id=\"df-39105fbf-6f3c-42a6-9f66-e68fc1a3baae\">\n",
              "    <div class=\"colab-df-container\">\n",
              "      <div>\n",
              "<style scoped>\n",
              "    .dataframe tbody tr th:only-of-type {\n",
              "        vertical-align: middle;\n",
              "    }\n",
              "\n",
              "    .dataframe tbody tr th {\n",
              "        vertical-align: top;\n",
              "    }\n",
              "\n",
              "    .dataframe thead th {\n",
              "        text-align: right;\n",
              "    }\n",
              "</style>\n",
              "<table border=\"1\" class=\"dataframe\">\n",
              "  <thead>\n",
              "    <tr style=\"text-align: right;\">\n",
              "      <th></th>\n",
              "      <th>aspect_list</th>\n",
              "      <th>caption</th>\n",
              "      <th>mp3</th>\n",
              "    </tr>\n",
              "  </thead>\n",
              "  <tbody>\n",
              "    <tr>\n",
              "      <th>0</th>\n",
              "      <td>['low quality', 'sustained strings melody', 's...</td>\n",
              "      <td>The low quality recording features a ballad so...</td>\n",
              "      <td>0.mp3</td>\n",
              "    </tr>\n",
              "    <tr>\n",
              "      <th>1</th>\n",
              "      <td>['guitar song', 'piano backing', 'simple percu...</td>\n",
              "      <td>This song features an electric guitar as the m...</td>\n",
              "      <td>1.mp3</td>\n",
              "    </tr>\n",
              "    <tr>\n",
              "      <th>2</th>\n",
              "      <td>['amateur recording', 'finger snipping', 'male...</td>\n",
              "      <td>a male voice is singing a melody with changing...</td>\n",
              "      <td>2.mp3</td>\n",
              "    </tr>\n",
              "    <tr>\n",
              "      <th>3</th>\n",
              "      <td>['backing track', 'jazzy', 'digital drums', 'p...</td>\n",
              "      <td>This song contains digital drums playing a sim...</td>\n",
              "      <td>3.mp3</td>\n",
              "    </tr>\n",
              "    <tr>\n",
              "      <th>4</th>\n",
              "      <td>['rubab instrument', 'repetitive melody on dif...</td>\n",
              "      <td>This song features a rubber instrument being p...</td>\n",
              "      <td>4.mp3</td>\n",
              "    </tr>\n",
              "    <tr>\n",
              "      <th>...</th>\n",
              "      <td>...</td>\n",
              "      <td>...</td>\n",
              "      <td>...</td>\n",
              "    </tr>\n",
              "    <tr>\n",
              "      <th>94</th>\n",
              "      <td>['high pitched synth', 'riser', 'fuzzy synth',...</td>\n",
              "      <td>The clip just contains a high pitched synth me...</td>\n",
              "      <td>94.mp3</td>\n",
              "    </tr>\n",
              "    <tr>\n",
              "      <th>95</th>\n",
              "      <td>['rock music', 'tutorial', 'electric guitar', ...</td>\n",
              "      <td>This is a rock music piece playing in the back...</td>\n",
              "      <td>95.mp3</td>\n",
              "    </tr>\n",
              "    <tr>\n",
              "      <th>96</th>\n",
              "      <td>['low quality', 'pop', 'echoing male vocal', '...</td>\n",
              "      <td>The low quality recording features a pop song ...</td>\n",
              "      <td>96.mp3</td>\n",
              "    </tr>\n",
              "    <tr>\n",
              "      <th>97</th>\n",
              "      <td>['parole', 'strings', 'upright bass', 'harp', ...</td>\n",
              "      <td>This composition contains an upright bass play...</td>\n",
              "      <td></td>\n",
              "    </tr>\n",
              "    <tr>\n",
              "      <th>98</th>\n",
              "      <td>['country', 'banjo', 'acoustic piano', 'violin...</td>\n",
              "      <td>An acoustic drum set is playing a 16th note rh...</td>\n",
              "      <td>98.mp3</td>\n",
              "    </tr>\n",
              "  </tbody>\n",
              "</table>\n",
              "<p>98 rows × 3 columns</p>\n",
              "</div>\n",
              "      <button class=\"colab-df-convert\" onclick=\"convertToInteractive('df-39105fbf-6f3c-42a6-9f66-e68fc1a3baae')\"\n",
              "              title=\"Convert this dataframe to an interactive table.\"\n",
              "              style=\"display:none;\">\n",
              "        \n",
              "  <svg xmlns=\"http://www.w3.org/2000/svg\" height=\"24px\"viewBox=\"0 0 24 24\"\n",
              "       width=\"24px\">\n",
              "    <path d=\"M0 0h24v24H0V0z\" fill=\"none\"/>\n",
              "    <path d=\"M18.56 5.44l.94 2.06.94-2.06 2.06-.94-2.06-.94-.94-2.06-.94 2.06-2.06.94zm-11 1L8.5 8.5l.94-2.06 2.06-.94-2.06-.94L8.5 2.5l-.94 2.06-2.06.94zm10 10l.94 2.06.94-2.06 2.06-.94-2.06-.94-.94-2.06-.94 2.06-2.06.94z\"/><path d=\"M17.41 7.96l-1.37-1.37c-.4-.4-.92-.59-1.43-.59-.52 0-1.04.2-1.43.59L10.3 9.45l-7.72 7.72c-.78.78-.78 2.05 0 2.83L4 21.41c.39.39.9.59 1.41.59.51 0 1.02-.2 1.41-.59l7.78-7.78 2.81-2.81c.8-.78.8-2.07 0-2.86zM5.41 20L4 18.59l7.72-7.72 1.47 1.35L5.41 20z\"/>\n",
              "  </svg>\n",
              "      </button>\n",
              "      \n",
              "  <style>\n",
              "    .colab-df-container {\n",
              "      display:flex;\n",
              "      flex-wrap:wrap;\n",
              "      gap: 12px;\n",
              "    }\n",
              "\n",
              "    .colab-df-convert {\n",
              "      background-color: #E8F0FE;\n",
              "      border: none;\n",
              "      border-radius: 50%;\n",
              "      cursor: pointer;\n",
              "      display: none;\n",
              "      fill: #1967D2;\n",
              "      height: 32px;\n",
              "      padding: 0 0 0 0;\n",
              "      width: 32px;\n",
              "    }\n",
              "\n",
              "    .colab-df-convert:hover {\n",
              "      background-color: #E2EBFA;\n",
              "      box-shadow: 0px 1px 2px rgba(60, 64, 67, 0.3), 0px 1px 3px 1px rgba(60, 64, 67, 0.15);\n",
              "      fill: #174EA6;\n",
              "    }\n",
              "\n",
              "    [theme=dark] .colab-df-convert {\n",
              "      background-color: #3B4455;\n",
              "      fill: #D2E3FC;\n",
              "    }\n",
              "\n",
              "    [theme=dark] .colab-df-convert:hover {\n",
              "      background-color: #434B5C;\n",
              "      box-shadow: 0px 1px 3px 1px rgba(0, 0, 0, 0.15);\n",
              "      filter: drop-shadow(0px 1px 2px rgba(0, 0, 0, 0.3));\n",
              "      fill: #FFFFFF;\n",
              "    }\n",
              "  </style>\n",
              "\n",
              "      <script>\n",
              "        const buttonEl =\n",
              "          document.querySelector('#df-39105fbf-6f3c-42a6-9f66-e68fc1a3baae button.colab-df-convert');\n",
              "        buttonEl.style.display =\n",
              "          google.colab.kernel.accessAllowed ? 'block' : 'none';\n",
              "\n",
              "        async function convertToInteractive(key) {\n",
              "          const element = document.querySelector('#df-39105fbf-6f3c-42a6-9f66-e68fc1a3baae');\n",
              "          const dataTable =\n",
              "            await google.colab.kernel.invokeFunction('convertToInteractive',\n",
              "                                                     [key], {});\n",
              "          if (!dataTable) return;\n",
              "\n",
              "          const docLinkHtml = 'Like what you see? Visit the ' +\n",
              "            '<a target=\"_blank\" href=https://colab.research.google.com/notebooks/data_table.ipynb>data table notebook</a>'\n",
              "            + ' to learn more about interactive tables.';\n",
              "          element.innerHTML = '';\n",
              "          dataTable['output_type'] = 'display_data';\n",
              "          await google.colab.output.renderOutput(dataTable, element);\n",
              "          const docLink = document.createElement('div');\n",
              "          docLink.innerHTML = docLinkHtml;\n",
              "          element.appendChild(docLink);\n",
              "        }\n",
              "      </script>\n",
              "    </div>\n",
              "  </div>\n",
              "  "
            ]
          },
          "metadata": {},
          "execution_count": 45
        }
      ]
    },
    {
      "cell_type": "code",
      "source": [
        "mp3_data[0:98].to_csv('mp3_dataa.csv')"
      ],
      "metadata": {
        "colab": {
          "base_uri": "https://localhost:8080/"
        },
        "id": "yi-ub_L1jKwa",
        "outputId": "1f355566-c75a-4755-cdf0-b4f209c1cd35"
      },
      "execution_count": null,
      "outputs": [
        {
          "output_type": "stream",
          "name": "stderr",
          "text": [
            "WARNING:py.warnings:/usr/local/lib/python3.10/dist-packages/ipykernel/ipkernel.py:283: DeprecationWarning: `should_run_async` will not call `transform_cell` automatically in the future. Please pass the result to `transformed_cell` argument and any exception that happen during thetransform in `preprocessing_exc_tuple` in IPython 7.17 and above.\n",
            "  and should_run_async(code)\n",
            "\n"
          ]
        }
      ]
    },
    {
      "cell_type": "code",
      "source": [
        "!git clone https://github.com/spotify/basic-pitch.git"
      ],
      "metadata": {
        "colab": {
          "base_uri": "https://localhost:8080/"
        },
        "id": "AktI2RZepvbo",
        "outputId": "f7b4cce5-6272-418b-e34e-0fdcf6c114ce"
      },
      "execution_count": null,
      "outputs": [
        {
          "output_type": "stream",
          "name": "stdout",
          "text": [
            "Cloning into 'basic-pitch'...\n",
            "remote: Enumerating objects: 390, done.\u001b[K\n",
            "remote: Counting objects: 100% (196/196), done.\u001b[K\n",
            "remote: Compressing objects: 100% (88/88), done.\u001b[K\n",
            "remote: Total 390 (delta 129), reused 143 (delta 103), pack-reused 194\u001b[K\n",
            "Receiving objects: 100% (390/390), 1.98 MiB | 25.41 MiB/s, done.\n",
            "Resolving deltas: 100% (207/207), done.\n"
          ]
        }
      ]
    },
    {
      "cell_type": "code",
      "source": [
        "!pip install basic_pitch"
      ],
      "metadata": {
        "colab": {
          "base_uri": "https://localhost:8080/",
          "height": 1000
        },
        "id": "hqBWR1Vvpxhl",
        "outputId": "36637069-442c-4a05-8fa7-e76893bc7ddb"
      },
      "execution_count": null,
      "outputs": [
        {
          "output_type": "stream",
          "name": "stdout",
          "text": [
            "Looking in indexes: https://pypi.org/simple, https://us-python.pkg.dev/colab-wheels/public/simple/\n",
            "Collecting basic_pitch\n",
            "  Downloading basic_pitch-0.2.4-py2.py3-none-any.whl (373 kB)\n",
            "\u001b[2K     \u001b[90m━━━━━━━━━━━━━━━━━━━━━━━━━━━━━━━━━━━━━━\u001b[0m \u001b[32m373.4/373.4 kB\u001b[0m \u001b[31m21.3 MB/s\u001b[0m eta \u001b[36m0:00:00\u001b[0m\n",
            "\u001b[?25hRequirement already satisfied: librosa>=0.8.0 in /usr/local/lib/python3.10/dist-packages (from basic_pitch) (0.10.0.post2)\n",
            "Collecting mir-eval>=0.6 (from basic_pitch)\n",
            "  Downloading mir_eval-0.7.tar.gz (90 kB)\n",
            "\u001b[2K     \u001b[90m━━━━━━━━━━━━━━━━━━━━━━━━━━━━━━━━━━━━━━━━\u001b[0m \u001b[32m90.7/90.7 kB\u001b[0m \u001b[31m10.8 MB/s\u001b[0m eta \u001b[36m0:00:00\u001b[0m\n",
            "\u001b[?25h  Preparing metadata (setup.py) ... \u001b[?25l\u001b[?25hdone\n",
            "Requirement already satisfied: numpy<1.24,>=1.18 in /usr/local/lib/python3.10/dist-packages (from basic_pitch) (1.22.4)\n",
            "Collecting pretty-midi>=0.2.9 (from basic_pitch)\n",
            "  Downloading pretty_midi-0.2.10.tar.gz (5.6 MB)\n",
            "\u001b[2K     \u001b[90m━━━━━━━━━━━━━━━━━━━━━━━━━━━━━━━━━━━━━━━━\u001b[0m \u001b[32m5.6/5.6 MB\u001b[0m \u001b[31m73.9 MB/s\u001b[0m eta \u001b[36m0:00:00\u001b[0m\n",
            "\u001b[?25h  Preparing metadata (setup.py) ... \u001b[?25l\u001b[?25hdone\n",
            "Collecting resampy>=0.2.2 (from basic_pitch)\n",
            "  Downloading resampy-0.4.2-py3-none-any.whl (3.1 MB)\n",
            "\u001b[2K     \u001b[90m━━━━━━━━━━━━━━━━━━━━━━━━━━━━━━━━━━━━━━━━\u001b[0m \u001b[32m3.1/3.1 MB\u001b[0m \u001b[31m65.8 MB/s\u001b[0m eta \u001b[36m0:00:00\u001b[0m\n",
            "\u001b[?25hRequirement already satisfied: scipy>=1.4.1 in /usr/local/lib/python3.10/dist-packages (from basic_pitch) (1.10.1)\n",
            "Requirement already satisfied: typing-extensions in /usr/local/lib/python3.10/dist-packages (from basic_pitch) (4.5.0)\n",
            "Collecting tensorflow<2.12,>=2.4.1 (from basic_pitch)\n",
            "  Downloading tensorflow-2.11.1-cp310-cp310-manylinux_2_17_x86_64.manylinux2014_x86_64.whl (588.3 MB)\n",
            "\u001b[2K     \u001b[90m━━━━━━━━━━━━━━━━━━━━━━━━━━━━━━━━━━━━━━━\u001b[0m \u001b[32m588.3/588.3 MB\u001b[0m \u001b[31m2.8 MB/s\u001b[0m eta \u001b[36m0:00:00\u001b[0m\n",
            "\u001b[?25hRequirement already satisfied: audioread>=2.1.9 in /usr/local/lib/python3.10/dist-packages (from librosa>=0.8.0->basic_pitch) (3.0.0)\n",
            "Requirement already satisfied: scikit-learn>=0.20.0 in /usr/local/lib/python3.10/dist-packages (from librosa>=0.8.0->basic_pitch) (1.2.2)\n",
            "Requirement already satisfied: joblib>=0.14 in /usr/local/lib/python3.10/dist-packages (from librosa>=0.8.0->basic_pitch) (1.2.0)\n",
            "Requirement already satisfied: decorator>=4.3.0 in /usr/local/lib/python3.10/dist-packages (from librosa>=0.8.0->basic_pitch) (4.4.2)\n",
            "Requirement already satisfied: numba>=0.51.0 in /usr/local/lib/python3.10/dist-packages (from librosa>=0.8.0->basic_pitch) (0.56.4)\n",
            "Requirement already satisfied: soundfile>=0.12.1 in /usr/local/lib/python3.10/dist-packages (from librosa>=0.8.0->basic_pitch) (0.12.1)\n",
            "Requirement already satisfied: pooch<1.7,>=1.0 in /usr/local/lib/python3.10/dist-packages (from librosa>=0.8.0->basic_pitch) (1.6.0)\n",
            "Requirement already satisfied: soxr>=0.3.2 in /usr/local/lib/python3.10/dist-packages (from librosa>=0.8.0->basic_pitch) (0.3.5)\n",
            "Requirement already satisfied: lazy-loader>=0.1 in /usr/local/lib/python3.10/dist-packages (from librosa>=0.8.0->basic_pitch) (0.2)\n",
            "Requirement already satisfied: msgpack>=1.0 in /usr/local/lib/python3.10/dist-packages (from librosa>=0.8.0->basic_pitch) (1.0.5)\n",
            "Requirement already satisfied: future in /usr/local/lib/python3.10/dist-packages (from mir-eval>=0.6->basic_pitch) (0.18.3)\n",
            "Requirement already satisfied: six in /usr/local/lib/python3.10/dist-packages (from mir-eval>=0.6->basic_pitch) (1.16.0)\n",
            "Collecting mido>=1.1.16 (from pretty-midi>=0.2.9->basic_pitch)\n",
            "  Downloading mido-1.2.10-py2.py3-none-any.whl (51 kB)\n",
            "\u001b[2K     \u001b[90m━━━━━━━━━━━━━━━━━━━━━━━━━━━━━━━━━━━━━━━━\u001b[0m \u001b[32m51.1/51.1 kB\u001b[0m \u001b[31m6.4 MB/s\u001b[0m eta \u001b[36m0:00:00\u001b[0m\n",
            "\u001b[?25hRequirement already satisfied: absl-py>=1.0.0 in /usr/local/lib/python3.10/dist-packages (from tensorflow<2.12,>=2.4.1->basic_pitch) (1.4.0)\n",
            "Requirement already satisfied: astunparse>=1.6.0 in /usr/local/lib/python3.10/dist-packages (from tensorflow<2.12,>=2.4.1->basic_pitch) (1.6.3)\n",
            "Requirement already satisfied: flatbuffers>=2.0 in /usr/local/lib/python3.10/dist-packages (from tensorflow<2.12,>=2.4.1->basic_pitch) (23.3.3)\n",
            "Requirement already satisfied: gast<=0.4.0,>=0.2.1 in /usr/local/lib/python3.10/dist-packages (from tensorflow<2.12,>=2.4.1->basic_pitch) (0.4.0)\n",
            "Requirement already satisfied: google-pasta>=0.1.1 in /usr/local/lib/python3.10/dist-packages (from tensorflow<2.12,>=2.4.1->basic_pitch) (0.2.0)\n",
            "Requirement already satisfied: grpcio<2.0,>=1.24.3 in /usr/local/lib/python3.10/dist-packages (from tensorflow<2.12,>=2.4.1->basic_pitch) (1.54.0)\n",
            "Requirement already satisfied: h5py>=2.9.0 in /usr/local/lib/python3.10/dist-packages (from tensorflow<2.12,>=2.4.1->basic_pitch) (3.8.0)\n",
            "Collecting keras<2.12,>=2.11.0 (from tensorflow<2.12,>=2.4.1->basic_pitch)\n",
            "  Downloading keras-2.11.0-py2.py3-none-any.whl (1.7 MB)\n",
            "\u001b[2K     \u001b[90m━━━━━━━━━━━━━━━━━━━━━━━━━━━━━━━━━━━━━━━━\u001b[0m \u001b[32m1.7/1.7 MB\u001b[0m \u001b[31m73.8 MB/s\u001b[0m eta \u001b[36m0:00:00\u001b[0m\n",
            "\u001b[?25hRequirement already satisfied: libclang>=13.0.0 in /usr/local/lib/python3.10/dist-packages (from tensorflow<2.12,>=2.4.1->basic_pitch) (16.0.0)\n",
            "Requirement already satisfied: opt-einsum>=2.3.2 in /usr/local/lib/python3.10/dist-packages (from tensorflow<2.12,>=2.4.1->basic_pitch) (3.3.0)\n",
            "Requirement already satisfied: packaging in /usr/local/lib/python3.10/dist-packages (from tensorflow<2.12,>=2.4.1->basic_pitch) (23.1)\n",
            "Collecting protobuf<3.20,>=3.9.2 (from tensorflow<2.12,>=2.4.1->basic_pitch)\n",
            "  Downloading protobuf-3.19.6-cp310-cp310-manylinux_2_17_x86_64.manylinux2014_x86_64.whl (1.1 MB)\n",
            "\u001b[2K     \u001b[90m━━━━━━━━━━━━━━━━━━━━━━━━━━━━━━━━━━━━━━━━\u001b[0m \u001b[32m1.1/1.1 MB\u001b[0m \u001b[31m68.9 MB/s\u001b[0m eta \u001b[36m0:00:00\u001b[0m\n",
            "\u001b[?25hRequirement already satisfied: setuptools in /usr/local/lib/python3.10/dist-packages (from tensorflow<2.12,>=2.4.1->basic_pitch) (67.7.2)\n",
            "Collecting tensorboard<2.12,>=2.11 (from tensorflow<2.12,>=2.4.1->basic_pitch)\n",
            "  Downloading tensorboard-2.11.2-py3-none-any.whl (6.0 MB)\n",
            "\u001b[2K     \u001b[90m━━━━━━━━━━━━━━━━━━━━━━━━━━━━━━━━━━━━━━━━\u001b[0m \u001b[32m6.0/6.0 MB\u001b[0m \u001b[31m88.9 MB/s\u001b[0m eta \u001b[36m0:00:00\u001b[0m\n",
            "\u001b[?25hCollecting tensorflow-estimator<2.12,>=2.11.0 (from tensorflow<2.12,>=2.4.1->basic_pitch)\n",
            "  Downloading tensorflow_estimator-2.11.0-py2.py3-none-any.whl (439 kB)\n",
            "\u001b[2K     \u001b[90m━━━━━━━━━━━━━━━━━━━━━━━━━━━━━━━━━━━━━━\u001b[0m \u001b[32m439.2/439.2 kB\u001b[0m \u001b[31m38.0 MB/s\u001b[0m eta \u001b[36m0:00:00\u001b[0m\n",
            "\u001b[?25hRequirement already satisfied: termcolor>=1.1.0 in /usr/local/lib/python3.10/dist-packages (from tensorflow<2.12,>=2.4.1->basic_pitch) (2.3.0)\n",
            "Requirement already satisfied: wrapt>=1.11.0 in /usr/local/lib/python3.10/dist-packages (from tensorflow<2.12,>=2.4.1->basic_pitch) (1.14.1)\n",
            "Requirement already satisfied: tensorflow-io-gcs-filesystem>=0.23.1 in /usr/local/lib/python3.10/dist-packages (from tensorflow<2.12,>=2.4.1->basic_pitch) (0.32.0)\n",
            "Requirement already satisfied: wheel<1.0,>=0.23.0 in /usr/local/lib/python3.10/dist-packages (from astunparse>=1.6.0->tensorflow<2.12,>=2.4.1->basic_pitch) (0.40.0)\n",
            "Requirement already satisfied: llvmlite<0.40,>=0.39.0dev0 in /usr/local/lib/python3.10/dist-packages (from numba>=0.51.0->librosa>=0.8.0->basic_pitch) (0.39.1)\n",
            "Requirement already satisfied: appdirs>=1.3.0 in /usr/local/lib/python3.10/dist-packages (from pooch<1.7,>=1.0->librosa>=0.8.0->basic_pitch) (1.4.4)\n",
            "Requirement already satisfied: requests>=2.19.0 in /usr/local/lib/python3.10/dist-packages (from pooch<1.7,>=1.0->librosa>=0.8.0->basic_pitch) (2.27.1)\n",
            "Requirement already satisfied: threadpoolctl>=2.0.0 in /usr/local/lib/python3.10/dist-packages (from scikit-learn>=0.20.0->librosa>=0.8.0->basic_pitch) (3.1.0)\n",
            "Requirement already satisfied: cffi>=1.0 in /usr/local/lib/python3.10/dist-packages (from soundfile>=0.12.1->librosa>=0.8.0->basic_pitch) (1.15.1)\n",
            "Requirement already satisfied: google-auth<3,>=1.6.3 in /usr/local/lib/python3.10/dist-packages (from tensorboard<2.12,>=2.11->tensorflow<2.12,>=2.4.1->basic_pitch) (2.17.3)\n",
            "Collecting google-auth-oauthlib<0.5,>=0.4.1 (from tensorboard<2.12,>=2.11->tensorflow<2.12,>=2.4.1->basic_pitch)\n",
            "  Downloading google_auth_oauthlib-0.4.6-py2.py3-none-any.whl (18 kB)\n",
            "Requirement already satisfied: markdown>=2.6.8 in /usr/local/lib/python3.10/dist-packages (from tensorboard<2.12,>=2.11->tensorflow<2.12,>=2.4.1->basic_pitch) (3.4.3)\n",
            "Collecting tensorboard-data-server<0.7.0,>=0.6.0 (from tensorboard<2.12,>=2.11->tensorflow<2.12,>=2.4.1->basic_pitch)\n",
            "  Downloading tensorboard_data_server-0.6.1-py3-none-manylinux2010_x86_64.whl (4.9 MB)\n",
            "\u001b[2K     \u001b[90m━━━━━━━━━━━━━━━━━━━━━━━━━━━━━━━━━━━━━━━━\u001b[0m \u001b[32m4.9/4.9 MB\u001b[0m \u001b[31m103.2 MB/s\u001b[0m eta \u001b[36m0:00:00\u001b[0m\n",
            "\u001b[?25hRequirement already satisfied: tensorboard-plugin-wit>=1.6.0 in /usr/local/lib/python3.10/dist-packages (from tensorboard<2.12,>=2.11->tensorflow<2.12,>=2.4.1->basic_pitch) (1.8.1)\n",
            "Requirement already satisfied: werkzeug>=1.0.1 in /usr/local/lib/python3.10/dist-packages (from tensorboard<2.12,>=2.11->tensorflow<2.12,>=2.4.1->basic_pitch) (2.3.0)\n",
            "Requirement already satisfied: pycparser in /usr/local/lib/python3.10/dist-packages (from cffi>=1.0->soundfile>=0.12.1->librosa>=0.8.0->basic_pitch) (2.21)\n",
            "Requirement already satisfied: cachetools<6.0,>=2.0.0 in /usr/local/lib/python3.10/dist-packages (from google-auth<3,>=1.6.3->tensorboard<2.12,>=2.11->tensorflow<2.12,>=2.4.1->basic_pitch) (5.3.0)\n",
            "Requirement already satisfied: pyasn1-modules>=0.2.1 in /usr/local/lib/python3.10/dist-packages (from google-auth<3,>=1.6.3->tensorboard<2.12,>=2.11->tensorflow<2.12,>=2.4.1->basic_pitch) (0.3.0)\n",
            "Requirement already satisfied: rsa<5,>=3.1.4 in /usr/local/lib/python3.10/dist-packages (from google-auth<3,>=1.6.3->tensorboard<2.12,>=2.11->tensorflow<2.12,>=2.4.1->basic_pitch) (4.9)\n",
            "Requirement already satisfied: requests-oauthlib>=0.7.0 in /usr/local/lib/python3.10/dist-packages (from google-auth-oauthlib<0.5,>=0.4.1->tensorboard<2.12,>=2.11->tensorflow<2.12,>=2.4.1->basic_pitch) (1.3.1)\n",
            "Requirement already satisfied: urllib3<1.27,>=1.21.1 in /usr/local/lib/python3.10/dist-packages (from requests>=2.19.0->pooch<1.7,>=1.0->librosa>=0.8.0->basic_pitch) (1.26.15)\n",
            "Requirement already satisfied: certifi>=2017.4.17 in /usr/local/lib/python3.10/dist-packages (from requests>=2.19.0->pooch<1.7,>=1.0->librosa>=0.8.0->basic_pitch) (2022.12.7)\n",
            "Requirement already satisfied: charset-normalizer~=2.0.0 in /usr/local/lib/python3.10/dist-packages (from requests>=2.19.0->pooch<1.7,>=1.0->librosa>=0.8.0->basic_pitch) (2.0.12)\n",
            "Requirement already satisfied: idna<4,>=2.5 in /usr/local/lib/python3.10/dist-packages (from requests>=2.19.0->pooch<1.7,>=1.0->librosa>=0.8.0->basic_pitch) (3.4)\n",
            "Requirement already satisfied: MarkupSafe>=2.1.1 in /usr/local/lib/python3.10/dist-packages (from werkzeug>=1.0.1->tensorboard<2.12,>=2.11->tensorflow<2.12,>=2.4.1->basic_pitch) (2.1.2)\n",
            "Requirement already satisfied: pyasn1<0.6.0,>=0.4.6 in /usr/local/lib/python3.10/dist-packages (from pyasn1-modules>=0.2.1->google-auth<3,>=1.6.3->tensorboard<2.12,>=2.11->tensorflow<2.12,>=2.4.1->basic_pitch) (0.5.0)\n",
            "Requirement already satisfied: oauthlib>=3.0.0 in /usr/local/lib/python3.10/dist-packages (from requests-oauthlib>=0.7.0->google-auth-oauthlib<0.5,>=0.4.1->tensorboard<2.12,>=2.11->tensorflow<2.12,>=2.4.1->basic_pitch) (3.2.2)\n",
            "Building wheels for collected packages: mir-eval, pretty-midi\n",
            "  Building wheel for mir-eval (setup.py) ... \u001b[?25l\u001b[?25hdone\n",
            "  Created wheel for mir-eval: filename=mir_eval-0.7-py3-none-any.whl size=100705 sha256=2637353e8244bc9e0e9636194c5f4ae29cf89d17082909bb9064ef800db037b7\n",
            "  Stored in directory: /root/.cache/pip/wheels/3e/2f/0d/dda9c4c77a170e21356b6afa2f7d9bb078338634ba05d94e3f\n",
            "  Building wheel for pretty-midi (setup.py) ... \u001b[?25l\u001b[?25hdone\n",
            "  Created wheel for pretty-midi: filename=pretty_midi-0.2.10-py3-none-any.whl size=5592289 sha256=772da97da87f147ad7a86ae79ce761ed6619360de1e333359a66efee38e11dc2\n",
            "  Stored in directory: /root/.cache/pip/wheels/cd/a5/30/7b8b7f58709f5150f67f98fde4b891ebf0be9ef07a8af49f25\n",
            "Successfully built mir-eval pretty-midi\n",
            "Installing collected packages: mido, tensorflow-estimator, tensorboard-data-server, protobuf, pretty-midi, keras, resampy, mir-eval, google-auth-oauthlib, tensorboard, tensorflow, basic_pitch\n",
            "  Attempting uninstall: tensorflow-estimator\n",
            "    Found existing installation: tensorflow-estimator 2.12.0\n",
            "    Uninstalling tensorflow-estimator-2.12.0:\n",
            "      Successfully uninstalled tensorflow-estimator-2.12.0\n",
            "  Attempting uninstall: tensorboard-data-server\n",
            "    Found existing installation: tensorboard-data-server 0.7.0\n",
            "    Uninstalling tensorboard-data-server-0.7.0:\n",
            "      Successfully uninstalled tensorboard-data-server-0.7.0\n",
            "  Attempting uninstall: protobuf\n",
            "    Found existing installation: protobuf 3.20.3\n",
            "    Uninstalling protobuf-3.20.3:\n",
            "      Successfully uninstalled protobuf-3.20.3\n",
            "  Attempting uninstall: keras\n",
            "    Found existing installation: keras 2.12.0\n",
            "    Uninstalling keras-2.12.0:\n",
            "      Successfully uninstalled keras-2.12.0\n",
            "  Attempting uninstall: google-auth-oauthlib\n",
            "    Found existing installation: google-auth-oauthlib 1.0.0\n",
            "    Uninstalling google-auth-oauthlib-1.0.0:\n",
            "      Successfully uninstalled google-auth-oauthlib-1.0.0\n",
            "  Attempting uninstall: tensorboard\n",
            "    Found existing installation: tensorboard 2.12.2\n",
            "    Uninstalling tensorboard-2.12.2:\n",
            "      Successfully uninstalled tensorboard-2.12.2\n",
            "  Attempting uninstall: tensorflow\n",
            "    Found existing installation: tensorflow 2.12.0\n",
            "    Uninstalling tensorflow-2.12.0:\n",
            "      Successfully uninstalled tensorflow-2.12.0\n",
            "\u001b[31mERROR: pip's dependency resolver does not currently take into account all the packages that are installed. This behaviour is the source of the following dependency conflicts.\n",
            "tensorflow-datasets 4.9.2 requires protobuf>=3.20, but you have protobuf 3.19.6 which is incompatible.\n",
            "tensorflow-metadata 1.13.1 requires protobuf<5,>=3.20.3, but you have protobuf 3.19.6 which is incompatible.\u001b[0m\u001b[31m\n",
            "\u001b[0mSuccessfully installed basic_pitch-0.2.4 google-auth-oauthlib-0.4.6 keras-2.11.0 mido-1.2.10 mir-eval-0.7 pretty-midi-0.2.10 protobuf-3.19.6 resampy-0.4.2 tensorboard-2.11.2 tensorboard-data-server-0.6.1 tensorflow-2.11.1 tensorflow-estimator-2.11.0\n"
          ]
        },
        {
          "output_type": "display_data",
          "data": {
            "application/vnd.colab-display-data+json": {
              "pip_warning": {
                "packages": [
                  "google"
                ]
              }
            }
          },
          "metadata": {}
        }
      ]
    },
    {
      "cell_type": "code",
      "source": [
        "from basic_pitch.inference import predict\n",
        "from basic_pitch import ICASSP_2022_MODEL_PATH\n",
        "from basic_pitch.inference import predict_and_save"
      ],
      "metadata": {
        "id": "fctlFCPzp0lA"
      },
      "execution_count": null,
      "outputs": []
    },
    {
      "cell_type": "code",
      "source": [
        "list_of_mp3s = [\"/content/0.mp3\", \"/content/1.mp3\", \"/content/2.mp3\", \"/content/3.mp3\", \"/content/4.mp3\", \"/content/5.mp3\", \"/content/6.mp3\", \"/content/7.mp3\", \"/content/8.mp3\", \"/content/9.mp3\", \"/content/10.mp3\", \"/content/11.mp3\", \"/content/12.mp3\", \"/content/13.mp3\", \"/content/14.mp3\", \"/content/15.mp3\", \"/content/16.mp3\", \"/content/17.mp3\", \"/content/18.mp3\", \"/content/19.mp3\", \"/content/20.mp3\", \"/content/21.mp3\", \"/content/22.mp3\", \"/content/23.mp3\", \"/content/24.mp3\", \"/content/25.mp3\", \"/content/26.mp3\", \"/content/27.mp3\", \"/content/28.mp3\", \"/content/29.mp3\", \"/content/30.mp3\", \"/content/31.mp3\", \"/content/32.mp3\", \"/content/33.mp3\", \"/content/34.mp3\", \"/content/35.mp3\", \"/content/36.mp3\", \"/content/37.mp3\", \"/content/38.mp3\", \"/content/39.mp3\", \"/content/40.mp3\", \"/content/41.mp3\", \"/content/42.mp3\", \"/content/43.mp3\", \"/content/44.mp3\", \"/content/45.mp3\", \"/content/46.mp3\", \"/content/47.mp3\", \"/content/48.mp3\", \"/content/49.mp3\", \"/content/50.mp3\", \"/content/51.mp3\", \"/content/52.mp3\", \"/content/53.mp3\", \"/content/54.mp3\", \"/content/55.mp3\", \"/content/56.mp3\", \"/content/57.mp3\", \"/content/58.mp3\", \"/content/59.mp3\", \"/content/60.mp3\", \"/content/61.mp3\", \"/content/62.mp3\", \"/content/63.mp3\", \"/content/64.mp3\", \"/content/65.mp3\", \"/content/66.mp3\", \"/content/67.mp3\", \"/content/68.mp3\", \"/content/69.mp3\", \"/content/70.mp3\", \"/content/71.mp3\", \"/content/72.mp3\", \"/content/73.mp3\", \"/content/74.mp3\", \"/content/75.mp3\", \"/content/76.mp3\", \"/content/77.mp3\", \"/content/78.mp3\", \"/content/79.mp3\", \"/content/80.mp3\", \"/content/81.mp3\", \"/content/82.mp3\", \"/content/83.mp3\", \"/content/84.mp3\", \"/content/85.mp3\", \"/content/86.mp3\", \"/content/87.mp3\", \"/content/88.mp3\", \"/content/89.mp3\", \"/content/90.mp3\", \"/content/91.mp3\", \"/content/92.mp3\", \"/content/93.mp3\", \"/content/94.mp3\", \"/content/95.mp3\", \"/content/96.mp3\", \"/content/97.mp3\", \"/content/98.mp3\"]\n"
      ],
      "metadata": {
        "id": "IQwEqlw6q3CQ"
      },
      "execution_count": null,
      "outputs": []
    },
    {
      "cell_type": "code",
      "source": [
        "predict_and_save(\n",
        "    list_of_mp3s,\n",
        "    '/content',\n",
        "    True,\n",
        "    True,\n",
        "    True,\n",
        "    True,\n",
        ")"
      ],
      "metadata": {
        "id": "Zcx6s9CAp8Q7"
      },
      "execution_count": null,
      "outputs": []
    },
    {
      "cell_type": "code",
      "source": [
        "df = pd.DataFrame()\n",
        "df['aspect_list'] = data[0:98]['aspect_list']\n",
        "df['midi'] = ''\n"
      ],
      "metadata": {
        "id": "psOAgYzGsuXB"
      },
      "execution_count": null,
      "outputs": []
    },
    {
      "cell_type": "code",
      "source": [
        "for i in range(0, 99):\n",
        "  filey = f\"/content/{i}_basic_pitch.mid\"\n",
        "  df['midi'][i] = filey\n",
        "  "
      ],
      "metadata": {
        "id": "eEeir3opuC02"
      },
      "execution_count": null,
      "outputs": []
    },
    {
      "cell_type": "code",
      "source": [
        "df.to_csv(\"midi_data.csv\")"
      ],
      "metadata": {
        "id": "gwYbm6C2u2Qi"
      },
      "execution_count": null,
      "outputs": []
    },
    {
      "cell_type": "code",
      "source": [
        "!git clone https://github.com/lucidrains/musiclm-pytorch.git"
      ],
      "metadata": {
        "colab": {
          "base_uri": "https://localhost:8080/"
        },
        "id": "oVUj_7GgwuO9",
        "outputId": "741ba4c0-8b6e-42c3-ed61-a91dc3697665"
      },
      "execution_count": null,
      "outputs": [
        {
          "output_type": "stream",
          "name": "stdout",
          "text": [
            "fatal: destination path 'musiclm-pytorch' already exists and is not an empty directory.\n"
          ]
        }
      ]
    },
    {
      "cell_type": "code",
      "source": [
        "!pip install beartype\n",
        "!pip install lion_pytorch\n",
        "!pip install einops"
      ],
      "metadata": {
        "colab": {
          "base_uri": "https://localhost:8080/"
        },
        "id": "6dB6q5ov8Hwt",
        "outputId": "64071b43-10d6-484a-f633-1ed211170943"
      },
      "execution_count": null,
      "outputs": [
        {
          "output_type": "stream",
          "name": "stdout",
          "text": [
            "Looking in indexes: https://pypi.org/simple, https://us-python.pkg.dev/colab-wheels/public/simple/\n",
            "Requirement already satisfied: beartype in /usr/local/lib/python3.10/dist-packages (0.14.0)\n",
            "Looking in indexes: https://pypi.org/simple, https://us-python.pkg.dev/colab-wheels/public/simple/\n",
            "Requirement already satisfied: lion_pytorch in /usr/local/lib/python3.10/dist-packages (0.1.2)\n",
            "Requirement already satisfied: torch>=1.6 in /usr/local/lib/python3.10/dist-packages (from lion_pytorch) (2.0.0+cu118)\n",
            "Requirement already satisfied: filelock in /usr/local/lib/python3.10/dist-packages (from torch>=1.6->lion_pytorch) (3.12.0)\n",
            "Requirement already satisfied: typing-extensions in /usr/local/lib/python3.10/dist-packages (from torch>=1.6->lion_pytorch) (4.5.0)\n",
            "Requirement already satisfied: sympy in /usr/local/lib/python3.10/dist-packages (from torch>=1.6->lion_pytorch) (1.11.1)\n",
            "Requirement already satisfied: networkx in /usr/local/lib/python3.10/dist-packages (from torch>=1.6->lion_pytorch) (3.1)\n",
            "Requirement already satisfied: jinja2 in /usr/local/lib/python3.10/dist-packages (from torch>=1.6->lion_pytorch) (3.1.2)\n",
            "Requirement already satisfied: triton==2.0.0 in /usr/local/lib/python3.10/dist-packages (from torch>=1.6->lion_pytorch) (2.0.0)\n",
            "Requirement already satisfied: cmake in /usr/local/lib/python3.10/dist-packages (from triton==2.0.0->torch>=1.6->lion_pytorch) (3.25.2)\n",
            "Requirement already satisfied: lit in /usr/local/lib/python3.10/dist-packages (from triton==2.0.0->torch>=1.6->lion_pytorch) (16.0.3)\n",
            "Requirement already satisfied: MarkupSafe>=2.0 in /usr/local/lib/python3.10/dist-packages (from jinja2->torch>=1.6->lion_pytorch) (2.1.2)\n",
            "Requirement already satisfied: mpmath>=0.19 in /usr/local/lib/python3.10/dist-packages (from sympy->torch>=1.6->lion_pytorch) (1.3.0)\n",
            "Looking in indexes: https://pypi.org/simple, https://us-python.pkg.dev/colab-wheels/public/simple/\n",
            "Requirement already satisfied: einops in /usr/local/lib/python3.10/dist-packages (0.6.1)\n"
          ]
        }
      ]
    },
    {
      "cell_type": "code",
      "source": [
        "!pip install audiolm_pytorch"
      ],
      "metadata": {
        "colab": {
          "base_uri": "https://localhost:8080/"
        },
        "id": "E-7hmIBz88R8",
        "outputId": "76893f1c-f63d-49de-f1fb-17278eb07685"
      },
      "execution_count": null,
      "outputs": [
        {
          "output_type": "stream",
          "name": "stdout",
          "text": [
            "Looking in indexes: https://pypi.org/simple, https://us-python.pkg.dev/colab-wheels/public/simple/\n",
            "Collecting audiolm_pytorch\n",
            "  Downloading audiolm_pytorch-1.0.0-py3-none-any.whl (37 kB)\n",
            "Requirement already satisfied: accelerate in /usr/local/lib/python3.10/dist-packages (from audiolm_pytorch) (0.19.0)\n",
            "Requirement already satisfied: beartype in /usr/local/lib/python3.10/dist-packages (from audiolm_pytorch) (0.14.0)\n",
            "Requirement already satisfied: einops>=0.6.1 in /usr/local/lib/python3.10/dist-packages (from audiolm_pytorch) (0.6.1)\n",
            "Collecting ema-pytorch>=0.2.2 (from audiolm_pytorch)\n",
            "  Downloading ema_pytorch-0.2.3-py3-none-any.whl (4.4 kB)\n",
            "Collecting encodec (from audiolm_pytorch)\n",
            "  Downloading encodec-0.1.1.tar.gz (3.7 MB)\n",
            "\u001b[2K     \u001b[90m━━━━━━━━━━━━━━━━━━━━━━━━━━━━━━━━━━━━━━━━\u001b[0m \u001b[32m3.7/3.7 MB\u001b[0m \u001b[31m67.9 MB/s\u001b[0m eta \u001b[36m0:00:00\u001b[0m\n",
            "\u001b[?25h  Preparing metadata (setup.py) ... \u001b[?25l\u001b[?25hdone\n",
            "Collecting fairseq (from audiolm_pytorch)\n",
            "  Downloading fairseq-0.12.2.tar.gz (9.6 MB)\n",
            "\u001b[2K     \u001b[90m━━━━━━━━━━━━━━━━━━━━━━━━━━━━━━━━━━━━━━━━\u001b[0m \u001b[32m9.6/9.6 MB\u001b[0m \u001b[31m89.2 MB/s\u001b[0m eta \u001b[36m0:00:00\u001b[0m\n",
            "\u001b[?25h  Installing build dependencies ... \u001b[?25l\u001b[?25hdone\n",
            "  Getting requirements to build wheel ... \u001b[?25l\u001b[?25hdone\n",
            "  Installing backend dependencies ... \u001b[?25l\u001b[?25hdone\n",
            "  Preparing metadata (pyproject.toml) ... \u001b[?25l\u001b[?25hdone\n",
            "Requirement already satisfied: joblib in /usr/local/lib/python3.10/dist-packages (from audiolm_pytorch) (1.2.0)\n",
            "Requirement already satisfied: lion-pytorch in /usr/local/lib/python3.10/dist-packages (from audiolm_pytorch) (0.1.2)\n",
            "Collecting local-attention>=1.8.4 (from audiolm_pytorch)\n",
            "  Downloading local_attention-1.8.6-py3-none-any.whl (8.1 kB)\n",
            "Requirement already satisfied: scikit-learn in /usr/local/lib/python3.10/dist-packages (from audiolm_pytorch) (1.2.2)\n",
            "Collecting sentencepiece (from audiolm_pytorch)\n",
            "  Downloading sentencepiece-0.1.99-cp310-cp310-manylinux_2_17_x86_64.manylinux2014_x86_64.whl (1.3 MB)\n",
            "\u001b[2K     \u001b[90m━━━━━━━━━━━━━━━━━━━━━━━━━━━━━━━━━━━━━━━━\u001b[0m \u001b[32m1.3/1.3 MB\u001b[0m \u001b[31m69.7 MB/s\u001b[0m eta \u001b[36m0:00:00\u001b[0m\n",
            "\u001b[?25hRequirement already satisfied: torch>=1.12 in /usr/local/lib/python3.10/dist-packages (from audiolm_pytorch) (2.0.0+cu118)\n",
            "Requirement already satisfied: torchaudio in /usr/local/lib/python3.10/dist-packages (from audiolm_pytorch) (2.0.1+cu118)\n",
            "Requirement already satisfied: transformers in /usr/local/lib/python3.10/dist-packages (from audiolm_pytorch) (4.29.2)\n",
            "Requirement already satisfied: tqdm in /usr/local/lib/python3.10/dist-packages (from audiolm_pytorch) (4.65.0)\n",
            "Collecting vector-quantize-pytorch>=1.4.1 (from audiolm_pytorch)\n",
            "  Downloading vector_quantize_pytorch-1.4.1-py3-none-any.whl (11 kB)\n",
            "Requirement already satisfied: filelock in /usr/local/lib/python3.10/dist-packages (from torch>=1.12->audiolm_pytorch) (3.12.0)\n",
            "Requirement already satisfied: typing-extensions in /usr/local/lib/python3.10/dist-packages (from torch>=1.12->audiolm_pytorch) (4.5.0)\n",
            "Requirement already satisfied: sympy in /usr/local/lib/python3.10/dist-packages (from torch>=1.12->audiolm_pytorch) (1.11.1)\n",
            "Requirement already satisfied: networkx in /usr/local/lib/python3.10/dist-packages (from torch>=1.12->audiolm_pytorch) (3.1)\n",
            "Requirement already satisfied: jinja2 in /usr/local/lib/python3.10/dist-packages (from torch>=1.12->audiolm_pytorch) (3.1.2)\n",
            "Requirement already satisfied: triton==2.0.0 in /usr/local/lib/python3.10/dist-packages (from torch>=1.12->audiolm_pytorch) (2.0.0)\n",
            "Requirement already satisfied: cmake in /usr/local/lib/python3.10/dist-packages (from triton==2.0.0->torch>=1.12->audiolm_pytorch) (3.25.2)\n",
            "Requirement already satisfied: lit in /usr/local/lib/python3.10/dist-packages (from triton==2.0.0->torch>=1.12->audiolm_pytorch) (16.0.3)\n",
            "Requirement already satisfied: numpy>=1.17 in /usr/local/lib/python3.10/dist-packages (from accelerate->audiolm_pytorch) (1.22.4)\n",
            "Requirement already satisfied: packaging>=20.0 in /usr/local/lib/python3.10/dist-packages (from accelerate->audiolm_pytorch) (23.1)\n",
            "Requirement already satisfied: psutil in /usr/local/lib/python3.10/dist-packages (from accelerate->audiolm_pytorch) (5.9.5)\n",
            "Requirement already satisfied: pyyaml in /usr/local/lib/python3.10/dist-packages (from accelerate->audiolm_pytorch) (6.0)\n",
            "Requirement already satisfied: cffi in /usr/local/lib/python3.10/dist-packages (from fairseq->audiolm_pytorch) (1.15.1)\n",
            "Requirement already satisfied: cython in /usr/local/lib/python3.10/dist-packages (from fairseq->audiolm_pytorch) (0.29.34)\n",
            "Collecting hydra-core<1.1,>=1.0.7 (from fairseq->audiolm_pytorch)\n",
            "  Downloading hydra_core-1.0.7-py3-none-any.whl (123 kB)\n",
            "\u001b[2K     \u001b[90m━━━━━━━━━━━━━━━━━━━━━━━━━━━━━━━━━━━━━━\u001b[0m \u001b[32m123.8/123.8 kB\u001b[0m \u001b[31m16.3 MB/s\u001b[0m eta \u001b[36m0:00:00\u001b[0m\n",
            "\u001b[?25hCollecting omegaconf<2.1 (from fairseq->audiolm_pytorch)\n",
            "  Downloading omegaconf-2.0.6-py3-none-any.whl (36 kB)\n",
            "Requirement already satisfied: regex in /usr/local/lib/python3.10/dist-packages (from fairseq->audiolm_pytorch) (2022.10.31)\n",
            "Collecting sacrebleu>=1.4.12 (from fairseq->audiolm_pytorch)\n",
            "  Downloading sacrebleu-2.3.1-py3-none-any.whl (118 kB)\n",
            "\u001b[2K     \u001b[90m━━━━━━━━━━━━━━━━━━━━━━━━━━━━━━━━━━━━━━\u001b[0m \u001b[32m118.9/118.9 kB\u001b[0m \u001b[31m15.3 MB/s\u001b[0m eta \u001b[36m0:00:00\u001b[0m\n",
            "\u001b[?25hCollecting bitarray (from fairseq->audiolm_pytorch)\n",
            "  Downloading bitarray-2.7.3-cp310-cp310-manylinux_2_17_x86_64.manylinux2014_x86_64.whl (272 kB)\n",
            "\u001b[2K     \u001b[90m━━━━━━━━━━━━━━━━━━━━━━━━━━━━━━━━━━━━━━\u001b[0m \u001b[32m272.7/272.7 kB\u001b[0m \u001b[31m27.1 MB/s\u001b[0m eta \u001b[36m0:00:00\u001b[0m\n",
            "\u001b[?25hRequirement already satisfied: scipy>=1.3.2 in /usr/local/lib/python3.10/dist-packages (from scikit-learn->audiolm_pytorch) (1.10.1)\n",
            "Requirement already satisfied: threadpoolctl>=2.0.0 in /usr/local/lib/python3.10/dist-packages (from scikit-learn->audiolm_pytorch) (3.1.0)\n",
            "Requirement already satisfied: huggingface-hub<1.0,>=0.14.1 in /usr/local/lib/python3.10/dist-packages (from transformers->audiolm_pytorch) (0.14.1)\n",
            "Requirement already satisfied: requests in /usr/local/lib/python3.10/dist-packages (from transformers->audiolm_pytorch) (2.27.1)\n",
            "Requirement already satisfied: tokenizers!=0.11.3,<0.14,>=0.11.1 in /usr/local/lib/python3.10/dist-packages (from transformers->audiolm_pytorch) (0.13.3)\n",
            "Requirement already satisfied: fsspec in /usr/local/lib/python3.10/dist-packages (from huggingface-hub<1.0,>=0.14.1->transformers->audiolm_pytorch) (2023.4.0)\n",
            "Collecting antlr4-python3-runtime==4.8 (from hydra-core<1.1,>=1.0.7->fairseq->audiolm_pytorch)\n",
            "  Downloading antlr4-python3-runtime-4.8.tar.gz (112 kB)\n",
            "\u001b[2K     \u001b[90m━━━━━━━━━━━━━━━━━━━━━━━━━━━━━━━━━━━━━━\u001b[0m \u001b[32m112.4/112.4 kB\u001b[0m \u001b[31m15.8 MB/s\u001b[0m eta \u001b[36m0:00:00\u001b[0m\n",
            "\u001b[?25h  Preparing metadata (setup.py) ... \u001b[?25l\u001b[?25hdone\n",
            "Collecting portalocker (from sacrebleu>=1.4.12->fairseq->audiolm_pytorch)\n",
            "  Downloading portalocker-2.7.0-py2.py3-none-any.whl (15 kB)\n",
            "Requirement already satisfied: tabulate>=0.8.9 in /usr/local/lib/python3.10/dist-packages (from sacrebleu>=1.4.12->fairseq->audiolm_pytorch) (0.8.10)\n",
            "Collecting colorama (from sacrebleu>=1.4.12->fairseq->audiolm_pytorch)\n",
            "  Downloading colorama-0.4.6-py2.py3-none-any.whl (25 kB)\n",
            "Requirement already satisfied: lxml in /usr/local/lib/python3.10/dist-packages (from sacrebleu>=1.4.12->fairseq->audiolm_pytorch) (4.9.2)\n",
            "Requirement already satisfied: pycparser in /usr/local/lib/python3.10/dist-packages (from cffi->fairseq->audiolm_pytorch) (2.21)\n",
            "Requirement already satisfied: MarkupSafe>=2.0 in /usr/local/lib/python3.10/dist-packages (from jinja2->torch>=1.12->audiolm_pytorch) (2.1.2)\n",
            "Requirement already satisfied: urllib3<1.27,>=1.21.1 in /usr/local/lib/python3.10/dist-packages (from requests->transformers->audiolm_pytorch) (1.26.15)\n",
            "Requirement already satisfied: certifi>=2017.4.17 in /usr/local/lib/python3.10/dist-packages (from requests->transformers->audiolm_pytorch) (2022.12.7)\n",
            "Requirement already satisfied: charset-normalizer~=2.0.0 in /usr/local/lib/python3.10/dist-packages (from requests->transformers->audiolm_pytorch) (2.0.12)\n",
            "Requirement already satisfied: idna<4,>=2.5 in /usr/local/lib/python3.10/dist-packages (from requests->transformers->audiolm_pytorch) (3.4)\n",
            "Requirement already satisfied: mpmath>=0.19 in /usr/local/lib/python3.10/dist-packages (from sympy->torch>=1.12->audiolm_pytorch) (1.3.0)\n",
            "Building wheels for collected packages: encodec, fairseq, antlr4-python3-runtime\n",
            "  Building wheel for encodec (setup.py) ... \u001b[?25l\u001b[?25hdone\n",
            "  Created wheel for encodec: filename=encodec-0.1.1-py3-none-any.whl size=45760 sha256=fa94abb0fbbb1e717f766174952134633468a0c0148e95c0cc72aa04cfe01abc\n",
            "  Stored in directory: /root/.cache/pip/wheels/fc/36/cb/81af8b985a5f5e0815312d5e52b41263237af07b977e6bcbf3\n",
            "  Building wheel for fairseq (pyproject.toml) ... \u001b[?25l\u001b[?25hdone\n",
            "  Created wheel for fairseq: filename=fairseq-0.12.2-cp310-cp310-linux_x86_64.whl size=11170728 sha256=9dde1861b83a9b1229036c38a41176997dcc9dfac077d2f17f82955f88fbed91\n",
            "  Stored in directory: /root/.cache/pip/wheels/e4/35/55/9c66f65ec7c83fd6fbc2b9502a0ac81b2448a1196159dacc32\n",
            "  Building wheel for antlr4-python3-runtime (setup.py) ... \u001b[?25l\u001b[?25hdone\n",
            "  Created wheel for antlr4-python3-runtime: filename=antlr4_python3_runtime-4.8-py3-none-any.whl size=141210 sha256=d88f7aea6366e596591af53d51d74ed6df7a5597467e52237cd8bb086d907619\n",
            "  Stored in directory: /root/.cache/pip/wheels/a7/20/bd/e1477d664f22d99989fd28ee1a43d6633dddb5cb9e801350d5\n",
            "Successfully built encodec fairseq antlr4-python3-runtime\n",
            "Installing collected packages: sentencepiece, bitarray, antlr4-python3-runtime, portalocker, omegaconf, colorama, sacrebleu, hydra-core, vector-quantize-pytorch, local-attention, fairseq, encodec, ema-pytorch, audiolm_pytorch\n",
            "  Attempting uninstall: antlr4-python3-runtime\n",
            "    Found existing installation: antlr4-python3-runtime 4.9.3\n",
            "    Uninstalling antlr4-python3-runtime-4.9.3:\n",
            "      Successfully uninstalled antlr4-python3-runtime-4.9.3\n",
            "  Attempting uninstall: omegaconf\n",
            "    Found existing installation: omegaconf 2.3.0\n",
            "    Uninstalling omegaconf-2.3.0:\n",
            "      Successfully uninstalled omegaconf-2.3.0\n",
            "Successfully installed antlr4-python3-runtime-4.8 audiolm_pytorch-1.0.0 bitarray-2.7.3 colorama-0.4.6 ema-pytorch-0.2.3 encodec-0.1.1 fairseq-0.12.2 hydra-core-1.0.7 local-attention-1.8.6 omegaconf-2.0.6 portalocker-2.7.0 sacrebleu-2.3.1 sentencepiece-0.1.99 vector-quantize-pytorch-1.4.1\n"
          ]
        }
      ]
    },
    {
      "cell_type": "code",
      "source": [
        "!pip install x_clip"
      ],
      "metadata": {
        "colab": {
          "base_uri": "https://localhost:8080/"
        },
        "id": "eoMiTJmi9biC",
        "outputId": "e2c59b0c-3b16-48d7-875e-cf0083429427"
      },
      "execution_count": null,
      "outputs": [
        {
          "output_type": "stream",
          "name": "stdout",
          "text": [
            "Looking in indexes: https://pypi.org/simple, https://us-python.pkg.dev/colab-wheels/public/simple/\n",
            "Collecting x_clip\n",
            "  Downloading x_clip-0.12.1-py3-none-any.whl (1.4 MB)\n",
            "\u001b[2K     \u001b[90m━━━━━━━━━━━━━━━━━━━━━━━━━━━━━━━━━━━━━━━━\u001b[0m \u001b[32m1.4/1.4 MB\u001b[0m \u001b[31m27.4 MB/s\u001b[0m eta \u001b[36m0:00:00\u001b[0m\n",
            "\u001b[?25hRequirement already satisfied: einops>=0.3 in /usr/local/lib/python3.10/dist-packages (from x_clip) (0.6.1)\n",
            "Collecting ftfy (from x_clip)\n",
            "  Downloading ftfy-6.1.1-py3-none-any.whl (53 kB)\n",
            "\u001b[2K     \u001b[90m━━━━━━━━━━━━━━━━━━━━━━━━━━━━━━━━━━━━━━━━\u001b[0m \u001b[32m53.1/53.1 kB\u001b[0m \u001b[31m6.8 MB/s\u001b[0m eta \u001b[36m0:00:00\u001b[0m\n",
            "\u001b[?25hRequirement already satisfied: regex in /usr/local/lib/python3.10/dist-packages (from x_clip) (2022.10.31)\n",
            "Requirement already satisfied: torch>=1.6 in /usr/local/lib/python3.10/dist-packages (from x_clip) (2.0.0+cu118)\n",
            "Requirement already satisfied: torchvision in /usr/local/lib/python3.10/dist-packages (from x_clip) (0.15.1+cu118)\n",
            "Requirement already satisfied: filelock in /usr/local/lib/python3.10/dist-packages (from torch>=1.6->x_clip) (3.12.0)\n",
            "Requirement already satisfied: typing-extensions in /usr/local/lib/python3.10/dist-packages (from torch>=1.6->x_clip) (4.5.0)\n",
            "Requirement already satisfied: sympy in /usr/local/lib/python3.10/dist-packages (from torch>=1.6->x_clip) (1.11.1)\n",
            "Requirement already satisfied: networkx in /usr/local/lib/python3.10/dist-packages (from torch>=1.6->x_clip) (3.1)\n",
            "Requirement already satisfied: jinja2 in /usr/local/lib/python3.10/dist-packages (from torch>=1.6->x_clip) (3.1.2)\n",
            "Requirement already satisfied: triton==2.0.0 in /usr/local/lib/python3.10/dist-packages (from torch>=1.6->x_clip) (2.0.0)\n",
            "Requirement already satisfied: cmake in /usr/local/lib/python3.10/dist-packages (from triton==2.0.0->torch>=1.6->x_clip) (3.25.2)\n",
            "Requirement already satisfied: lit in /usr/local/lib/python3.10/dist-packages (from triton==2.0.0->torch>=1.6->x_clip) (16.0.3)\n",
            "Requirement already satisfied: wcwidth>=0.2.5 in /usr/local/lib/python3.10/dist-packages (from ftfy->x_clip) (0.2.6)\n",
            "Requirement already satisfied: numpy in /usr/local/lib/python3.10/dist-packages (from torchvision->x_clip) (1.22.4)\n",
            "Requirement already satisfied: requests in /usr/local/lib/python3.10/dist-packages (from torchvision->x_clip) (2.27.1)\n",
            "Requirement already satisfied: pillow!=8.3.*,>=5.3.0 in /usr/local/lib/python3.10/dist-packages (from torchvision->x_clip) (9.5.0)\n",
            "Requirement already satisfied: MarkupSafe>=2.0 in /usr/local/lib/python3.10/dist-packages (from jinja2->torch>=1.6->x_clip) (2.1.2)\n",
            "Requirement already satisfied: urllib3<1.27,>=1.21.1 in /usr/local/lib/python3.10/dist-packages (from requests->torchvision->x_clip) (1.26.15)\n",
            "Requirement already satisfied: certifi>=2017.4.17 in /usr/local/lib/python3.10/dist-packages (from requests->torchvision->x_clip) (2022.12.7)\n",
            "Requirement already satisfied: charset-normalizer~=2.0.0 in /usr/local/lib/python3.10/dist-packages (from requests->torchvision->x_clip) (2.0.12)\n",
            "Requirement already satisfied: idna<4,>=2.5 in /usr/local/lib/python3.10/dist-packages (from requests->torchvision->x_clip) (3.4)\n",
            "Requirement already satisfied: mpmath>=0.19 in /usr/local/lib/python3.10/dist-packages (from sympy->torch>=1.6->x_clip) (1.3.0)\n",
            "Installing collected packages: ftfy, x_clip\n",
            "Successfully installed ftfy-6.1.1 x_clip-0.12.1\n"
          ]
        }
      ]
    },
    {
      "cell_type": "code",
      "source": [
        "!pip install tensorboardX"
      ],
      "metadata": {
        "colab": {
          "base_uri": "https://localhost:8080/"
        },
        "id": "IGRqKhof9qT5",
        "outputId": "eb554055-6286-4041-a8ed-84566fe083fc"
      },
      "execution_count": null,
      "outputs": [
        {
          "output_type": "stream",
          "name": "stdout",
          "text": [
            "Looking in indexes: https://pypi.org/simple, https://us-python.pkg.dev/colab-wheels/public/simple/\n",
            "Collecting tensorboardX\n",
            "  Downloading tensorboardX-2.6-py2.py3-none-any.whl (114 kB)\n",
            "\u001b[2K     \u001b[90m━━━━━━━━━━━━━━━━━━━━━━━━━━━━━━━━━━━━━━━\u001b[0m \u001b[32m114.5/114.5 kB\u001b[0m \u001b[31m9.5 MB/s\u001b[0m eta \u001b[36m0:00:00\u001b[0m\n",
            "\u001b[?25hRequirement already satisfied: numpy in /usr/local/lib/python3.10/dist-packages (from tensorboardX) (1.22.4)\n",
            "Requirement already satisfied: packaging in /usr/local/lib/python3.10/dist-packages (from tensorboardX) (23.1)\n",
            "Requirement already satisfied: protobuf<4,>=3.8.0 in /usr/local/lib/python3.10/dist-packages (from tensorboardX) (3.19.6)\n",
            "Installing collected packages: tensorboardX\n",
            "Successfully installed tensorboardX-2.6\n"
          ]
        }
      ]
    },
    {
      "cell_type": "code",
      "source": [
        "!python /content/musiclm-pytorch/musiclm_pytorch/trainer.py\n"
      ],
      "metadata": {
        "colab": {
          "base_uri": "https://localhost:8080/"
        },
        "id": "6_O-SwewzSXi",
        "outputId": "2376e2bb-7176-4543-adda-6e6fdd521e3a"
      },
      "execution_count": null,
      "outputs": [
        {
          "output_type": "stream",
          "name": "stdout",
          "text": [
            "2023-05-18 17:46:17.603089: W tensorflow/compiler/xla/stream_executor/platform/default/dso_loader.cc:64] Could not load dynamic library 'libnvinfer.so.7'; dlerror: libnvinfer.so.7: cannot open shared object file: No such file or directory; LD_LIBRARY_PATH: /usr/local/nvidia/lib:/usr/local/nvidia/lib64\n",
            "2023-05-18 17:46:17.603237: W tensorflow/compiler/xla/stream_executor/platform/default/dso_loader.cc:64] Could not load dynamic library 'libnvinfer_plugin.so.7'; dlerror: libnvinfer_plugin.so.7: cannot open shared object file: No such file or directory; LD_LIBRARY_PATH: /usr/local/nvidia/lib:/usr/local/nvidia/lib64\n",
            "2023-05-18 17:46:17.603261: W tensorflow/compiler/tf2tensorrt/utils/py_utils.cc:38] TF-TRT Warning: Cannot dlopen some TensorRT libraries. If you would like to use Nvidia GPU with TensorRT, please make sure the missing libraries mentioned above are installed properly.\n"
          ]
        }
      ]
    },
    {
      "cell_type": "code",
      "source": [],
      "metadata": {
        "id": "WYq2uNNd9pEV"
      },
      "execution_count": null,
      "outputs": []
    }
  ]
}