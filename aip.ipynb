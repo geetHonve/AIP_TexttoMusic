{
  "nbformat": 4,
  "nbformat_minor": 0,
  "metadata": {
    "colab": {
      "provenance": []
    },
    "kernelspec": {
      "name": "python3",
      "display_name": "Python 3"
    },
    "language_info": {
      "name": "python"
    }
  },
  "cells": [
    {
      "cell_type": "code",
      "source": [
        "!pip install pytube"
      ],
      "metadata": {
        "colab": {
          "base_uri": "https://localhost:8080/"
        },
        "id": "vOMQO2rZTlXv",
        "outputId": "5bca80df-9bd8-47ea-e990-d57753b3c7af"
      },
      "execution_count": 16,
      "outputs": [
        {
          "output_type": "stream",
          "name": "stdout",
          "text": [
            "Looking in indexes: https://pypi.org/simple, https://us-python.pkg.dev/colab-wheels/public/simple/\n",
            "Requirement already satisfied: pytube in /usr/local/lib/python3.10/dist-packages (15.0.0)\n"
          ]
        }
      ]
    },
    {
      "cell_type": "code",
      "source": [
        "import pytube\n",
        "from pytube import YouTube\n",
        "from moviepy.editor import AudioFileClip\n"
      ],
      "metadata": {
        "id": "i300QSr-1i1d"
      },
      "execution_count": 17,
      "outputs": []
    },
    {
      "cell_type": "code",
      "source": [
        "youtube_url = \"https://www.youtube.com/watch?v=lUUte2o2Sn8\"\n",
        "yt = YouTube(youtube_url)\n"
      ],
      "metadata": {
        "id": "5RGwcH3C1qxh"
      },
      "execution_count": 18,
      "outputs": []
    },
    {
      "cell_type": "code",
      "source": [
        "video_title = yt.title\n",
        "video_duration = yt.length\n",
        "video_streams = yt.streams.filter(only_audio=True).all()\n"
      ],
      "metadata": {
        "colab": {
          "base_uri": "https://localhost:8080/"
        },
        "id": "13YQQhUD1xbt",
        "outputId": "0d81ebd6-dacc-4ea1-c4e4-eb3c02ba8fd8"
      },
      "execution_count": 19,
      "outputs": [
        {
          "output_type": "stream",
          "name": "stderr",
          "text": [
            "WARNING:py.warnings:<ipython-input-19-249b34561e6c>:3: DeprecationWarning: Call to deprecated function all (This object can be treated as a list, all() is useless).\n",
            "  video_streams = yt.streams.filter(only_audio=True).all()\n",
            "\n"
          ]
        }
      ]
    },
    {
      "cell_type": "code",
      "source": [
        "audio_stream = video_streams[0]  # Choose the first audio stream\n",
        "temp_file = audio_stream.download(filename=\"temp\")\n"
      ],
      "metadata": {
        "colab": {
          "base_uri": "https://localhost:8080/"
        },
        "id": "7q9evMlg2UYj",
        "outputId": "f69f16e9-0821-4bcc-c84e-f524c4c8d06f"
      },
      "execution_count": 20,
      "outputs": [
        {
          "output_type": "stream",
          "name": "stderr",
          "text": [
            "WARNING:py.warnings:/usr/local/lib/python3.10/dist-packages/ipykernel/ipkernel.py:283: DeprecationWarning: `should_run_async` will not call `transform_cell` automatically in the future. Please pass the result to `transformed_cell` argument and any exception that happen during thetransform in `preprocessing_exc_tuple` in IPython 7.17 and above.\n",
            "  and should_run_async(code)\n",
            "\n"
          ]
        }
      ]
    },
    {
      "cell_type": "code",
      "source": [
        "start_time = 30  # Start time in seconds\n",
        "end_time = 60  # End time in seconds\n",
        "\n",
        "audio_clip = AudioFileClip(temp_file)\n",
        "trimmed_audio = audio_clip.subclip(start_time, end_time)\n",
        "trimmed_audio.write_audiofile(\"output.mp3\")\n"
      ],
      "metadata": {
        "colab": {
          "base_uri": "https://localhost:8080/"
        },
        "id": "RCQW_PZuNezR",
        "outputId": "32edcab1-0fa2-488e-dd0f-4cda11bf93b5"
      },
      "execution_count": 21,
      "outputs": [
        {
          "output_type": "stream",
          "name": "stdout",
          "text": [
            "MoviePy - Writing audio in output.mp3\n"
          ]
        },
        {
          "output_type": "stream",
          "name": "stderr",
          "text": [
            "                                                                   "
          ]
        },
        {
          "output_type": "stream",
          "name": "stdout",
          "text": [
            "MoviePy - Done.\n"
          ]
        },
        {
          "output_type": "stream",
          "name": "stderr",
          "text": [
            "\r"
          ]
        }
      ]
    },
    {
      "cell_type": "code",
      "source": [
        "import os\n",
        "os.remove(temp_file)\n"
      ],
      "metadata": {
        "id": "xC8F7TI_Nne_"
      },
      "execution_count": 22,
      "outputs": []
    },
    {
      "cell_type": "code",
      "source": [
        "def url_to_mp3(url, st, et):\n",
        "  yt = YouTube(url)\n",
        "  video_title = yt.title\n",
        "  video_duration = yt.length\n",
        "  video_streams = yt.streams.filter(only_audio=True).all()\n",
        "  audio_stream = video_streams[0]  # Choose the first audio stream\n",
        "  temp_file = audio_stream.download(filename=\"temp\")\n",
        "  audio_clip = AudioFileClip(temp_file)\n",
        "  trimmed_audio = audio_clip.subclip(st, et)\n",
        "  trimmed_audio.write_audiofile(\"output.mp3\")\n",
        "  os.remove(temp_file)"
      ],
      "metadata": {
        "id": "pDArPLbDPVL7"
      },
      "execution_count": 23,
      "outputs": []
    },
    {
      "cell_type": "code",
      "source": [
        "import pandas as pd\n",
        "import csv"
      ],
      "metadata": {
        "id": "FW6y8EPnO5AT"
      },
      "execution_count": 24,
      "outputs": []
    },
    {
      "cell_type": "code",
      "source": [
        "data = pd.read_csv(\"/content/musiccaps-public.csv\")\n",
        "data.drop(6, axis=0, inplace=True)"
      ],
      "metadata": {
        "colab": {
          "base_uri": "https://localhost:8080/"
        },
        "id": "c3G2BTaoPARW",
        "outputId": "89bccc15-22b1-4d38-fae4-f88212d12442"
      },
      "execution_count": 31,
      "outputs": [
        {
          "output_type": "stream",
          "name": "stderr",
          "text": [
            "WARNING:py.warnings:/usr/local/lib/python3.10/dist-packages/ipykernel/ipkernel.py:283: DeprecationWarning: `should_run_async` will not call `transform_cell` automatically in the future. Please pass the result to `transformed_cell` argument and any exception that happen during thetransform in `preprocessing_exc_tuple` in IPython 7.17 and above.\n",
            "  and should_run_async(code)\n",
            "\n"
          ]
        }
      ]
    },
    {
      "cell_type": "code",
      "source": [
        "url1 = \"https://www.youtube.com/watch?v=\" + data['ytid'][0]\n",
        "mp31 = url_to_mp3(url1, data['start_s'][0], data['end_s'][0])\n",
        "mp31"
      ],
      "metadata": {
        "colab": {
          "base_uri": "https://localhost:8080/"
        },
        "id": "nXu8FV4xpeo1",
        "outputId": "2034f8d7-c36f-4ef4-a91e-0fc4dc2b6ed6"
      },
      "execution_count": 34,
      "outputs": [
        {
          "output_type": "stream",
          "name": "stderr",
          "text": [
            "WARNING:py.warnings:/usr/local/lib/python3.10/dist-packages/ipykernel/ipkernel.py:283: DeprecationWarning: `should_run_async` will not call `transform_cell` automatically in the future. Please pass the result to `transformed_cell` argument and any exception that happen during thetransform in `preprocessing_exc_tuple` in IPython 7.17 and above.\n",
            "  and should_run_async(code)\n",
            "\n",
            "WARNING:py.warnings:<ipython-input-23-9f05ef0e722a>:5: DeprecationWarning: Call to deprecated function all (This object can be treated as a list, all() is useless).\n",
            "  video_streams = yt.streams.filter(only_audio=True).all()\n",
            "\n"
          ]
        },
        {
          "output_type": "stream",
          "name": "stdout",
          "text": [
            "MoviePy - Writing audio in output.mp3\n"
          ]
        },
        {
          "output_type": "stream",
          "name": "stderr",
          "text": [
            "                                                                   "
          ]
        },
        {
          "output_type": "stream",
          "name": "stdout",
          "text": [
            "MoviePy - Done.\n"
          ]
        },
        {
          "output_type": "stream",
          "name": "stderr",
          "text": [
            "\r"
          ]
        }
      ]
    },
    {
      "cell_type": "code",
      "source": [
        "data['urls'] = \"https://www.youtube.com/watch?v=\" + data['ytid']\n",
        "try:\n",
        "   data[\"mp3\"] = data.apply(lambda row: url_to_mp3(row[\"urls\"], row[\"start_s\"], row[\"end_s\"]), axis=1)\n",
        "except Exception:\n",
        "   print(\"Age-restricted video encountered. Skipping...\")\n"
      ],
      "metadata": {
        "colab": {
          "base_uri": "https://localhost:8080/"
        },
        "id": "hAJJ26LKTISF",
        "outputId": "36ca31a2-0a78-4d75-83e8-b3007f37f3f6"
      },
      "execution_count": 36,
      "outputs": [
        {
          "output_type": "stream",
          "name": "stderr",
          "text": [
            "WARNING:py.warnings:<ipython-input-23-9f05ef0e722a>:5: DeprecationWarning: Call to deprecated function all (This object can be treated as a list, all() is useless).\n",
            "  video_streams = yt.streams.filter(only_audio=True).all()\n",
            "\n"
          ]
        },
        {
          "output_type": "stream",
          "name": "stdout",
          "text": [
            "MoviePy - Writing audio in output.mp3\n"
          ]
        },
        {
          "output_type": "stream",
          "name": "stderr",
          "text": []
        },
        {
          "output_type": "stream",
          "name": "stdout",
          "text": [
            "MoviePy - Done.\n"
          ]
        },
        {
          "output_type": "stream",
          "name": "stderr",
          "text": [
            "WARNING:py.warnings:<ipython-input-23-9f05ef0e722a>:5: DeprecationWarning: Call to deprecated function all (This object can be treated as a list, all() is useless).\n",
            "  video_streams = yt.streams.filter(only_audio=True).all()\n",
            "\n"
          ]
        },
        {
          "output_type": "stream",
          "name": "stdout",
          "text": [
            "MoviePy - Writing audio in output.mp3\n"
          ]
        },
        {
          "output_type": "stream",
          "name": "stderr",
          "text": []
        },
        {
          "output_type": "stream",
          "name": "stdout",
          "text": [
            "MoviePy - Done.\n"
          ]
        },
        {
          "output_type": "stream",
          "name": "stderr",
          "text": [
            "WARNING:py.warnings:<ipython-input-23-9f05ef0e722a>:5: DeprecationWarning: Call to deprecated function all (This object can be treated as a list, all() is useless).\n",
            "  video_streams = yt.streams.filter(only_audio=True).all()\n",
            "\n"
          ]
        },
        {
          "output_type": "stream",
          "name": "stdout",
          "text": [
            "MoviePy - Writing audio in output.mp3\n"
          ]
        },
        {
          "output_type": "stream",
          "name": "stderr",
          "text": []
        },
        {
          "output_type": "stream",
          "name": "stdout",
          "text": [
            "MoviePy - Done.\n"
          ]
        },
        {
          "output_type": "stream",
          "name": "stderr",
          "text": [
            "WARNING:py.warnings:<ipython-input-23-9f05ef0e722a>:5: DeprecationWarning: Call to deprecated function all (This object can be treated as a list, all() is useless).\n",
            "  video_streams = yt.streams.filter(only_audio=True).all()\n",
            "\n"
          ]
        },
        {
          "output_type": "stream",
          "name": "stdout",
          "text": [
            "MoviePy - Writing audio in output.mp3\n"
          ]
        },
        {
          "output_type": "stream",
          "name": "stderr",
          "text": []
        },
        {
          "output_type": "stream",
          "name": "stdout",
          "text": [
            "MoviePy - Done.\n"
          ]
        },
        {
          "output_type": "stream",
          "name": "stderr",
          "text": [
            "WARNING:py.warnings:<ipython-input-23-9f05ef0e722a>:5: DeprecationWarning: Call to deprecated function all (This object can be treated as a list, all() is useless).\n",
            "  video_streams = yt.streams.filter(only_audio=True).all()\n",
            "\n"
          ]
        },
        {
          "output_type": "stream",
          "name": "stdout",
          "text": [
            "MoviePy - Writing audio in output.mp3\n"
          ]
        },
        {
          "output_type": "stream",
          "name": "stderr",
          "text": []
        },
        {
          "output_type": "stream",
          "name": "stdout",
          "text": [
            "MoviePy - Done.\n"
          ]
        },
        {
          "output_type": "stream",
          "name": "stderr",
          "text": [
            "WARNING:py.warnings:<ipython-input-23-9f05ef0e722a>:5: DeprecationWarning: Call to deprecated function all (This object can be treated as a list, all() is useless).\n",
            "  video_streams = yt.streams.filter(only_audio=True).all()\n",
            "\n"
          ]
        },
        {
          "output_type": "stream",
          "name": "stdout",
          "text": [
            "MoviePy - Writing audio in output.mp3\n"
          ]
        },
        {
          "output_type": "stream",
          "name": "stderr",
          "text": []
        },
        {
          "output_type": "stream",
          "name": "stdout",
          "text": [
            "MoviePy - Done.\n"
          ]
        },
        {
          "output_type": "stream",
          "name": "stderr",
          "text": [
            "WARNING:py.warnings:<ipython-input-23-9f05ef0e722a>:5: DeprecationWarning: Call to deprecated function all (This object can be treated as a list, all() is useless).\n",
            "  video_streams = yt.streams.filter(only_audio=True).all()\n",
            "\n"
          ]
        },
        {
          "output_type": "stream",
          "name": "stdout",
          "text": [
            "MoviePy - Writing audio in output.mp3\n"
          ]
        },
        {
          "output_type": "stream",
          "name": "stderr",
          "text": []
        },
        {
          "output_type": "stream",
          "name": "stdout",
          "text": [
            "MoviePy - Done.\n"
          ]
        },
        {
          "output_type": "stream",
          "name": "stderr",
          "text": [
            "WARNING:py.warnings:<ipython-input-23-9f05ef0e722a>:5: DeprecationWarning: Call to deprecated function all (This object can be treated as a list, all() is useless).\n",
            "  video_streams = yt.streams.filter(only_audio=True).all()\n",
            "\n"
          ]
        },
        {
          "output_type": "stream",
          "name": "stdout",
          "text": [
            "MoviePy - Writing audio in output.mp3\n"
          ]
        },
        {
          "output_type": "stream",
          "name": "stderr",
          "text": []
        },
        {
          "output_type": "stream",
          "name": "stdout",
          "text": [
            "MoviePy - Done.\n"
          ]
        },
        {
          "output_type": "stream",
          "name": "stderr",
          "text": [
            "WARNING:py.warnings:<ipython-input-23-9f05ef0e722a>:5: DeprecationWarning: Call to deprecated function all (This object can be treated as a list, all() is useless).\n",
            "  video_streams = yt.streams.filter(only_audio=True).all()\n",
            "\n"
          ]
        },
        {
          "output_type": "stream",
          "name": "stdout",
          "text": [
            "MoviePy - Writing audio in output.mp3\n"
          ]
        },
        {
          "output_type": "stream",
          "name": "stderr",
          "text": []
        },
        {
          "output_type": "stream",
          "name": "stdout",
          "text": [
            "MoviePy - Done.\n"
          ]
        },
        {
          "output_type": "stream",
          "name": "stderr",
          "text": [
            "WARNING:py.warnings:<ipython-input-23-9f05ef0e722a>:5: DeprecationWarning: Call to deprecated function all (This object can be treated as a list, all() is useless).\n",
            "  video_streams = yt.streams.filter(only_audio=True).all()\n",
            "\n"
          ]
        },
        {
          "output_type": "stream",
          "name": "stdout",
          "text": [
            "MoviePy - Writing audio in output.mp3\n"
          ]
        },
        {
          "output_type": "stream",
          "name": "stderr",
          "text": []
        },
        {
          "output_type": "stream",
          "name": "stdout",
          "text": [
            "MoviePy - Done.\n"
          ]
        },
        {
          "output_type": "stream",
          "name": "stderr",
          "text": [
            "WARNING:py.warnings:<ipython-input-23-9f05ef0e722a>:5: DeprecationWarning: Call to deprecated function all (This object can be treated as a list, all() is useless).\n",
            "  video_streams = yt.streams.filter(only_audio=True).all()\n",
            "\n"
          ]
        },
        {
          "output_type": "stream",
          "name": "stdout",
          "text": [
            "MoviePy - Writing audio in output.mp3\n"
          ]
        },
        {
          "output_type": "stream",
          "name": "stderr",
          "text": []
        },
        {
          "output_type": "stream",
          "name": "stdout",
          "text": [
            "MoviePy - Done.\n"
          ]
        },
        {
          "output_type": "stream",
          "name": "stderr",
          "text": [
            "WARNING:py.warnings:<ipython-input-23-9f05ef0e722a>:5: DeprecationWarning: Call to deprecated function all (This object can be treated as a list, all() is useless).\n",
            "  video_streams = yt.streams.filter(only_audio=True).all()\n",
            "\n"
          ]
        },
        {
          "output_type": "stream",
          "name": "stdout",
          "text": [
            "MoviePy - Writing audio in output.mp3\n"
          ]
        },
        {
          "output_type": "stream",
          "name": "stderr",
          "text": []
        },
        {
          "output_type": "stream",
          "name": "stdout",
          "text": [
            "MoviePy - Done.\n"
          ]
        },
        {
          "output_type": "stream",
          "name": "stderr",
          "text": [
            "WARNING:py.warnings:<ipython-input-23-9f05ef0e722a>:5: DeprecationWarning: Call to deprecated function all (This object can be treated as a list, all() is useless).\n",
            "  video_streams = yt.streams.filter(only_audio=True).all()\n",
            "\n"
          ]
        },
        {
          "output_type": "stream",
          "name": "stdout",
          "text": [
            "MoviePy - Writing audio in output.mp3\n"
          ]
        },
        {
          "output_type": "stream",
          "name": "stderr",
          "text": []
        },
        {
          "output_type": "stream",
          "name": "stdout",
          "text": [
            "MoviePy - Done.\n"
          ]
        },
        {
          "output_type": "stream",
          "name": "stderr",
          "text": [
            "WARNING:py.warnings:<ipython-input-23-9f05ef0e722a>:5: DeprecationWarning: Call to deprecated function all (This object can be treated as a list, all() is useless).\n",
            "  video_streams = yt.streams.filter(only_audio=True).all()\n",
            "\n"
          ]
        },
        {
          "output_type": "stream",
          "name": "stdout",
          "text": [
            "MoviePy - Writing audio in output.mp3\n"
          ]
        },
        {
          "output_type": "stream",
          "name": "stderr",
          "text": []
        },
        {
          "output_type": "stream",
          "name": "stdout",
          "text": [
            "MoviePy - Done.\n"
          ]
        },
        {
          "output_type": "stream",
          "name": "stderr",
          "text": [
            "WARNING:py.warnings:<ipython-input-23-9f05ef0e722a>:5: DeprecationWarning: Call to deprecated function all (This object can be treated as a list, all() is useless).\n",
            "  video_streams = yt.streams.filter(only_audio=True).all()\n",
            "\n"
          ]
        },
        {
          "output_type": "stream",
          "name": "stdout",
          "text": [
            "MoviePy - Writing audio in output.mp3\n"
          ]
        },
        {
          "output_type": "stream",
          "name": "stderr",
          "text": []
        },
        {
          "output_type": "stream",
          "name": "stdout",
          "text": [
            "MoviePy - Done.\n",
            "Age-restricted video encountered. Skipping...\n"
          ]
        }
      ]
    },
    {
      "cell_type": "code",
      "source": [
        "data"
      ],
      "metadata": {
        "colab": {
          "base_uri": "https://localhost:8080/",
          "height": 1000
        },
        "id": "hV9qryIDw-BA",
        "outputId": "4bd82d1c-cb38-4bfb-b2f6-2e00adc9a040"
      },
      "execution_count": 37,
      "outputs": [
        {
          "output_type": "stream",
          "name": "stderr",
          "text": [
            "WARNING:py.warnings:/usr/local/lib/python3.10/dist-packages/ipykernel/ipkernel.py:283: DeprecationWarning: `should_run_async` will not call `transform_cell` automatically in the future. Please pass the result to `transformed_cell` argument and any exception that happen during thetransform in `preprocessing_exc_tuple` in IPython 7.17 and above.\n",
            "  and should_run_async(code)\n",
            "\n"
          ]
        },
        {
          "output_type": "execute_result",
          "data": {
            "text/plain": [
              "             ytid  start_s  end_s  \\\n",
              "0     -0Gj8-vB1q4       30     40   \n",
              "1     -0SdAVK79lg       30     40   \n",
              "2     -0vPFx-wRRI       30     40   \n",
              "3     -0xzrMun0Rs       30     40   \n",
              "4     -1LrH01Ei1w       30     40   \n",
              "...           ...      ...    ...   \n",
              "5516  zw5dkiklbhE       15     25   \n",
              "5517  zwfo7wnXdjs       30     40   \n",
              "5518  zx_vcwOsDO4       50     60   \n",
              "5519  zyXa2tdBTGc       30     40   \n",
              "5520  zzNdwF40ID8       70     80   \n",
              "\n",
              "                               audioset_positive_labels  \\\n",
              "0                          /m/0140xf,/m/02cjck,/m/04rlf   \n",
              "1     /m/0155w,/m/01lyv,/m/0342h,/m/042v_gx,/m/04rlf...   \n",
              "2                                   /m/025_jnm,/m/04rlf   \n",
              "3                                    /m/01g90h,/m/04rlf   \n",
              "4                                   /m/02p0sh1,/m/04rlf   \n",
              "...                                                 ...   \n",
              "5516                                /m/01sm1g,/m/0l14md   \n",
              "5517                      /m/02p0sh1,/m/04rlf,/m/06j64v   \n",
              "5518  /m/01glhc,/m/02sgy,/m/0342h,/m/03lty,/m/04rlf,...   \n",
              "5519                                /m/04rlf,/t/dd00034   \n",
              "5520                                  /m/04rlf,/m/0790c   \n",
              "\n",
              "                                            aspect_list  \\\n",
              "0     ['low quality', 'sustained strings melody', 's...   \n",
              "1     ['guitar song', 'piano backing', 'simple percu...   \n",
              "2     ['amateur recording', 'finger snipping', 'male...   \n",
              "3     ['backing track', 'jazzy', 'digital drums', 'p...   \n",
              "4     ['rubab instrument', 'repetitive melody on dif...   \n",
              "...                                                 ...   \n",
              "5516  ['amateur recording', 'percussion', 'wooden bo...   \n",
              "5517  ['instrumental music', 'arabic music', 'genera...   \n",
              "5518  ['instrumental', 'no voice', 'electric guitar'...   \n",
              "5519  ['instrumental music', 'gospel music', 'strong...   \n",
              "5520  ['glitch', 'noise', 'instrumental', 'electroni...   \n",
              "\n",
              "                                                caption  author_id  \\\n",
              "0     The low quality recording features a ballad so...          4   \n",
              "1     This song features an electric guitar as the m...          0   \n",
              "2     a male voice is singing a melody with changing...          6   \n",
              "3     This song contains digital drums playing a sim...          6   \n",
              "4     This song features a rubber instrument being p...          0   \n",
              "...                                                 ...        ...   \n",
              "5516  This audio contains someone playing a wooden b...          6   \n",
              "5517  The song is an instrumental. The song is mediu...          1   \n",
              "5518  The rock music is purely instrumental and feat...          2   \n",
              "5519  The song is an instrumental. The song is slow ...          1   \n",
              "5520  This is a glitch music piece. There is a synth...          9   \n",
              "\n",
              "      is_balanced_subset  is_audioset_eval  \\\n",
              "0                  False              True   \n",
              "1                  False             False   \n",
              "2                  False              True   \n",
              "3                  False              True   \n",
              "4                  False             False   \n",
              "...                  ...               ...   \n",
              "5516               False             False   \n",
              "5517                True              True   \n",
              "5518                True              True   \n",
              "5519               False             False   \n",
              "5520                True              True   \n",
              "\n",
              "                                             urls  \n",
              "0     https://www.youtube.com/watch?v=-0Gj8-vB1q4  \n",
              "1     https://www.youtube.com/watch?v=-0SdAVK79lg  \n",
              "2     https://www.youtube.com/watch?v=-0vPFx-wRRI  \n",
              "3     https://www.youtube.com/watch?v=-0xzrMun0Rs  \n",
              "4     https://www.youtube.com/watch?v=-1LrH01Ei1w  \n",
              "...                                           ...  \n",
              "5516  https://www.youtube.com/watch?v=zw5dkiklbhE  \n",
              "5517  https://www.youtube.com/watch?v=zwfo7wnXdjs  \n",
              "5518  https://www.youtube.com/watch?v=zx_vcwOsDO4  \n",
              "5519  https://www.youtube.com/watch?v=zyXa2tdBTGc  \n",
              "5520  https://www.youtube.com/watch?v=zzNdwF40ID8  \n",
              "\n",
              "[5520 rows x 10 columns]"
            ],
            "text/html": [
              "\n",
              "  <div id=\"df-9dfe5f41-c1b4-4019-96e8-06b2dfd9020e\">\n",
              "    <div class=\"colab-df-container\">\n",
              "      <div>\n",
              "<style scoped>\n",
              "    .dataframe tbody tr th:only-of-type {\n",
              "        vertical-align: middle;\n",
              "    }\n",
              "\n",
              "    .dataframe tbody tr th {\n",
              "        vertical-align: top;\n",
              "    }\n",
              "\n",
              "    .dataframe thead th {\n",
              "        text-align: right;\n",
              "    }\n",
              "</style>\n",
              "<table border=\"1\" class=\"dataframe\">\n",
              "  <thead>\n",
              "    <tr style=\"text-align: right;\">\n",
              "      <th></th>\n",
              "      <th>ytid</th>\n",
              "      <th>start_s</th>\n",
              "      <th>end_s</th>\n",
              "      <th>audioset_positive_labels</th>\n",
              "      <th>aspect_list</th>\n",
              "      <th>caption</th>\n",
              "      <th>author_id</th>\n",
              "      <th>is_balanced_subset</th>\n",
              "      <th>is_audioset_eval</th>\n",
              "      <th>urls</th>\n",
              "    </tr>\n",
              "  </thead>\n",
              "  <tbody>\n",
              "    <tr>\n",
              "      <th>0</th>\n",
              "      <td>-0Gj8-vB1q4</td>\n",
              "      <td>30</td>\n",
              "      <td>40</td>\n",
              "      <td>/m/0140xf,/m/02cjck,/m/04rlf</td>\n",
              "      <td>['low quality', 'sustained strings melody', 's...</td>\n",
              "      <td>The low quality recording features a ballad so...</td>\n",
              "      <td>4</td>\n",
              "      <td>False</td>\n",
              "      <td>True</td>\n",
              "      <td>https://www.youtube.com/watch?v=-0Gj8-vB1q4</td>\n",
              "    </tr>\n",
              "    <tr>\n",
              "      <th>1</th>\n",
              "      <td>-0SdAVK79lg</td>\n",
              "      <td>30</td>\n",
              "      <td>40</td>\n",
              "      <td>/m/0155w,/m/01lyv,/m/0342h,/m/042v_gx,/m/04rlf...</td>\n",
              "      <td>['guitar song', 'piano backing', 'simple percu...</td>\n",
              "      <td>This song features an electric guitar as the m...</td>\n",
              "      <td>0</td>\n",
              "      <td>False</td>\n",
              "      <td>False</td>\n",
              "      <td>https://www.youtube.com/watch?v=-0SdAVK79lg</td>\n",
              "    </tr>\n",
              "    <tr>\n",
              "      <th>2</th>\n",
              "      <td>-0vPFx-wRRI</td>\n",
              "      <td>30</td>\n",
              "      <td>40</td>\n",
              "      <td>/m/025_jnm,/m/04rlf</td>\n",
              "      <td>['amateur recording', 'finger snipping', 'male...</td>\n",
              "      <td>a male voice is singing a melody with changing...</td>\n",
              "      <td>6</td>\n",
              "      <td>False</td>\n",
              "      <td>True</td>\n",
              "      <td>https://www.youtube.com/watch?v=-0vPFx-wRRI</td>\n",
              "    </tr>\n",
              "    <tr>\n",
              "      <th>3</th>\n",
              "      <td>-0xzrMun0Rs</td>\n",
              "      <td>30</td>\n",
              "      <td>40</td>\n",
              "      <td>/m/01g90h,/m/04rlf</td>\n",
              "      <td>['backing track', 'jazzy', 'digital drums', 'p...</td>\n",
              "      <td>This song contains digital drums playing a sim...</td>\n",
              "      <td>6</td>\n",
              "      <td>False</td>\n",
              "      <td>True</td>\n",
              "      <td>https://www.youtube.com/watch?v=-0xzrMun0Rs</td>\n",
              "    </tr>\n",
              "    <tr>\n",
              "      <th>4</th>\n",
              "      <td>-1LrH01Ei1w</td>\n",
              "      <td>30</td>\n",
              "      <td>40</td>\n",
              "      <td>/m/02p0sh1,/m/04rlf</td>\n",
              "      <td>['rubab instrument', 'repetitive melody on dif...</td>\n",
              "      <td>This song features a rubber instrument being p...</td>\n",
              "      <td>0</td>\n",
              "      <td>False</td>\n",
              "      <td>False</td>\n",
              "      <td>https://www.youtube.com/watch?v=-1LrH01Ei1w</td>\n",
              "    </tr>\n",
              "    <tr>\n",
              "      <th>...</th>\n",
              "      <td>...</td>\n",
              "      <td>...</td>\n",
              "      <td>...</td>\n",
              "      <td>...</td>\n",
              "      <td>...</td>\n",
              "      <td>...</td>\n",
              "      <td>...</td>\n",
              "      <td>...</td>\n",
              "      <td>...</td>\n",
              "      <td>...</td>\n",
              "    </tr>\n",
              "    <tr>\n",
              "      <th>5516</th>\n",
              "      <td>zw5dkiklbhE</td>\n",
              "      <td>15</td>\n",
              "      <td>25</td>\n",
              "      <td>/m/01sm1g,/m/0l14md</td>\n",
              "      <td>['amateur recording', 'percussion', 'wooden bo...</td>\n",
              "      <td>This audio contains someone playing a wooden b...</td>\n",
              "      <td>6</td>\n",
              "      <td>False</td>\n",
              "      <td>False</td>\n",
              "      <td>https://www.youtube.com/watch?v=zw5dkiklbhE</td>\n",
              "    </tr>\n",
              "    <tr>\n",
              "      <th>5517</th>\n",
              "      <td>zwfo7wnXdjs</td>\n",
              "      <td>30</td>\n",
              "      <td>40</td>\n",
              "      <td>/m/02p0sh1,/m/04rlf,/m/06j64v</td>\n",
              "      <td>['instrumental music', 'arabic music', 'genera...</td>\n",
              "      <td>The song is an instrumental. The song is mediu...</td>\n",
              "      <td>1</td>\n",
              "      <td>True</td>\n",
              "      <td>True</td>\n",
              "      <td>https://www.youtube.com/watch?v=zwfo7wnXdjs</td>\n",
              "    </tr>\n",
              "    <tr>\n",
              "      <th>5518</th>\n",
              "      <td>zx_vcwOsDO4</td>\n",
              "      <td>50</td>\n",
              "      <td>60</td>\n",
              "      <td>/m/01glhc,/m/02sgy,/m/0342h,/m/03lty,/m/04rlf,...</td>\n",
              "      <td>['instrumental', 'no voice', 'electric guitar'...</td>\n",
              "      <td>The rock music is purely instrumental and feat...</td>\n",
              "      <td>2</td>\n",
              "      <td>True</td>\n",
              "      <td>True</td>\n",
              "      <td>https://www.youtube.com/watch?v=zx_vcwOsDO4</td>\n",
              "    </tr>\n",
              "    <tr>\n",
              "      <th>5519</th>\n",
              "      <td>zyXa2tdBTGc</td>\n",
              "      <td>30</td>\n",
              "      <td>40</td>\n",
              "      <td>/m/04rlf,/t/dd00034</td>\n",
              "      <td>['instrumental music', 'gospel music', 'strong...</td>\n",
              "      <td>The song is an instrumental. The song is slow ...</td>\n",
              "      <td>1</td>\n",
              "      <td>False</td>\n",
              "      <td>False</td>\n",
              "      <td>https://www.youtube.com/watch?v=zyXa2tdBTGc</td>\n",
              "    </tr>\n",
              "    <tr>\n",
              "      <th>5520</th>\n",
              "      <td>zzNdwF40ID8</td>\n",
              "      <td>70</td>\n",
              "      <td>80</td>\n",
              "      <td>/m/04rlf,/m/0790c</td>\n",
              "      <td>['glitch', 'noise', 'instrumental', 'electroni...</td>\n",
              "      <td>This is a glitch music piece. There is a synth...</td>\n",
              "      <td>9</td>\n",
              "      <td>True</td>\n",
              "      <td>True</td>\n",
              "      <td>https://www.youtube.com/watch?v=zzNdwF40ID8</td>\n",
              "    </tr>\n",
              "  </tbody>\n",
              "</table>\n",
              "<p>5520 rows × 10 columns</p>\n",
              "</div>\n",
              "      <button class=\"colab-df-convert\" onclick=\"convertToInteractive('df-9dfe5f41-c1b4-4019-96e8-06b2dfd9020e')\"\n",
              "              title=\"Convert this dataframe to an interactive table.\"\n",
              "              style=\"display:none;\">\n",
              "        \n",
              "  <svg xmlns=\"http://www.w3.org/2000/svg\" height=\"24px\"viewBox=\"0 0 24 24\"\n",
              "       width=\"24px\">\n",
              "    <path d=\"M0 0h24v24H0V0z\" fill=\"none\"/>\n",
              "    <path d=\"M18.56 5.44l.94 2.06.94-2.06 2.06-.94-2.06-.94-.94-2.06-.94 2.06-2.06.94zm-11 1L8.5 8.5l.94-2.06 2.06-.94-2.06-.94L8.5 2.5l-.94 2.06-2.06.94zm10 10l.94 2.06.94-2.06 2.06-.94-2.06-.94-.94-2.06-.94 2.06-2.06.94z\"/><path d=\"M17.41 7.96l-1.37-1.37c-.4-.4-.92-.59-1.43-.59-.52 0-1.04.2-1.43.59L10.3 9.45l-7.72 7.72c-.78.78-.78 2.05 0 2.83L4 21.41c.39.39.9.59 1.41.59.51 0 1.02-.2 1.41-.59l7.78-7.78 2.81-2.81c.8-.78.8-2.07 0-2.86zM5.41 20L4 18.59l7.72-7.72 1.47 1.35L5.41 20z\"/>\n",
              "  </svg>\n",
              "      </button>\n",
              "      \n",
              "  <style>\n",
              "    .colab-df-container {\n",
              "      display:flex;\n",
              "      flex-wrap:wrap;\n",
              "      gap: 12px;\n",
              "    }\n",
              "\n",
              "    .colab-df-convert {\n",
              "      background-color: #E8F0FE;\n",
              "      border: none;\n",
              "      border-radius: 50%;\n",
              "      cursor: pointer;\n",
              "      display: none;\n",
              "      fill: #1967D2;\n",
              "      height: 32px;\n",
              "      padding: 0 0 0 0;\n",
              "      width: 32px;\n",
              "    }\n",
              "\n",
              "    .colab-df-convert:hover {\n",
              "      background-color: #E2EBFA;\n",
              "      box-shadow: 0px 1px 2px rgba(60, 64, 67, 0.3), 0px 1px 3px 1px rgba(60, 64, 67, 0.15);\n",
              "      fill: #174EA6;\n",
              "    }\n",
              "\n",
              "    [theme=dark] .colab-df-convert {\n",
              "      background-color: #3B4455;\n",
              "      fill: #D2E3FC;\n",
              "    }\n",
              "\n",
              "    [theme=dark] .colab-df-convert:hover {\n",
              "      background-color: #434B5C;\n",
              "      box-shadow: 0px 1px 3px 1px rgba(0, 0, 0, 0.15);\n",
              "      filter: drop-shadow(0px 1px 2px rgba(0, 0, 0, 0.3));\n",
              "      fill: #FFFFFF;\n",
              "    }\n",
              "  </style>\n",
              "\n",
              "      <script>\n",
              "        const buttonEl =\n",
              "          document.querySelector('#df-9dfe5f41-c1b4-4019-96e8-06b2dfd9020e button.colab-df-convert');\n",
              "        buttonEl.style.display =\n",
              "          google.colab.kernel.accessAllowed ? 'block' : 'none';\n",
              "\n",
              "        async function convertToInteractive(key) {\n",
              "          const element = document.querySelector('#df-9dfe5f41-c1b4-4019-96e8-06b2dfd9020e');\n",
              "          const dataTable =\n",
              "            await google.colab.kernel.invokeFunction('convertToInteractive',\n",
              "                                                     [key], {});\n",
              "          if (!dataTable) return;\n",
              "\n",
              "          const docLinkHtml = 'Like what you see? Visit the ' +\n",
              "            '<a target=\"_blank\" href=https://colab.research.google.com/notebooks/data_table.ipynb>data table notebook</a>'\n",
              "            + ' to learn more about interactive tables.';\n",
              "          element.innerHTML = '';\n",
              "          dataTable['output_type'] = 'display_data';\n",
              "          await google.colab.output.renderOutput(dataTable, element);\n",
              "          const docLink = document.createElement('div');\n",
              "          docLink.innerHTML = docLinkHtml;\n",
              "          element.appendChild(docLink);\n",
              "        }\n",
              "      </script>\n",
              "    </div>\n",
              "  </div>\n",
              "  "
            ]
          },
          "metadata": {},
          "execution_count": 37
        }
      ]
    }
  ]
}